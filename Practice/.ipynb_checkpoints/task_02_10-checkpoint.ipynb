{
 "cells": [
  {
   "cell_type": "code",
   "execution_count": null,
   "id": "5b21c154",
   "metadata": {},
   "outputs": [],
   "source": [
    "# Даны квартальные прибыли акции Johnson&Johnson с 1960-1980 гг. Есть ли различия прибыли между 4-мя кварталами?\n",
    "# Провести EDA (проверка на нормальность, проверка на однородность дисперсий с помощью Барлетт теста from scipy.stats import bartlett)\n",
    "# Учитывайте при выборе теста тот факт, что при сбалансированных данных (выборки одинакового объема), неоднородность дисперсий слабо влияет на результат)"
   ]
  },
  {
   "cell_type": "code",
   "execution_count": 36,
   "id": "22be3397",
   "metadata": {},
   "outputs": [],
   "source": [
    "import numpy as np\n",
    "import matplotlib.pyplot as plt\n",
    "import scipy.stats as stat"
   ]
  },
  {
   "cell_type": "code",
   "execution_count": 5,
   "id": "0e93f3c5",
   "metadata": {},
   "outputs": [],
   "source": [
    "JJ_1=np.array([0.71, 0.63, 0.85, 0.44, 0.61, 0.69, 0.92, 0.55, 0.72, 0.77, 0.92, 0.60, 0.83, 0.80, 1.00, 0.77, 0.92, 1.00, 1.24, 1.00, 1.16 ])\n",
    "JJ_2=np.array([1.30, 1.45, 1.25, 1.26, 1.38, 1.86, 1.56, 1.53, 1.59, 1.83, 1.86, 1.53, 2.07, 2.34, 2.25, 2.16, 2.43, 2.70, 2.25, 2.79, 3.42 ])\n",
    "JJ_3=np.array([3.69, 3.60, 3.60, 4.32, 4.32, 4.05, 4.86, 5.04, 5.04, 4.41, 5.58, 5.85, 6.57, 5.31, 6.03, 6.39, 6.93, 5.85, 6.93, 7.74, 7.83])\n",
    "JJ_4=np.array([6.12, 7.74, 8.91, 8.28, 6.84, 9.54, 10.26, 9.54, 8.73, 11.88, 12.06, 12.15, 8.91, 14.04, 12.96, 14.85, 9.99, 16.20, 14.67, 16.02, 11.61 ])"
   ]
  },
  {
   "cell_type": "code",
   "execution_count": 6,
   "id": "92c3c969",
   "metadata": {},
   "outputs": [
    {
     "data": {
      "image/png": "[encoded data removed]",
      "text/plain": [
       "<Figure size 640x480 with 1 Axes>"
      ]
     },
     "metadata": {},
     "output_type": "display_data"
    }
   ],
   "source": [
    "plt.scatter(JJ_1, JJ_2, JJ_3, JJ_4)\n",
    "plt.show()"
   ]
  },
  {
   "cell_type": "code",
   "execution_count": 16,
   "id": "44422f3e",
   "metadata": {},
   "outputs": [
    {
     "data": {
      "text/plain": [
       "ShapiroResult(statistic=0.9837694764137268, pvalue=0.9688350558280945)"
      ]
     },
     "execution_count": 16,
     "metadata": {},
     "output_type": "execute_result"
    }
   ],
   "source": [
    "# проверка на нормальность\n",
    "stat.shapiro(JJ_1)"
   ]
  },
  {
   "cell_type": "code",
   "execution_count": 18,
   "id": "28bc2398",
   "metadata": {},
   "outputs": [
    {
     "data": {
      "text/plain": [
       "ShapiroResult(statistic=0.9252575635910034, pvalue=0.11057926714420319)"
      ]
     },
     "execution_count": 18,
     "metadata": {},
     "output_type": "execute_result"
    }
   ],
   "source": [
    "# проверка на нормальность\n",
    "stat.shapiro(JJ_2)"
   ]
  },
  {
   "cell_type": "code",
   "execution_count": 19,
   "id": "dd08579f",
   "metadata": {},
   "outputs": [
    {
     "data": {
      "text/plain": [
       "ShapiroResult(statistic=0.9523218274116516, pvalue=0.37654614448547363)"
      ]
     },
     "execution_count": 19,
     "metadata": {},
     "output_type": "execute_result"
    }
   ],
   "source": [
    "# проверка на нормальность\n",
    "stat.shapiro(JJ_3)"
   ]
  },
  {
   "cell_type": "code",
   "execution_count": 20,
   "id": "c47cd130",
   "metadata": {},
   "outputs": [
    {
     "data": {
      "text/plain": [
       "ShapiroResult(statistic=0.9590807557106018, pvalue=0.49780404567718506)"
      ]
     },
     "execution_count": 20,
     "metadata": {},
     "output_type": "execute_result"
    }
   ],
   "source": [
    "# проверка на нормальность\n",
    "stat.shapiro(JJ_4)"
   ]
  },
  {
   "cell_type": "code",
   "execution_count": null,
   "id": "e9490859",
   "metadata": {},
   "outputs": [],
   "source": [
    "# pValue > alpha (1-5%) = > распределение нормальное, рассматриваем параметрический критерии"
   ]
  },
  {
   "cell_type": "code",
   "execution_count": 22,
   "id": "7aead1ab",
   "metadata": {},
   "outputs": [
    {
     "data": {
      "text/plain": [
       "BartlettResult(statistic=109.62893110687119, pvalue=1.3188378332498392e-23)"
      ]
     },
     "execution_count": 22,
     "metadata": {},
     "output_type": "execute_result"
    }
   ],
   "source": [
    "# больше двух групп = критерий Фишера\n",
    "# выборки независимая, проверяем равенство дисперсий - функция бартлет\n",
    "stat.bartlett(JJ_1, JJ_2, JJ_3, JJ_4)"
   ]
  },
  {
   "cell_type": "code",
   "execution_count": 26,
   "id": "02ad6d14",
   "metadata": {},
   "outputs": [
    {
     "data": {
      "text/plain": [
       "21"
      ]
     },
     "execution_count": 26,
     "metadata": {},
     "output_type": "execute_result"
    }
   ],
   "source": [
    "# pValue очень маленькое, H0 отвергается, дисперсии не равны\n",
    "# можем пренебречь неравенством дисперсий если выборки равные:\n",
    "len(JJ_1)\n",
    "len(JJ_2)\n",
    "len(JJ_3)\n",
    "len(JJ_4)\n",
    "# берем функцию для однофакторного дисп.анализа (фактор - квартал)"
   ]
  },
  {
   "cell_type": "code",
   "execution_count": 28,
   "id": "63d17595",
   "metadata": {},
   "outputs": [
    {
     "data": {
      "text/plain": [
       "F_onewayResult(statistic=162.03157448390618, pvalue=6.813074435306209e-34)"
      ]
     },
     "execution_count": 28,
     "metadata": {},
     "output_type": "execute_result"
    }
   ],
   "source": [
    "stat.f_oneway(JJ_1, JJ_2, JJ_3, JJ_4)"
   ]
  },
  {
   "cell_type": "code",
   "execution_count": null,
   "id": "3ac1096f",
   "metadata": {},
   "outputs": [],
   "source": [
    "# pValue очень маленькое, H0 отвергается, различия есть"
   ]
  },
  {
   "cell_type": "code",
   "execution_count": null,
   "id": "c05822af",
   "metadata": {},
   "outputs": [],
   "source": [
    "# если мы не пренебрегаем неравенством дисперсий, то можем применить непараметрический критерий 4х  независимых выборок:"
   ]
  },
  {
   "cell_type": "code",
   "execution_count": 29,
   "id": "6efc9eee",
   "metadata": {},
   "outputs": [
    {
     "data": {
      "text/plain": [
       "KruskalResult(statistic=77.04853477998796, pvalue=1.318184789753617e-16)"
      ]
     },
     "execution_count": 29,
     "metadata": {},
     "output_type": "execute_result"
    }
   ],
   "source": [
    "stat.kruskal(JJ_1, JJ_2, JJ_3, JJ_4)"
   ]
  },
  {
   "cell_type": "code",
   "execution_count": null,
   "id": "44cd5290",
   "metadata": {},
   "outputs": [],
   "source": [
    "# pValue очень маленькое, H0 отвергается, различия есть"
   ]
  },
  {
   "cell_type": "code",
   "execution_count": 39,
   "id": "8deb9737",
   "metadata": {},
   "outputs": [],
   "source": [
    "from statsmodels.stats.multicomp import pairwise_tukeyhsd\n",
    "import pandas as pd"
   ]
  },
  {
   "cell_type": "code",
   "execution_count": 40,
   "id": "02d6aa60",
   "metadata": {},
   "outputs": [
    {
     "data": {
      "text/html": [
       "<div>\n",
       "<style scoped>\n",
       "    .dataframe tbody tr th:only-of-type {\n",
       "        vertical-align: middle;\n",
       "    }\n",
       "\n",
       "    .dataframe tbody tr th {\n",
       "        vertical-align: top;\n",
       "    }\n",
       "\n",
       "    .dataframe thead th {\n",
       "        text-align: right;\n",
       "    }\n",
       "</style>\n",
       "<table border=\"1\" class=\"dataframe\">\n",
       "  <thead>\n",
       "    <tr style=\"text-align: right;\">\n",
       "      <th></th>\n",
       "      <th>score</th>\n",
       "      <th>group</th>\n",
       "    </tr>\n",
       "  </thead>\n",
       "  <tbody>\n",
       "    <tr>\n",
       "      <th>0</th>\n",
       "      <td>0.71</td>\n",
       "      <td>JJ_1</td>\n",
       "    </tr>\n",
       "    <tr>\n",
       "      <th>1</th>\n",
       "      <td>0.63</td>\n",
       "      <td>JJ_1</td>\n",
       "    </tr>\n",
       "    <tr>\n",
       "      <th>2</th>\n",
       "      <td>0.85</td>\n",
       "      <td>JJ_1</td>\n",
       "    </tr>\n",
       "    <tr>\n",
       "      <th>3</th>\n",
       "      <td>0.44</td>\n",
       "      <td>JJ_1</td>\n",
       "    </tr>\n",
       "    <tr>\n",
       "      <th>4</th>\n",
       "      <td>0.61</td>\n",
       "      <td>JJ_1</td>\n",
       "    </tr>\n",
       "    <tr>\n",
       "      <th>...</th>\n",
       "      <td>...</td>\n",
       "      <td>...</td>\n",
       "    </tr>\n",
       "    <tr>\n",
       "      <th>79</th>\n",
       "      <td>9.99</td>\n",
       "      <td>JJ_4</td>\n",
       "    </tr>\n",
       "    <tr>\n",
       "      <th>80</th>\n",
       "      <td>16.20</td>\n",
       "      <td>JJ_4</td>\n",
       "    </tr>\n",
       "    <tr>\n",
       "      <th>81</th>\n",
       "      <td>14.67</td>\n",
       "      <td>JJ_4</td>\n",
       "    </tr>\n",
       "    <tr>\n",
       "      <th>82</th>\n",
       "      <td>16.02</td>\n",
       "      <td>JJ_4</td>\n",
       "    </tr>\n",
       "    <tr>\n",
       "      <th>83</th>\n",
       "      <td>11.61</td>\n",
       "      <td>JJ_4</td>\n",
       "    </tr>\n",
       "  </tbody>\n",
       "</table>\n",
       "<p>84 rows × 2 columns</p>\n",
       "</div>"
      ],
      "text/plain": [
       "    score group\n",
       "0    0.71  JJ_1\n",
       "1    0.63  JJ_1\n",
       "2    0.85  JJ_1\n",
       "3    0.44  JJ_1\n",
       "4    0.61  JJ_1\n",
       "..    ...   ...\n",
       "79   9.99  JJ_4\n",
       "80  16.20  JJ_4\n",
       "81  14.67  JJ_4\n",
       "82  16.02  JJ_4\n",
       "83  11.61  JJ_4\n",
       "\n",
       "[84 rows x 2 columns]"
      ]
     },
     "execution_count": 40,
     "metadata": {},
     "output_type": "execute_result"
    }
   ],
   "source": [
    "df = pd.DataFrame({\"score\": [0.71, 0.63, 0.85, 0.44, 0.61, 0.69, 0.92, 0.55, 0.72, 0.77, 0.92, 0.60, 0.83, 0.80, 1.00, 0.77, 0.92, 1.00, 1.24, 1.00, 1.16,\n",
    "1.30, 1.45, 1.25, 1.26, 1.38, 1.86, 1.56, 1.53, 1.59, 1.83, 1.86, 1.53, 2.07, 2.34, 2.25, 2.16, 2.43, 2.70, 2.25, 2.79, 3.42,\n",
    "3.69, 3.60, 3.60, 4.32, 4.32, 4.05, 4.86, 5.04, 5.04, 4.41, 5.58, 5.85, 6.57, 5.31, 6.03, 6.39, 6.93, 5.85, 6.93, 7.74, 7.83,\n",
    "6.12, 7.74, 8.91, 8.28, 6.84, 9.54, 10.26, 9.54, 8.73, 11.88, 12.06, 12.15, 8.91, 14.04, 12.96, 14.85, 9.99, 16.20, 14.67, 16.02, 11.61],\n",
    "\"group\": np.repeat([\"JJ_1\",\"JJ_2\",\"JJ_3\",\"JJ_4\"], repeats=21)})\n",
    "df"
   ]
  },
  {
   "cell_type": "code",
   "execution_count": 45,
   "id": "cd34c9b9",
   "metadata": {},
   "outputs": [
    {
     "name": "stdout",
     "output_type": "stream",
     "text": [
      "Multiple Comparison of Means - Tukey HSD, FWER=0.05 \n",
      "====================================================\n",
      "group1 group2 meandiff p-adj   lower   upper  reject\n",
      "----------------------------------------------------\n",
      "  JJ_1   JJ_2   1.1276 0.1282 -0.2087   2.464  False\n",
      "  JJ_1   JJ_3     4.61    0.0  3.2737  5.9463   True\n",
      "  JJ_1   JJ_4  10.1986    0.0  8.8622 11.5349   True\n",
      "  JJ_2   JJ_3   3.4824    0.0   2.146  4.8187   True\n",
      "  JJ_2   JJ_4    9.071    0.0  7.7346 10.4073   True\n",
      "  JJ_3   JJ_4   5.5886    0.0  4.2522  6.9249   True\n",
      "----------------------------------------------------\n"
     ]
    }
   ],
   "source": [
    "tukey = pairwise_tukeyhsd(df['score'], df['group'], alpha = 0.05)\n",
    "print(tukey)"
   ]
  },
  {
   "cell_type": "code",
   "execution_count": null,
   "id": "9a96db87",
   "metadata": {},
   "outputs": [],
   "source": [
    "# по последнему столбцу - нет различий между группами 1 и 2, между остальными есть"
   ]
  }
 ],
 "metadata": {
  "kernelspec": {
   "display_name": "Python 3 (ipykernel)",
   "language": "python",
   "name": "python3"
  },
  "language_info": {
   "codemirror_mode": {
    "name": "ipython",
    "version": 3
   },
   "file_extension": ".py",
   "mimetype": "text/x-python",
   "name": "python",
   "nbconvert_exporter": "python",
   "pygments_lexer": "ipython3",
   "version": "3.11.2"
  }
 },
 "nbformat": 4,
 "nbformat_minor": 5
}
