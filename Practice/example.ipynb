{
 "cells": [
  {
   "cell_type": "markdown",
   "metadata": {},
   "source": [
    "**Подключение библиотек и скриптов**"
   ]
  },
  {
   "cell_type": "code",
   "execution_count": 2,
   "metadata": {
    "execution": {
     "iopub.execute_input": "2021-11-02T18:55:57.077497Z",
     "iopub.status.busy": "2021-11-02T18:55:57.07717Z",
     "iopub.status.idle": "2021-11-02T18:55:57.525521Z",
     "shell.execute_reply": "2021-11-02T18:55:57.524699Z",
     "shell.execute_reply.started": "2021-11-02T18:55:57.077453Z"
    }
   },
   "outputs": [],
   "source": [
    "import numpy as np\n",
    "import pandas as pd\n",
    "import random\n",
    "\n",
    "from sklearn.model_selection import train_test_split, cross_val_score\n",
    "from sklearn.metrics import r2_score as r2\n",
    "from sklearn.ensemble import RandomForestRegressor\n",
    "from sklearn.model_selection import KFold, GridSearchCV\n",
    "from datetime import datetime\n",
    "\n",
    "import matplotlib\n",
    "import matplotlib.pyplot as plt\n",
    "import seaborn as sns\n",
    "%matplotlib inline"
   ]
  },
  {
   "cell_type": "code",
   "execution_count": 3,
   "metadata": {
    "execution": {
     "iopub.execute_input": "2021-11-02T18:55:57.526939Z",
     "iopub.status.busy": "2021-11-02T18:55:57.526542Z",
     "iopub.status.idle": "2021-11-02T18:55:57.530719Z",
     "shell.execute_reply": "2021-11-02T18:55:57.529883Z",
     "shell.execute_reply.started": "2021-11-02T18:55:57.526911Z"
    }
   },
   "outputs": [],
   "source": [
    "import warnings\n",
    "warnings.filterwarnings('ignore')"
   ]
  },
  {
   "cell_type": "code",
   "execution_count": 4,
   "metadata": {
    "execution": {
     "iopub.execute_input": "2021-11-02T18:55:57.532144Z",
     "iopub.status.busy": "2021-11-02T18:55:57.531878Z",
     "iopub.status.idle": "2021-11-02T18:55:57.54481Z",
     "shell.execute_reply": "2021-11-02T18:55:57.544006Z",
     "shell.execute_reply.started": "2021-11-02T18:55:57.532115Z"
    }
   },
   "outputs": [],
   "source": [
    "matplotlib.rcParams.update({'font.size': 14})"
   ]
  },
  {
   "cell_type": "code",
   "execution_count": 5,
   "metadata": {
    "execution": {
     "iopub.execute_input": "2021-11-02T18:55:57.546178Z",
     "iopub.status.busy": "2021-11-02T18:55:57.545797Z",
     "iopub.status.idle": "2021-11-02T18:55:57.558338Z",
     "shell.execute_reply": "2021-11-02T18:55:57.557616Z",
     "shell.execute_reply.started": "2021-11-02T18:55:57.546148Z"
    }
   },
   "outputs": [],
   "source": [
    "def evaluate_preds(train_true_values, train_pred_values, test_true_values, test_pred_values):\n",
    "    print(\"Train R2:\\t\" + str(round(r2(train_true_values, train_pred_values), 3)))\n",
    "    print(\"Test R2:\\t\" + str(round(r2(test_true_values, test_pred_values), 3)))\n",
    "    \n",
    "    plt.figure(figsize=(18,10))\n",
    "    \n",
    "    plt.subplot(121)\n",
    "    sns.scatterplot(x=train_pred_values, y=train_true_values)\n",
    "    plt.xlabel('Predicted values')\n",
    "    plt.ylabel('True values')\n",
    "    plt.title('Train sample prediction')\n",
    "    \n",
    "    plt.subplot(122)\n",
    "    sns.scatterplot(x=test_pred_values, y=test_true_values)\n",
    "    plt.xlabel('Predicted values')\n",
    "    plt.ylabel('True values')\n",
    "    plt.title('Test sample prediction')\n",
    "\n",
    "    plt.show()"
   ]
  },
  {
   "cell_type": "markdown",
   "metadata": {},
   "source": [
    "**Пути к директориям и файлам**"
   ]
  },
  {
   "cell_type": "code",
   "execution_count": 6,
   "metadata": {
    "execution": {
     "iopub.execute_input": "2021-11-02T18:55:57.561222Z",
     "iopub.status.busy": "2021-11-02T18:55:57.560841Z",
     "iopub.status.idle": "2021-11-02T18:55:57.575331Z",
     "shell.execute_reply": "2021-11-02T18:55:57.574244Z",
     "shell.execute_reply.started": "2021-11-02T18:55:57.561193Z"
    }
   },
   "outputs": [],
   "source": [
    "TRAIN_DATASET_PATH = 'train.csv'\n",
    "TEST_DATASET_PATH = 'test.csv'"
   ]
  },
  {
   "cell_type": "markdown",
   "metadata": {},
   "source": [
    "### Загрузка данных <a class='anchor' id='load'>"
   ]
  },
  {
   "cell_type": "markdown",
   "metadata": {},
   "source": [
    "**Описание датасета**\n",
    "\n",
    "* **Id** - идентификационный номер квартиры\n",
    "* **DistrictId** - идентификационный номер района\n",
    "* **Rooms** - количество комнат\n",
    "* **Square** - площадь\n",
    "* **LifeSquare** - жилая площадь\n",
    "* **KitchenSquare** - площадь кухни\n",
    "* **Floor** - этаж\n",
    "* **HouseFloor** - количество этажей в доме\n",
    "* **HouseYear** - год постройки дома\n",
    "* **Ecology_1, Ecology_2, Ecology_3** - экологические показатели местности\n",
    "* **Social_1, Social_2, Social_3** - социальные показатели местности\n",
    "* **Healthcare_1, Helthcare_2** - показатели местности, связанные с охраной здоровья\n",
    "* **Shops_1, Shops_2** - показатели, связанные с наличием магазинов, торговых центров\n",
    "* **Price** - цена квартиры"
   ]
  },
  {
   "cell_type": "code",
   "execution_count": 39,
   "metadata": {
    "execution": {
     "iopub.execute_input": "2021-11-02T18:55:57.578123Z",
     "iopub.status.busy": "2021-11-02T18:55:57.577713Z",
     "iopub.status.idle": "2021-11-02T18:55:57.634618Z",
     "shell.execute_reply": "2021-11-02T18:55:57.633412Z",
     "shell.execute_reply.started": "2021-11-02T18:55:57.578093Z"
    }
   },
   "outputs": [
    {
     "data": {
      "text/html": [
       "<div>\n",
       "<style scoped>\n",
       "    .dataframe tbody tr th:only-of-type {\n",
       "        vertical-align: middle;\n",
       "    }\n",
       "\n",
       "    .dataframe tbody tr th {\n",
       "        vertical-align: top;\n",
       "    }\n",
       "\n",
       "    .dataframe thead th {\n",
       "        text-align: right;\n",
       "    }\n",
       "</style>\n",
       "<table border=\"1\" class=\"dataframe\">\n",
       "  <thead>\n",
       "    <tr style=\"text-align: right;\">\n",
       "      <th></th>\n",
       "      <th>Id</th>\n",
       "      <th>DistrictId</th>\n",
       "      <th>Rooms</th>\n",
       "      <th>Square</th>\n",
       "      <th>LifeSquare</th>\n",
       "      <th>KitchenSquare</th>\n",
       "      <th>Floor</th>\n",
       "      <th>HouseFloor</th>\n",
       "      <th>HouseYear</th>\n",
       "      <th>Ecology_1</th>\n",
       "      <th>Ecology_2</th>\n",
       "      <th>Ecology_3</th>\n",
       "      <th>Social_1</th>\n",
       "      <th>Social_2</th>\n",
       "      <th>Social_3</th>\n",
       "      <th>Healthcare_1</th>\n",
       "      <th>Helthcare_2</th>\n",
       "      <th>Shops_1</th>\n",
       "      <th>Shops_2</th>\n",
       "      <th>Price</th>\n",
       "    </tr>\n",
       "  </thead>\n",
       "  <tbody>\n",
       "    <tr>\n",
       "      <th>0</th>\n",
       "      <td>11809</td>\n",
       "      <td>27</td>\n",
       "      <td>3.0</td>\n",
       "      <td>115.027311</td>\n",
       "      <td>NaN</td>\n",
       "      <td>10.0</td>\n",
       "      <td>4</td>\n",
       "      <td>10.0</td>\n",
       "      <td>2014</td>\n",
       "      <td>0.075424</td>\n",
       "      <td>B</td>\n",
       "      <td>B</td>\n",
       "      <td>11</td>\n",
       "      <td>3097</td>\n",
       "      <td>0</td>\n",
       "      <td>NaN</td>\n",
       "      <td>0</td>\n",
       "      <td>0</td>\n",
       "      <td>B</td>\n",
       "      <td>305018.871089</td>\n",
       "    </tr>\n",
       "    <tr>\n",
       "      <th>1</th>\n",
       "      <td>3013</td>\n",
       "      <td>22</td>\n",
       "      <td>1.0</td>\n",
       "      <td>39.832524</td>\n",
       "      <td>23.169223</td>\n",
       "      <td>8.0</td>\n",
       "      <td>7</td>\n",
       "      <td>8.0</td>\n",
       "      <td>1966</td>\n",
       "      <td>0.118537</td>\n",
       "      <td>B</td>\n",
       "      <td>B</td>\n",
       "      <td>30</td>\n",
       "      <td>6207</td>\n",
       "      <td>1</td>\n",
       "      <td>1183.0</td>\n",
       "      <td>1</td>\n",
       "      <td>0</td>\n",
       "      <td>B</td>\n",
       "      <td>177734.553407</td>\n",
       "    </tr>\n",
       "    <tr>\n",
       "      <th>2</th>\n",
       "      <td>8215</td>\n",
       "      <td>1</td>\n",
       "      <td>3.0</td>\n",
       "      <td>78.342215</td>\n",
       "      <td>47.671972</td>\n",
       "      <td>10.0</td>\n",
       "      <td>2</td>\n",
       "      <td>17.0</td>\n",
       "      <td>1988</td>\n",
       "      <td>0.025609</td>\n",
       "      <td>B</td>\n",
       "      <td>B</td>\n",
       "      <td>33</td>\n",
       "      <td>5261</td>\n",
       "      <td>0</td>\n",
       "      <td>240.0</td>\n",
       "      <td>3</td>\n",
       "      <td>1</td>\n",
       "      <td>B</td>\n",
       "      <td>282078.720850</td>\n",
       "    </tr>\n",
       "    <tr>\n",
       "      <th>3</th>\n",
       "      <td>2352</td>\n",
       "      <td>1</td>\n",
       "      <td>1.0</td>\n",
       "      <td>40.409907</td>\n",
       "      <td>NaN</td>\n",
       "      <td>1.0</td>\n",
       "      <td>10</td>\n",
       "      <td>22.0</td>\n",
       "      <td>1977</td>\n",
       "      <td>0.007122</td>\n",
       "      <td>B</td>\n",
       "      <td>B</td>\n",
       "      <td>1</td>\n",
       "      <td>264</td>\n",
       "      <td>0</td>\n",
       "      <td>NaN</td>\n",
       "      <td>0</td>\n",
       "      <td>1</td>\n",
       "      <td>B</td>\n",
       "      <td>168106.007630</td>\n",
       "    </tr>\n",
       "    <tr>\n",
       "      <th>4</th>\n",
       "      <td>13866</td>\n",
       "      <td>94</td>\n",
       "      <td>2.0</td>\n",
       "      <td>64.285067</td>\n",
       "      <td>38.562517</td>\n",
       "      <td>9.0</td>\n",
       "      <td>16</td>\n",
       "      <td>16.0</td>\n",
       "      <td>1972</td>\n",
       "      <td>0.282798</td>\n",
       "      <td>B</td>\n",
       "      <td>B</td>\n",
       "      <td>33</td>\n",
       "      <td>8667</td>\n",
       "      <td>2</td>\n",
       "      <td>NaN</td>\n",
       "      <td>0</td>\n",
       "      <td>6</td>\n",
       "      <td>B</td>\n",
       "      <td>343995.102962</td>\n",
       "    </tr>\n",
       "  </tbody>\n",
       "</table>\n",
       "</div>"
      ],
      "text/plain": [
       "      Id  DistrictId  Rooms      Square  LifeSquare  KitchenSquare  Floor  \\\n",
       "0  11809          27    3.0  115.027311         NaN           10.0      4   \n",
       "1   3013          22    1.0   39.832524   23.169223            8.0      7   \n",
       "2   8215           1    3.0   78.342215   47.671972           10.0      2   \n",
       "3   2352           1    1.0   40.409907         NaN            1.0     10   \n",
       "4  13866          94    2.0   64.285067   38.562517            9.0     16   \n",
       "\n",
       "   HouseFloor  HouseYear  Ecology_1 Ecology_2 Ecology_3  Social_1  Social_2  \\\n",
       "0        10.0       2014   0.075424         B         B        11      3097   \n",
       "1         8.0       1966   0.118537         B         B        30      6207   \n",
       "2        17.0       1988   0.025609         B         B        33      5261   \n",
       "3        22.0       1977   0.007122         B         B         1       264   \n",
       "4        16.0       1972   0.282798         B         B        33      8667   \n",
       "\n",
       "   Social_3  Healthcare_1  Helthcare_2  Shops_1 Shops_2          Price  \n",
       "0         0           NaN            0        0       B  305018.871089  \n",
       "1         1        1183.0            1        0       B  177734.553407  \n",
       "2         0         240.0            3        1       B  282078.720850  \n",
       "3         0           NaN            0        1       B  168106.007630  \n",
       "4         2           NaN            0        6       B  343995.102962  "
      ]
     },
     "execution_count": 39,
     "metadata": {},
     "output_type": "execute_result"
    }
   ],
   "source": [
    "train_df = pd.read_csv(TRAIN_DATASET_PATH)\n",
    "train_df.head()"
   ]
  },
  {
   "cell_type": "code",
   "execution_count": 9,
   "metadata": {
    "execution": {
     "iopub.execute_input": "2021-11-02T18:55:57.637544Z",
     "iopub.status.busy": "2021-11-02T18:55:57.637162Z",
     "iopub.status.idle": "2021-11-02T18:55:57.645254Z",
     "shell.execute_reply": "2021-11-02T18:55:57.644262Z",
     "shell.execute_reply.started": "2021-11-02T18:55:57.637513Z"
    }
   },
   "outputs": [
    {
     "data": {
      "text/plain": [
       "Id                 int64\n",
       "DistrictId         int64\n",
       "Rooms            float64\n",
       "Square           float64\n",
       "LifeSquare       float64\n",
       "KitchenSquare    float64\n",
       "Floor              int64\n",
       "HouseFloor       float64\n",
       "HouseYear          int64\n",
       "Ecology_1        float64\n",
       "Ecology_2         object\n",
       "Ecology_3         object\n",
       "Social_1           int64\n",
       "Social_2           int64\n",
       "Social_3           int64\n",
       "Healthcare_1     float64\n",
       "Helthcare_2        int64\n",
       "Shops_1            int64\n",
       "Shops_2           object\n",
       "Price            float64\n",
       "dtype: object"
      ]
     },
     "execution_count": 9,
     "metadata": {},
     "output_type": "execute_result"
    }
   ],
   "source": [
    "train_df.dtypes"
   ]
  },
  {
   "cell_type": "code",
   "execution_count": 10,
   "metadata": {
    "execution": {
     "iopub.execute_input": "2021-11-02T18:55:57.647272Z",
     "iopub.status.busy": "2021-11-02T18:55:57.646713Z",
     "iopub.status.idle": "2021-11-02T18:55:57.687802Z",
     "shell.execute_reply": "2021-11-02T18:55:57.68688Z",
     "shell.execute_reply.started": "2021-11-02T18:55:57.647227Z"
    }
   },
   "outputs": [
    {
     "data": {
      "text/html": [
       "<div>\n",
       "<style scoped>\n",
       "    .dataframe tbody tr th:only-of-type {\n",
       "        vertical-align: middle;\n",
       "    }\n",
       "\n",
       "    .dataframe tbody tr th {\n",
       "        vertical-align: top;\n",
       "    }\n",
       "\n",
       "    .dataframe thead th {\n",
       "        text-align: right;\n",
       "    }\n",
       "</style>\n",
       "<table border=\"1\" class=\"dataframe\">\n",
       "  <thead>\n",
       "    <tr style=\"text-align: right;\">\n",
       "      <th></th>\n",
       "      <th>Id</th>\n",
       "      <th>DistrictId</th>\n",
       "      <th>Rooms</th>\n",
       "      <th>Square</th>\n",
       "      <th>LifeSquare</th>\n",
       "      <th>KitchenSquare</th>\n",
       "      <th>Floor</th>\n",
       "      <th>HouseFloor</th>\n",
       "      <th>HouseYear</th>\n",
       "      <th>Ecology_1</th>\n",
       "      <th>Ecology_2</th>\n",
       "      <th>Ecology_3</th>\n",
       "      <th>Social_1</th>\n",
       "      <th>Social_2</th>\n",
       "      <th>Social_3</th>\n",
       "      <th>Healthcare_1</th>\n",
       "      <th>Helthcare_2</th>\n",
       "      <th>Shops_1</th>\n",
       "      <th>Shops_2</th>\n",
       "    </tr>\n",
       "  </thead>\n",
       "  <tbody>\n",
       "    <tr>\n",
       "      <th>0</th>\n",
       "      <td>4567</td>\n",
       "      <td>44</td>\n",
       "      <td>1.0</td>\n",
       "      <td>36.847630</td>\n",
       "      <td>19.094182</td>\n",
       "      <td>5.0</td>\n",
       "      <td>5</td>\n",
       "      <td>9.0</td>\n",
       "      <td>1970</td>\n",
       "      <td>0.036122</td>\n",
       "      <td>B</td>\n",
       "      <td>B</td>\n",
       "      <td>24</td>\n",
       "      <td>4378</td>\n",
       "      <td>0</td>\n",
       "      <td>1036.0</td>\n",
       "      <td>1</td>\n",
       "      <td>1</td>\n",
       "      <td>B</td>\n",
       "    </tr>\n",
       "    <tr>\n",
       "      <th>1</th>\n",
       "      <td>5925</td>\n",
       "      <td>62</td>\n",
       "      <td>1.0</td>\n",
       "      <td>42.493907</td>\n",
       "      <td>42.568133</td>\n",
       "      <td>10.0</td>\n",
       "      <td>7</td>\n",
       "      <td>17.0</td>\n",
       "      <td>2017</td>\n",
       "      <td>0.072158</td>\n",
       "      <td>B</td>\n",
       "      <td>B</td>\n",
       "      <td>2</td>\n",
       "      <td>629</td>\n",
       "      <td>1</td>\n",
       "      <td>NaN</td>\n",
       "      <td>0</td>\n",
       "      <td>0</td>\n",
       "      <td>A</td>\n",
       "    </tr>\n",
       "    <tr>\n",
       "      <th>2</th>\n",
       "      <td>960</td>\n",
       "      <td>27</td>\n",
       "      <td>2.0</td>\n",
       "      <td>59.463678</td>\n",
       "      <td>NaN</td>\n",
       "      <td>9.0</td>\n",
       "      <td>19</td>\n",
       "      <td>19.0</td>\n",
       "      <td>1977</td>\n",
       "      <td>0.211401</td>\n",
       "      <td>B</td>\n",
       "      <td>B</td>\n",
       "      <td>9</td>\n",
       "      <td>1892</td>\n",
       "      <td>0</td>\n",
       "      <td>NaN</td>\n",
       "      <td>0</td>\n",
       "      <td>1</td>\n",
       "      <td>B</td>\n",
       "    </tr>\n",
       "    <tr>\n",
       "      <th>3</th>\n",
       "      <td>3848</td>\n",
       "      <td>23</td>\n",
       "      <td>3.0</td>\n",
       "      <td>49.646030</td>\n",
       "      <td>33.893825</td>\n",
       "      <td>6.0</td>\n",
       "      <td>2</td>\n",
       "      <td>2.0</td>\n",
       "      <td>1965</td>\n",
       "      <td>0.014073</td>\n",
       "      <td>B</td>\n",
       "      <td>B</td>\n",
       "      <td>2</td>\n",
       "      <td>475</td>\n",
       "      <td>0</td>\n",
       "      <td>NaN</td>\n",
       "      <td>0</td>\n",
       "      <td>0</td>\n",
       "      <td>B</td>\n",
       "    </tr>\n",
       "    <tr>\n",
       "      <th>4</th>\n",
       "      <td>746</td>\n",
       "      <td>74</td>\n",
       "      <td>1.0</td>\n",
       "      <td>53.837056</td>\n",
       "      <td>NaN</td>\n",
       "      <td>1.0</td>\n",
       "      <td>8</td>\n",
       "      <td>17.0</td>\n",
       "      <td>1977</td>\n",
       "      <td>0.309479</td>\n",
       "      <td>B</td>\n",
       "      <td>B</td>\n",
       "      <td>35</td>\n",
       "      <td>7715</td>\n",
       "      <td>4</td>\n",
       "      <td>990.0</td>\n",
       "      <td>0</td>\n",
       "      <td>6</td>\n",
       "      <td>B</td>\n",
       "    </tr>\n",
       "  </tbody>\n",
       "</table>\n",
       "</div>"
      ],
      "text/plain": [
       "     Id  DistrictId  Rooms     Square  LifeSquare  KitchenSquare  Floor  \\\n",
       "0  4567          44    1.0  36.847630   19.094182            5.0      5   \n",
       "1  5925          62    1.0  42.493907   42.568133           10.0      7   \n",
       "2   960          27    2.0  59.463678         NaN            9.0     19   \n",
       "3  3848          23    3.0  49.646030   33.893825            6.0      2   \n",
       "4   746          74    1.0  53.837056         NaN            1.0      8   \n",
       "\n",
       "   HouseFloor  HouseYear  Ecology_1 Ecology_2 Ecology_3  Social_1  Social_2  \\\n",
       "0         9.0       1970   0.036122         B         B        24      4378   \n",
       "1        17.0       2017   0.072158         B         B         2       629   \n",
       "2        19.0       1977   0.211401         B         B         9      1892   \n",
       "3         2.0       1965   0.014073         B         B         2       475   \n",
       "4        17.0       1977   0.309479         B         B        35      7715   \n",
       "\n",
       "   Social_3  Healthcare_1  Helthcare_2  Shops_1 Shops_2  \n",
       "0         0        1036.0            1        1       B  \n",
       "1         1           NaN            0        0       A  \n",
       "2         0           NaN            0        1       B  \n",
       "3         0           NaN            0        0       B  \n",
       "4         4         990.0            0        6       B  "
      ]
     },
     "execution_count": 10,
     "metadata": {},
     "output_type": "execute_result"
    }
   ],
   "source": [
    "test_df = pd.read_csv(TEST_DATASET_PATH)\n",
    "test_df.head()"
   ]
  },
  {
   "cell_type": "code",
   "execution_count": 11,
   "metadata": {
    "execution": {
     "iopub.execute_input": "2021-11-02T18:55:57.689472Z",
     "iopub.status.busy": "2021-11-02T18:55:57.689031Z",
     "iopub.status.idle": "2021-11-02T18:55:57.695744Z",
     "shell.execute_reply": "2021-11-02T18:55:57.694942Z",
     "shell.execute_reply.started": "2021-11-02T18:55:57.689426Z"
    }
   },
   "outputs": [
    {
     "name": "stdout",
     "output_type": "stream",
     "text": [
      "Строк в трейне: 10000\n",
      "Строк в тесте 5000\n"
     ]
    }
   ],
   "source": [
    "print('Строк в трейне:', train_df.shape[0])\n",
    "print('Строк в тесте', test_df.shape[0])"
   ]
  },
  {
   "cell_type": "code",
   "execution_count": 12,
   "metadata": {
    "execution": {
     "iopub.execute_input": "2021-11-02T18:55:57.697147Z",
     "iopub.status.busy": "2021-11-02T18:55:57.696749Z",
     "iopub.status.idle": "2021-11-02T18:55:57.711139Z",
     "shell.execute_reply": "2021-11-02T18:55:57.710418Z",
     "shell.execute_reply.started": "2021-11-02T18:55:57.697117Z"
    }
   },
   "outputs": [
    {
     "data": {
      "text/plain": [
       "True"
      ]
     },
     "execution_count": 12,
     "metadata": {},
     "output_type": "execute_result"
    }
   ],
   "source": [
    "train_df.shape[1] - 1 == test_df.shape[1]"
   ]
  },
  {
   "cell_type": "markdown",
   "metadata": {},
   "source": [
    "### Приведение типов"
   ]
  },
  {
   "cell_type": "code",
   "execution_count": 13,
   "metadata": {
    "execution": {
     "iopub.execute_input": "2021-11-02T18:55:57.712621Z",
     "iopub.status.busy": "2021-11-02T18:55:57.712213Z",
     "iopub.status.idle": "2021-11-02T18:55:57.725356Z",
     "shell.execute_reply": "2021-11-02T18:55:57.724517Z",
     "shell.execute_reply.started": "2021-11-02T18:55:57.71259Z"
    }
   },
   "outputs": [
    {
     "data": {
      "text/plain": [
       "Id                 int64\n",
       "DistrictId         int64\n",
       "Rooms            float64\n",
       "Square           float64\n",
       "LifeSquare       float64\n",
       "KitchenSquare    float64\n",
       "Floor              int64\n",
       "HouseFloor       float64\n",
       "HouseYear          int64\n",
       "Ecology_1        float64\n",
       "Ecology_2         object\n",
       "Ecology_3         object\n",
       "Social_1           int64\n",
       "Social_2           int64\n",
       "Social_3           int64\n",
       "Healthcare_1     float64\n",
       "Helthcare_2        int64\n",
       "Shops_1            int64\n",
       "Shops_2           object\n",
       "Price            float64\n",
       "dtype: object"
      ]
     },
     "execution_count": 13,
     "metadata": {},
     "output_type": "execute_result"
    }
   ],
   "source": [
    "train_df.dtypes"
   ]
  },
  {
   "cell_type": "code",
   "execution_count": 40,
   "metadata": {
    "execution": {
     "iopub.execute_input": "2021-11-02T18:55:57.727034Z",
     "iopub.status.busy": "2021-11-02T18:55:57.726626Z",
     "iopub.status.idle": "2021-11-02T18:55:57.742369Z",
     "shell.execute_reply": "2021-11-02T18:55:57.741456Z",
     "shell.execute_reply.started": "2021-11-02T18:55:57.727003Z"
    }
   },
   "outputs": [],
   "source": [
    "train_df['Id'] = train_df['Id'].astype(str)\n",
    "train_df['DistrictId'] = train_df['DistrictId'].astype(str)"
   ]
  },
  {
   "cell_type": "code",
   "execution_count": 15,
   "metadata": {},
   "outputs": [
    {
     "data": {
      "text/plain": [
       "Id                object\n",
       "DistrictId        object\n",
       "Rooms            float64\n",
       "Square           float64\n",
       "LifeSquare       float64\n",
       "KitchenSquare    float64\n",
       "Floor              int64\n",
       "HouseFloor       float64\n",
       "HouseYear          int64\n",
       "Ecology_1        float64\n",
       "Ecology_2         object\n",
       "Ecology_3         object\n",
       "Social_1           int64\n",
       "Social_2           int64\n",
       "Social_3           int64\n",
       "Healthcare_1     float64\n",
       "Helthcare_2        int64\n",
       "Shops_1            int64\n",
       "Shops_2           object\n",
       "Price            float64\n",
       "dtype: object"
      ]
     },
     "execution_count": 15,
     "metadata": {},
     "output_type": "execute_result"
    }
   ],
   "source": [
    "train_df.dtypes"
   ]
  },
  {
   "cell_type": "markdown",
   "metadata": {},
   "source": [
    "## 1. EDA  <a class='anchor' id='eda'>\n",
    "Делаем EDA для:\n",
    "- Исправления выбросов\n",
    "- Заполнения NaN\n",
    "- Идей для генерации новых фич"
   ]
  },
  {
   "cell_type": "markdown",
   "metadata": {},
   "source": [
    "**Целевая переменная**"
   ]
  },
  {
   "cell_type": "code",
   "execution_count": 16,
   "metadata": {
    "execution": {
     "iopub.execute_input": "2021-11-02T18:55:57.744012Z",
     "iopub.status.busy": "2021-11-02T18:55:57.743402Z",
     "iopub.status.idle": "2021-11-02T18:55:57.975643Z",
     "shell.execute_reply": "2021-11-02T18:55:57.974466Z",
     "shell.execute_reply.started": "2021-11-02T18:55:57.743974Z"
    }
   },
   "outputs": [
    {
     "data": {
      "image/png": "[encoded data removed]",
      "text/plain": [
       "<Figure size 1600x800 with 1 Axes>"
      ]
     },
     "metadata": {},
     "output_type": "display_data"
    }
   ],
   "source": [
    "plt.figure(figsize = (16, 8))\n",
    "\n",
    "train_df['Price'].hist(bins=30)\n",
    "plt.ylabel('Count')\n",
    "plt.xlabel('Price')\n",
    "\n",
    "plt.title('Target distribution')\n",
    "plt.show()"
   ]
  },
  {
   "cell_type": "markdown",
   "metadata": {},
   "source": [
    "**Количественные переменные**"
   ]
  },
  {
   "cell_type": "code",
   "execution_count": 17,
   "metadata": {
    "_kg_hide-output": true,
    "execution": {
     "iopub.execute_input": "2021-11-02T18:55:57.977702Z",
     "iopub.status.busy": "2021-11-02T18:55:57.977265Z",
     "iopub.status.idle": "2021-11-02T18:55:58.116299Z",
     "shell.execute_reply": "2021-11-02T18:55:58.115366Z",
     "shell.execute_reply.started": "2021-11-02T18:55:57.977647Z"
    }
   },
   "outputs": [
    {
     "data": {
      "text/html": [
       "<div>\n",
       "<style scoped>\n",
       "    .dataframe tbody tr th:only-of-type {\n",
       "        vertical-align: middle;\n",
       "    }\n",
       "\n",
       "    .dataframe tbody tr th {\n",
       "        vertical-align: top;\n",
       "    }\n",
       "\n",
       "    .dataframe thead th {\n",
       "        text-align: right;\n",
       "    }\n",
       "</style>\n",
       "<table border=\"1\" class=\"dataframe\">\n",
       "  <thead>\n",
       "    <tr style=\"text-align: right;\">\n",
       "      <th></th>\n",
       "      <th>Rooms</th>\n",
       "      <th>Square</th>\n",
       "      <th>LifeSquare</th>\n",
       "      <th>KitchenSquare</th>\n",
       "      <th>Floor</th>\n",
       "      <th>HouseFloor</th>\n",
       "      <th>HouseYear</th>\n",
       "      <th>Ecology_1</th>\n",
       "      <th>Social_1</th>\n",
       "      <th>Social_2</th>\n",
       "      <th>Social_3</th>\n",
       "      <th>Healthcare_1</th>\n",
       "      <th>Helthcare_2</th>\n",
       "      <th>Shops_1</th>\n",
       "      <th>Price</th>\n",
       "    </tr>\n",
       "  </thead>\n",
       "  <tbody>\n",
       "    <tr>\n",
       "      <th>count</th>\n",
       "      <td>10000.000000</td>\n",
       "      <td>10000.000000</td>\n",
       "      <td>7887.000000</td>\n",
       "      <td>10000.000000</td>\n",
       "      <td>10000.000000</td>\n",
       "      <td>10000.000000</td>\n",
       "      <td>1.000000e+04</td>\n",
       "      <td>10000.000000</td>\n",
       "      <td>10000.000000</td>\n",
       "      <td>10000.000000</td>\n",
       "      <td>10000.000000</td>\n",
       "      <td>5202.000000</td>\n",
       "      <td>10000.000000</td>\n",
       "      <td>10000.000000</td>\n",
       "      <td>10000.000000</td>\n",
       "    </tr>\n",
       "    <tr>\n",
       "      <th>mean</th>\n",
       "      <td>1.890500</td>\n",
       "      <td>56.315775</td>\n",
       "      <td>37.199645</td>\n",
       "      <td>6.273300</td>\n",
       "      <td>8.526700</td>\n",
       "      <td>12.609400</td>\n",
       "      <td>3.990166e+03</td>\n",
       "      <td>0.118858</td>\n",
       "      <td>24.687000</td>\n",
       "      <td>5352.157400</td>\n",
       "      <td>8.039200</td>\n",
       "      <td>1142.904460</td>\n",
       "      <td>1.319500</td>\n",
       "      <td>4.231300</td>\n",
       "      <td>214138.857399</td>\n",
       "    </tr>\n",
       "    <tr>\n",
       "      <th>std</th>\n",
       "      <td>0.839512</td>\n",
       "      <td>21.058732</td>\n",
       "      <td>86.241209</td>\n",
       "      <td>28.560917</td>\n",
       "      <td>5.241148</td>\n",
       "      <td>6.775974</td>\n",
       "      <td>2.005003e+05</td>\n",
       "      <td>0.119025</td>\n",
       "      <td>17.532614</td>\n",
       "      <td>4006.799803</td>\n",
       "      <td>23.831875</td>\n",
       "      <td>1021.517264</td>\n",
       "      <td>1.493601</td>\n",
       "      <td>4.806341</td>\n",
       "      <td>92872.293865</td>\n",
       "    </tr>\n",
       "    <tr>\n",
       "      <th>min</th>\n",
       "      <td>0.000000</td>\n",
       "      <td>1.136859</td>\n",
       "      <td>0.370619</td>\n",
       "      <td>0.000000</td>\n",
       "      <td>1.000000</td>\n",
       "      <td>0.000000</td>\n",
       "      <td>1.910000e+03</td>\n",
       "      <td>0.000000</td>\n",
       "      <td>0.000000</td>\n",
       "      <td>168.000000</td>\n",
       "      <td>0.000000</td>\n",
       "      <td>0.000000</td>\n",
       "      <td>0.000000</td>\n",
       "      <td>0.000000</td>\n",
       "      <td>59174.778028</td>\n",
       "    </tr>\n",
       "    <tr>\n",
       "      <th>25%</th>\n",
       "      <td>1.000000</td>\n",
       "      <td>41.774881</td>\n",
       "      <td>22.769832</td>\n",
       "      <td>1.000000</td>\n",
       "      <td>4.000000</td>\n",
       "      <td>9.000000</td>\n",
       "      <td>1.974000e+03</td>\n",
       "      <td>0.017647</td>\n",
       "      <td>6.000000</td>\n",
       "      <td>1564.000000</td>\n",
       "      <td>0.000000</td>\n",
       "      <td>350.000000</td>\n",
       "      <td>0.000000</td>\n",
       "      <td>1.000000</td>\n",
       "      <td>153872.633942</td>\n",
       "    </tr>\n",
       "    <tr>\n",
       "      <th>50%</th>\n",
       "      <td>2.000000</td>\n",
       "      <td>52.513310</td>\n",
       "      <td>32.781260</td>\n",
       "      <td>6.000000</td>\n",
       "      <td>7.000000</td>\n",
       "      <td>13.000000</td>\n",
       "      <td>1.977000e+03</td>\n",
       "      <td>0.075424</td>\n",
       "      <td>25.000000</td>\n",
       "      <td>5285.000000</td>\n",
       "      <td>2.000000</td>\n",
       "      <td>900.000000</td>\n",
       "      <td>1.000000</td>\n",
       "      <td>3.000000</td>\n",
       "      <td>192269.644879</td>\n",
       "    </tr>\n",
       "    <tr>\n",
       "      <th>75%</th>\n",
       "      <td>2.000000</td>\n",
       "      <td>65.900625</td>\n",
       "      <td>45.128803</td>\n",
       "      <td>9.000000</td>\n",
       "      <td>12.000000</td>\n",
       "      <td>17.000000</td>\n",
       "      <td>2.001000e+03</td>\n",
       "      <td>0.195781</td>\n",
       "      <td>36.000000</td>\n",
       "      <td>7227.000000</td>\n",
       "      <td>5.000000</td>\n",
       "      <td>1548.000000</td>\n",
       "      <td>2.000000</td>\n",
       "      <td>6.000000</td>\n",
       "      <td>249135.462171</td>\n",
       "    </tr>\n",
       "    <tr>\n",
       "      <th>max</th>\n",
       "      <td>19.000000</td>\n",
       "      <td>641.065193</td>\n",
       "      <td>7480.592129</td>\n",
       "      <td>2014.000000</td>\n",
       "      <td>42.000000</td>\n",
       "      <td>117.000000</td>\n",
       "      <td>2.005201e+07</td>\n",
       "      <td>0.521867</td>\n",
       "      <td>74.000000</td>\n",
       "      <td>19083.000000</td>\n",
       "      <td>141.000000</td>\n",
       "      <td>4849.000000</td>\n",
       "      <td>6.000000</td>\n",
       "      <td>23.000000</td>\n",
       "      <td>633233.466570</td>\n",
       "    </tr>\n",
       "  </tbody>\n",
       "</table>\n",
       "</div>"
      ],
      "text/plain": [
       "              Rooms        Square   LifeSquare  KitchenSquare         Floor  \\\n",
       "count  10000.000000  10000.000000  7887.000000   10000.000000  10000.000000   \n",
       "mean       1.890500     56.315775    37.199645       6.273300      8.526700   \n",
       "std        0.839512     21.058732    86.241209      28.560917      5.241148   \n",
       "min        0.000000      1.136859     0.370619       0.000000      1.000000   \n",
       "25%        1.000000     41.774881    22.769832       1.000000      4.000000   \n",
       "50%        2.000000     52.513310    32.781260       6.000000      7.000000   \n",
       "75%        2.000000     65.900625    45.128803       9.000000     12.000000   \n",
       "max       19.000000    641.065193  7480.592129    2014.000000     42.000000   \n",
       "\n",
       "         HouseFloor     HouseYear     Ecology_1      Social_1      Social_2  \\\n",
       "count  10000.000000  1.000000e+04  10000.000000  10000.000000  10000.000000   \n",
       "mean      12.609400  3.990166e+03      0.118858     24.687000   5352.157400   \n",
       "std        6.775974  2.005003e+05      0.119025     17.532614   4006.799803   \n",
       "min        0.000000  1.910000e+03      0.000000      0.000000    168.000000   \n",
       "25%        9.000000  1.974000e+03      0.017647      6.000000   1564.000000   \n",
       "50%       13.000000  1.977000e+03      0.075424     25.000000   5285.000000   \n",
       "75%       17.000000  2.001000e+03      0.195781     36.000000   7227.000000   \n",
       "max      117.000000  2.005201e+07      0.521867     74.000000  19083.000000   \n",
       "\n",
       "           Social_3  Healthcare_1   Helthcare_2       Shops_1          Price  \n",
       "count  10000.000000   5202.000000  10000.000000  10000.000000   10000.000000  \n",
       "mean       8.039200   1142.904460      1.319500      4.231300  214138.857399  \n",
       "std       23.831875   1021.517264      1.493601      4.806341   92872.293865  \n",
       "min        0.000000      0.000000      0.000000      0.000000   59174.778028  \n",
       "25%        0.000000    350.000000      0.000000      1.000000  153872.633942  \n",
       "50%        2.000000    900.000000      1.000000      3.000000  192269.644879  \n",
       "75%        5.000000   1548.000000      2.000000      6.000000  249135.462171  \n",
       "max      141.000000   4849.000000      6.000000     23.000000  633233.466570  "
      ]
     },
     "execution_count": 17,
     "metadata": {},
     "output_type": "execute_result"
    }
   ],
   "source": [
    "train_df.describe()"
   ]
  },
  {
   "cell_type": "markdown",
   "metadata": {},
   "source": [
    "**Номинативные переменные**"
   ]
  },
  {
   "cell_type": "code",
   "execution_count": 18,
   "metadata": {
    "execution": {
     "iopub.execute_input": "2021-11-02T18:55:58.120105Z",
     "iopub.status.busy": "2021-11-02T18:55:58.119461Z",
     "iopub.status.idle": "2021-11-02T18:55:58.130823Z",
     "shell.execute_reply": "2021-11-02T18:55:58.129445Z",
     "shell.execute_reply.started": "2021-11-02T18:55:58.120056Z"
    }
   },
   "outputs": [
    {
     "data": {
      "text/plain": [
       "['Id', 'DistrictId', 'Ecology_2', 'Ecology_3', 'Shops_2']"
      ]
     },
     "execution_count": 18,
     "metadata": {},
     "output_type": "execute_result"
    }
   ],
   "source": [
    "train_df.select_dtypes(include='object').columns.tolist()"
   ]
  },
  {
   "cell_type": "code",
   "execution_count": 19,
   "metadata": {
    "execution": {
     "iopub.execute_input": "2021-11-02T18:55:58.133026Z",
     "iopub.status.busy": "2021-11-02T18:55:58.132605Z",
     "iopub.status.idle": "2021-11-02T18:55:58.147711Z",
     "shell.execute_reply": "2021-11-02T18:55:58.146663Z",
     "shell.execute_reply.started": "2021-11-02T18:55:58.132992Z"
    }
   },
   "outputs": [
    {
     "data": {
      "text/plain": [
       "27     851\n",
       "1      652\n",
       "23     565\n",
       "6      511\n",
       "9      294\n",
       "      ... \n",
       "199      1\n",
       "117      1\n",
       "207      1\n",
       "209      1\n",
       "174      1\n",
       "Name: DistrictId, Length: 205, dtype: int64"
      ]
     },
     "execution_count": 19,
     "metadata": {},
     "output_type": "execute_result"
    }
   ],
   "source": [
    "train_df['DistrictId'].value_counts()"
   ]
  },
  {
   "cell_type": "code",
   "execution_count": 20,
   "metadata": {
    "execution": {
     "iopub.execute_input": "2021-11-02T18:55:58.149339Z",
     "iopub.status.busy": "2021-11-02T18:55:58.148939Z",
     "iopub.status.idle": "2021-11-02T18:55:58.162807Z",
     "shell.execute_reply": "2021-11-02T18:55:58.161777Z",
     "shell.execute_reply.started": "2021-11-02T18:55:58.149296Z"
    }
   },
   "outputs": [
    {
     "data": {
      "text/plain": [
       "B    9903\n",
       "A      97\n",
       "Name: Ecology_2, dtype: int64"
      ]
     },
     "execution_count": 20,
     "metadata": {},
     "output_type": "execute_result"
    }
   ],
   "source": [
    "train_df['Ecology_2'].value_counts()"
   ]
  },
  {
   "cell_type": "code",
   "execution_count": 21,
   "metadata": {
    "execution": {
     "iopub.execute_input": "2021-11-02T18:55:58.16428Z",
     "iopub.status.busy": "2021-11-02T18:55:58.163856Z",
     "iopub.status.idle": "2021-11-02T18:55:58.174292Z",
     "shell.execute_reply": "2021-11-02T18:55:58.173474Z",
     "shell.execute_reply.started": "2021-11-02T18:55:58.164248Z"
    }
   },
   "outputs": [
    {
     "data": {
      "text/plain": [
       "B    9725\n",
       "A     275\n",
       "Name: Ecology_3, dtype: int64"
      ]
     },
     "execution_count": 21,
     "metadata": {},
     "output_type": "execute_result"
    }
   ],
   "source": [
    "train_df['Ecology_3'].value_counts()"
   ]
  },
  {
   "cell_type": "code",
   "execution_count": 22,
   "metadata": {
    "execution": {
     "iopub.execute_input": "2021-11-02T18:55:58.177155Z",
     "iopub.status.busy": "2021-11-02T18:55:58.176778Z",
     "iopub.status.idle": "2021-11-02T18:55:58.187963Z",
     "shell.execute_reply": "2021-11-02T18:55:58.187243Z",
     "shell.execute_reply.started": "2021-11-02T18:55:58.177127Z"
    }
   },
   "outputs": [
    {
     "data": {
      "text/plain": [
       "B    9175\n",
       "A     825\n",
       "Name: Shops_2, dtype: int64"
      ]
     },
     "execution_count": 22,
     "metadata": {},
     "output_type": "execute_result"
    }
   ],
   "source": [
    "train_df['Shops_2'].value_counts()"
   ]
  },
  {
   "cell_type": "markdown",
   "metadata": {},
   "source": [
    "### 2. Обработка выбросов  <a class='anchor' id='outlier'>\n",
    "Что можно делать с ними?\n",
    "1. Выкинуть эти данные (только на трейне, на тесте ничего не выкидываем)\n",
    "2. Заменять выбросы разными методами (медианы, средние значения и т.д.)\n",
    "3. Ничего не делать"
   ]
  },
  {
   "cell_type": "markdown",
   "metadata": {},
   "source": [
    "**Rooms**"
   ]
  },
  {
   "cell_type": "code",
   "execution_count": 23,
   "metadata": {
    "execution": {
     "iopub.execute_input": "2021-11-02T18:55:58.189381Z",
     "iopub.status.busy": "2021-11-02T18:55:58.188978Z",
     "iopub.status.idle": "2021-11-02T18:55:58.203064Z",
     "shell.execute_reply": "2021-11-02T18:55:58.202234Z",
     "shell.execute_reply.started": "2021-11-02T18:55:58.189337Z"
    },
    "scrolled": true
   },
   "outputs": [
    {
     "data": {
      "text/plain": [
       "2.0     3880\n",
       "1.0     3705\n",
       "3.0     2235\n",
       "4.0      150\n",
       "5.0       18\n",
       "0.0        8\n",
       "10.0       2\n",
       "19.0       1\n",
       "6.0        1\n",
       "Name: Rooms, dtype: int64"
      ]
     },
     "execution_count": 23,
     "metadata": {},
     "output_type": "execute_result"
    }
   ],
   "source": [
    "train_df['Rooms'].value_counts()"
   ]
  },
  {
   "cell_type": "code",
   "execution_count": 41,
   "metadata": {},
   "outputs": [
    {
     "data": {
      "text/plain": [
       "<AxesSubplot:>"
      ]
     },
     "execution_count": 41,
     "metadata": {},
     "output_type": "execute_result"
    },
    {
     "data": {
      "image/png": "[encoded data removed]",
      "text/plain": [
       "<Figure size 640x480 with 1 Axes>"
      ]
     },
     "metadata": {},
     "output_type": "display_data"
    }
   ],
   "source": [
    "train_df[['Rooms']].boxplot()"
   ]
  },
  {
   "cell_type": "code",
   "execution_count": 42,
   "metadata": {
    "execution": {
     "iopub.execute_input": "2021-11-02T18:55:58.239785Z",
     "iopub.status.busy": "2021-11-02T18:55:58.239392Z",
     "iopub.status.idle": "2021-11-02T18:55:58.246273Z",
     "shell.execute_reply": "2021-11-02T18:55:58.245558Z",
     "shell.execute_reply.started": "2021-11-02T18:55:58.239736Z"
    }
   },
   "outputs": [],
   "source": [
    "train_df.loc[train_df['Rooms'] == 0, 'Rooms'] = 1\n",
    "train_df.loc[train_df['Rooms'] >= 6, 'Rooms'] = train_df['Rooms'].median()"
   ]
  },
  {
   "cell_type": "code",
   "execution_count": 43,
   "metadata": {
    "execution": {
     "iopub.execute_input": "2021-11-02T18:55:58.247741Z",
     "iopub.status.busy": "2021-11-02T18:55:58.247367Z",
     "iopub.status.idle": "2021-11-02T18:55:58.260543Z",
     "shell.execute_reply": "2021-11-02T18:55:58.259472Z",
     "shell.execute_reply.started": "2021-11-02T18:55:58.247705Z"
    }
   },
   "outputs": [
    {
     "data": {
      "text/plain": [
       "2.0    3884\n",
       "1.0    3713\n",
       "3.0    2235\n",
       "4.0     150\n",
       "5.0      18\n",
       "Name: Rooms, dtype: int64"
      ]
     },
     "execution_count": 43,
     "metadata": {},
     "output_type": "execute_result"
    }
   ],
   "source": [
    "train_df['Rooms'].value_counts()"
   ]
  },
  {
   "cell_type": "markdown",
   "metadata": {},
   "source": [
    "**KitchenSquare** "
   ]
  },
  {
   "cell_type": "code",
   "execution_count": 32,
   "metadata": {
    "execution": {
     "iopub.execute_input": "2021-11-02T18:55:58.262128Z",
     "iopub.status.busy": "2021-11-02T18:55:58.261726Z",
     "iopub.status.idle": "2021-11-02T18:55:58.277351Z",
     "shell.execute_reply": "2021-11-02T18:55:58.275862Z",
     "shell.execute_reply.started": "2021-11-02T18:55:58.262097Z"
    },
    "scrolled": true
   },
   "outputs": [
    {
     "data": {
      "text/plain": [
       "1.0       2460\n",
       "8.0       1306\n",
       "5.0       1169\n",
       "10.0      1075\n",
       "6.0       1038\n",
       "9.0        843\n",
       "0.0        697\n",
       "7.0        609\n",
       "12.0       249\n",
       "11.0       233\n",
       "13.0        67\n",
       "14.0        51\n",
       "4.0         39\n",
       "15.0        31\n",
       "3.0         22\n",
       "16.0        16\n",
       "20.0        14\n",
       "17.0        12\n",
       "19.0        11\n",
       "18.0         6\n",
       "2.0          4\n",
       "22.0         3\n",
       "30.0         2\n",
       "43.0         2\n",
       "41.0         2\n",
       "112.0        2\n",
       "25.0         2\n",
       "51.0         2\n",
       "37.0         2\n",
       "58.0         2\n",
       "32.0         2\n",
       "21.0         1\n",
       "73.0         1\n",
       "75.0         1\n",
       "36.0         1\n",
       "27.0         1\n",
       "63.0         1\n",
       "1970.0       1\n",
       "54.0         1\n",
       "53.0         1\n",
       "60.0         1\n",
       "26.0         1\n",
       "66.0         1\n",
       "39.0         1\n",
       "29.0         1\n",
       "78.0         1\n",
       "31.0         1\n",
       "84.0         1\n",
       "48.0         1\n",
       "96.0         1\n",
       "42.0         1\n",
       "40.0         1\n",
       "23.0         1\n",
       "72.0         1\n",
       "35.0         1\n",
       "62.0         1\n",
       "123.0        1\n",
       "2014.0       1\n",
       "Name: KitchenSquare, dtype: int64"
      ]
     },
     "execution_count": 32,
     "metadata": {},
     "output_type": "execute_result"
    }
   ],
   "source": [
    "train_df['KitchenSquare'].value_counts()"
   ]
  },
  {
   "cell_type": "code",
   "execution_count": 45,
   "metadata": {},
   "outputs": [
    {
     "data": {
      "text/plain": [
       "<AxesSubplot:>"
      ]
     },
     "execution_count": 45,
     "metadata": {},
     "output_type": "execute_result"
    },
    {
     "data": {
      "image/png": "[encoded data removed]",
      "text/plain": [
       "<Figure size 640x480 with 1 Axes>"
      ]
     },
     "metadata": {},
     "output_type": "display_data"
    }
   ],
   "source": [
    "train_df[['KitchenSquare']].boxplot()"
   ]
  },
  {
   "cell_type": "code",
   "execution_count": 46,
   "metadata": {
    "execution": {
     "iopub.execute_input": "2021-11-02T18:55:58.278937Z",
     "iopub.status.busy": "2021-11-02T18:55:58.278533Z",
     "iopub.status.idle": "2021-11-02T18:55:58.287675Z",
     "shell.execute_reply": "2021-11-02T18:55:58.286665Z",
     "shell.execute_reply.started": "2021-11-02T18:55:58.278905Z"
    }
   },
   "outputs": [
    {
     "data": {
      "text/plain": [
       "(13.0, 0.0)"
      ]
     },
     "execution_count": 46,
     "metadata": {},
     "output_type": "execute_result"
    }
   ],
   "source": [
    "train_df['KitchenSquare'].quantile(.975), train_df['KitchenSquare'].quantile(.025)"
   ]
  },
  {
   "cell_type": "code",
   "execution_count": 47,
   "metadata": {
    "execution": {
     "iopub.execute_input": "2021-11-02T18:55:58.289477Z",
     "iopub.status.busy": "2021-11-02T18:55:58.289051Z",
     "iopub.status.idle": "2021-11-02T18:55:58.300191Z",
     "shell.execute_reply": "2021-11-02T18:55:58.299331Z",
     "shell.execute_reply.started": "2021-11-02T18:55:58.289442Z"
    }
   },
   "outputs": [],
   "source": [
    "condition = (train_df['KitchenSquare'].isna()) \\\n",
    "             | (train_df['KitchenSquare'] > train_df['KitchenSquare'].quantile(.975))\n",
    "        \n",
    "train_df.loc[condition, 'KitchenSquare'] = train_df['KitchenSquare'].median()\n",
    "\n",
    "train_df.loc[train_df['KitchenSquare'] < 3, 'KitchenSquare'] = 3"
   ]
  },
  {
   "cell_type": "code",
   "execution_count": 48,
   "metadata": {
    "execution": {
     "iopub.execute_input": "2021-11-02T18:55:58.302195Z",
     "iopub.status.busy": "2021-11-02T18:55:58.301788Z",
     "iopub.status.idle": "2021-11-02T18:55:58.313534Z",
     "shell.execute_reply": "2021-11-02T18:55:58.312417Z",
     "shell.execute_reply.started": "2021-11-02T18:55:58.302151Z"
    }
   },
   "outputs": [
    {
     "data": {
      "text/plain": [
       "3.0     3183\n",
       "8.0     1306\n",
       "6.0     1227\n",
       "5.0     1169\n",
       "10.0    1075\n",
       "9.0      843\n",
       "7.0      609\n",
       "12.0     249\n",
       "11.0     233\n",
       "13.0      67\n",
       "4.0       39\n",
       "Name: KitchenSquare, dtype: int64"
      ]
     },
     "execution_count": 48,
     "metadata": {},
     "output_type": "execute_result"
    }
   ],
   "source": [
    "train_df['KitchenSquare'].value_counts()"
   ]
  },
  {
   "cell_type": "markdown",
   "metadata": {},
   "source": [
    "**HouseFloor, Floor**"
   ]
  },
  {
   "cell_type": "code",
   "execution_count": 49,
   "metadata": {
    "execution": {
     "iopub.execute_input": "2021-11-02T18:55:58.315349Z",
     "iopub.status.busy": "2021-11-02T18:55:58.314794Z",
     "iopub.status.idle": "2021-11-02T18:55:58.324291Z",
     "shell.execute_reply": "2021-11-02T18:55:58.323536Z",
     "shell.execute_reply.started": "2021-11-02T18:55:58.315272Z"
    },
    "scrolled": true
   },
   "outputs": [
    {
     "data": {
      "text/plain": [
       "array([  0.,   1.,   2.,   3.,   4.,   5.,   6.,   7.,   8.,   9.,  10.,\n",
       "        11.,  12.,  13.,  14.,  15.,  16.,  17.,  18.,  19.,  20.,  21.,\n",
       "        22.,  23.,  24.,  25.,  26.,  27.,  28.,  29.,  30.,  31.,  32.,\n",
       "        36.,  37.,  38.,  39.,  40.,  44.,  45.,  47.,  48.,  99., 117.])"
      ]
     },
     "execution_count": 49,
     "metadata": {},
     "output_type": "execute_result"
    }
   ],
   "source": [
    "train_df['HouseFloor'].sort_values().unique()"
   ]
  },
  {
   "cell_type": "code",
   "execution_count": 50,
   "metadata": {
    "execution": {
     "iopub.execute_input": "2021-11-02T18:55:58.325918Z",
     "iopub.status.busy": "2021-11-02T18:55:58.325509Z",
     "iopub.status.idle": "2021-11-02T18:55:58.336593Z",
     "shell.execute_reply": "2021-11-02T18:55:58.335871Z",
     "shell.execute_reply.started": "2021-11-02T18:55:58.325887Z"
    },
    "scrolled": true
   },
   "outputs": [
    {
     "data": {
      "text/plain": [
       "array([ 1,  2,  3,  4,  5,  6,  7,  8,  9, 10, 11, 12, 13, 14, 15, 16, 17,\n",
       "       18, 19, 20, 21, 22, 23, 24, 25, 26, 27, 28, 31, 32, 33, 37, 42],\n",
       "      dtype=int64)"
      ]
     },
     "execution_count": 50,
     "metadata": {},
     "output_type": "execute_result"
    }
   ],
   "source": [
    "train_df['Floor'].sort_values().unique()"
   ]
  },
  {
   "cell_type": "code",
   "execution_count": 51,
   "metadata": {
    "execution": {
     "iopub.execute_input": "2021-11-02T18:55:58.338092Z",
     "iopub.status.busy": "2021-11-02T18:55:58.337725Z",
     "iopub.status.idle": "2021-11-02T18:55:58.346875Z",
     "shell.execute_reply": "2021-11-02T18:55:58.345886Z",
     "shell.execute_reply.started": "2021-11-02T18:55:58.338063Z"
    }
   },
   "outputs": [
    {
     "data": {
      "text/plain": [
       "1825"
      ]
     },
     "execution_count": 51,
     "metadata": {},
     "output_type": "execute_result"
    }
   ],
   "source": [
    "(train_df['Floor'] > train_df['HouseFloor']).sum()"
   ]
  },
  {
   "cell_type": "code",
   "execution_count": 54,
   "metadata": {
    "execution": {
     "iopub.execute_input": "2021-11-02T18:55:58.361535Z",
     "iopub.status.busy": "2021-11-02T18:55:58.361058Z",
     "iopub.status.idle": "2021-11-02T18:55:58.369074Z",
     "shell.execute_reply": "2021-11-02T18:55:58.368327Z",
     "shell.execute_reply.started": "2021-11-02T18:55:58.361498Z"
    }
   },
   "outputs": [],
   "source": [
    "train_df.loc[train_df['HouseFloor'] == 0, 'HouseFloor'] = train_df['HouseFloor'].median()"
   ]
  },
  {
   "cell_type": "code",
   "execution_count": 55,
   "metadata": {
    "execution": {
     "iopub.execute_input": "2021-11-02T18:55:58.370711Z",
     "iopub.status.busy": "2021-11-02T18:55:58.370281Z",
     "iopub.status.idle": "2021-11-02T18:55:58.383159Z",
     "shell.execute_reply": "2021-11-02T18:55:58.382184Z",
     "shell.execute_reply.started": "2021-11-02T18:55:58.370678Z"
    }
   },
   "outputs": [
    {
     "data": {
      "text/plain": [
       "Int64Index([  17,   19,   21,   25,   26,   33,   34,   37,   39,   44,\n",
       "            ...\n",
       "            9913, 9921, 9930, 9931, 9938, 9953, 9960, 9968, 9970, 9975],\n",
       "           dtype='int64', length=1610)"
      ]
     },
     "execution_count": 55,
     "metadata": {},
     "output_type": "execute_result"
    }
   ],
   "source": [
    "floor_outliers = train_df.loc[train_df['Floor'] > train_df['HouseFloor']].index\n",
    "floor_outliers"
   ]
  },
  {
   "cell_type": "code",
   "execution_count": 56,
   "metadata": {
    "execution": {
     "iopub.execute_input": "2021-11-02T18:55:58.385151Z",
     "iopub.status.busy": "2021-11-02T18:55:58.384715Z",
     "iopub.status.idle": "2021-11-02T18:55:58.400252Z",
     "shell.execute_reply": "2021-11-02T18:55:58.399404Z",
     "shell.execute_reply.started": "2021-11-02T18:55:58.385119Z"
    }
   },
   "outputs": [],
   "source": [
    "train_df.loc[floor_outliers, 'Floor'] = train_df.loc[floor_outliers, 'HouseFloor']\\\n",
    "                                                .apply(lambda x: random.randint(1, x))"
   ]
  },
  {
   "cell_type": "code",
   "execution_count": 57,
   "metadata": {
    "execution": {
     "iopub.execute_input": "2021-11-02T18:55:58.402255Z",
     "iopub.status.busy": "2021-11-02T18:55:58.401785Z",
     "iopub.status.idle": "2021-11-02T18:55:58.410085Z",
     "shell.execute_reply": "2021-11-02T18:55:58.409268Z",
     "shell.execute_reply.started": "2021-11-02T18:55:58.402215Z"
    }
   },
   "outputs": [
    {
     "data": {
      "text/plain": [
       "0"
      ]
     },
     "execution_count": 57,
     "metadata": {},
     "output_type": "execute_result"
    }
   ],
   "source": [
    "(train_df['Floor'] > train_df['HouseFloor']).sum()"
   ]
  },
  {
   "cell_type": "markdown",
   "metadata": {},
   "source": [
    "**HouseYear**"
   ]
  },
  {
   "cell_type": "code",
   "execution_count": 52,
   "metadata": {
    "execution": {
     "iopub.execute_input": "2021-11-02T18:55:58.412359Z",
     "iopub.status.busy": "2021-11-02T18:55:58.411509Z",
     "iopub.status.idle": "2021-11-02T18:55:58.423956Z",
     "shell.execute_reply": "2021-11-02T18:55:58.42315Z",
     "shell.execute_reply.started": "2021-11-02T18:55:58.412288Z"
    }
   },
   "outputs": [
    {
     "data": {
      "text/plain": [
       "9163    20052011\n",
       "8828        4968\n",
       "7721        2020\n",
       "9122        2020\n",
       "7955        2020\n",
       "          ...   \n",
       "7610        1916\n",
       "6250        1914\n",
       "2066        1912\n",
       "2795        1912\n",
       "6794        1910\n",
       "Name: HouseYear, Length: 10000, dtype: int64"
      ]
     },
     "execution_count": 52,
     "metadata": {},
     "output_type": "execute_result"
    }
   ],
   "source": [
    "train_df['HouseYear'].sort_values(ascending=False)"
   ]
  },
  {
   "cell_type": "code",
   "execution_count": 53,
   "metadata": {
    "execution": {
     "iopub.execute_input": "2021-11-02T18:55:58.425498Z",
     "iopub.status.busy": "2021-11-02T18:55:58.425055Z",
     "iopub.status.idle": "2021-11-02T18:55:58.432549Z",
     "shell.execute_reply": "2021-11-02T18:55:58.431485Z",
     "shell.execute_reply.started": "2021-11-02T18:55:58.425464Z"
    }
   },
   "outputs": [],
   "source": [
    "train_df.loc[train_df['HouseYear'] > 2020, 'HouseYear'] = 2020"
   ]
  },
  {
   "cell_type": "markdown",
   "metadata": {},
   "source": [
    "### 3. Обработка пропусков  <a class='anchor' id='nan'>"
   ]
  },
  {
   "cell_type": "code",
   "execution_count": 58,
   "metadata": {
    "execution": {
     "iopub.execute_input": "2021-11-02T18:55:58.434445Z",
     "iopub.status.busy": "2021-11-02T18:55:58.433862Z",
     "iopub.status.idle": "2021-11-02T18:55:58.448212Z",
     "shell.execute_reply": "2021-11-02T18:55:58.447127Z",
     "shell.execute_reply.started": "2021-11-02T18:55:58.434399Z"
    }
   },
   "outputs": [
    {
     "data": {
      "text/plain": [
       "Id                  0\n",
       "DistrictId          0\n",
       "Rooms               0\n",
       "Square              0\n",
       "LifeSquare       2113\n",
       "KitchenSquare       0\n",
       "Floor               0\n",
       "HouseFloor          0\n",
       "HouseYear           0\n",
       "Ecology_1           0\n",
       "Ecology_2           0\n",
       "Ecology_3           0\n",
       "Social_1            0\n",
       "Social_2            0\n",
       "Social_3            0\n",
       "Healthcare_1     4798\n",
       "Helthcare_2         0\n",
       "Shops_1             0\n",
       "Shops_2             0\n",
       "Price               0\n",
       "dtype: int64"
      ]
     },
     "execution_count": 58,
     "metadata": {},
     "output_type": "execute_result"
    }
   ],
   "source": [
    "train_df.isna().sum()"
   ]
  },
  {
   "cell_type": "code",
   "execution_count": 59,
   "metadata": {
    "execution": {
     "iopub.execute_input": "2021-11-02T18:55:58.449974Z",
     "iopub.status.busy": "2021-11-02T18:55:58.449531Z",
     "iopub.status.idle": "2021-11-02T18:55:58.463142Z",
     "shell.execute_reply": "2021-11-02T18:55:58.462108Z",
     "shell.execute_reply.started": "2021-11-02T18:55:58.449937Z"
    }
   },
   "outputs": [
    {
     "data": {
      "text/html": [
       "<div>\n",
       "<style scoped>\n",
       "    .dataframe tbody tr th:only-of-type {\n",
       "        vertical-align: middle;\n",
       "    }\n",
       "\n",
       "    .dataframe tbody tr th {\n",
       "        vertical-align: top;\n",
       "    }\n",
       "\n",
       "    .dataframe thead th {\n",
       "        text-align: right;\n",
       "    }\n",
       "</style>\n",
       "<table border=\"1\" class=\"dataframe\">\n",
       "  <thead>\n",
       "    <tr style=\"text-align: right;\">\n",
       "      <th></th>\n",
       "      <th>Square</th>\n",
       "      <th>LifeSquare</th>\n",
       "      <th>KitchenSquare</th>\n",
       "    </tr>\n",
       "  </thead>\n",
       "  <tbody>\n",
       "    <tr>\n",
       "      <th>0</th>\n",
       "      <td>115.027311</td>\n",
       "      <td>NaN</td>\n",
       "      <td>10.0</td>\n",
       "    </tr>\n",
       "    <tr>\n",
       "      <th>1</th>\n",
       "      <td>39.832524</td>\n",
       "      <td>23.169223</td>\n",
       "      <td>8.0</td>\n",
       "    </tr>\n",
       "    <tr>\n",
       "      <th>2</th>\n",
       "      <td>78.342215</td>\n",
       "      <td>47.671972</td>\n",
       "      <td>10.0</td>\n",
       "    </tr>\n",
       "    <tr>\n",
       "      <th>3</th>\n",
       "      <td>40.409907</td>\n",
       "      <td>NaN</td>\n",
       "      <td>3.0</td>\n",
       "    </tr>\n",
       "    <tr>\n",
       "      <th>4</th>\n",
       "      <td>64.285067</td>\n",
       "      <td>38.562517</td>\n",
       "      <td>9.0</td>\n",
       "    </tr>\n",
       "    <tr>\n",
       "      <th>5</th>\n",
       "      <td>62.528465</td>\n",
       "      <td>47.103833</td>\n",
       "      <td>6.0</td>\n",
       "    </tr>\n",
       "    <tr>\n",
       "      <th>6</th>\n",
       "      <td>33.938750</td>\n",
       "      <td>21.772930</td>\n",
       "      <td>9.0</td>\n",
       "    </tr>\n",
       "    <tr>\n",
       "      <th>7</th>\n",
       "      <td>50.391814</td>\n",
       "      <td>32.893256</td>\n",
       "      <td>8.0</td>\n",
       "    </tr>\n",
       "    <tr>\n",
       "      <th>8</th>\n",
       "      <td>46.887892</td>\n",
       "      <td>44.628132</td>\n",
       "      <td>3.0</td>\n",
       "    </tr>\n",
       "    <tr>\n",
       "      <th>9</th>\n",
       "      <td>79.867477</td>\n",
       "      <td>75.085125</td>\n",
       "      <td>3.0</td>\n",
       "    </tr>\n",
       "  </tbody>\n",
       "</table>\n",
       "</div>"
      ],
      "text/plain": [
       "       Square  LifeSquare  KitchenSquare\n",
       "0  115.027311         NaN           10.0\n",
       "1   39.832524   23.169223            8.0\n",
       "2   78.342215   47.671972           10.0\n",
       "3   40.409907         NaN            3.0\n",
       "4   64.285067   38.562517            9.0\n",
       "5   62.528465   47.103833            6.0\n",
       "6   33.938750   21.772930            9.0\n",
       "7   50.391814   32.893256            8.0\n",
       "8   46.887892   44.628132            3.0\n",
       "9   79.867477   75.085125            3.0"
      ]
     },
     "execution_count": 59,
     "metadata": {},
     "output_type": "execute_result"
    }
   ],
   "source": [
    "train_df[['Square', 'LifeSquare', 'KitchenSquare']].head(10)"
   ]
  },
  {
   "cell_type": "markdown",
   "metadata": {},
   "source": [
    "**LifeSquare**"
   ]
  },
  {
   "cell_type": "code",
   "execution_count": 60,
   "metadata": {
    "execution": {
     "iopub.execute_input": "2021-11-02T18:55:58.464899Z",
     "iopub.status.busy": "2021-11-02T18:55:58.464582Z",
     "iopub.status.idle": "2021-11-02T18:55:58.483106Z",
     "shell.execute_reply": "2021-11-02T18:55:58.482094Z",
     "shell.execute_reply.started": "2021-11-02T18:55:58.46487Z"
    }
   },
   "outputs": [],
   "source": [
    "condition = (train_df['LifeSquare'].isna()) \\\n",
    "             & (~train_df['Square'].isna()) \\\n",
    "             & (~train_df['KitchenSquare'].isna())\n",
    "        \n",
    "train_df.loc[condition, 'LifeSquare'] = train_df.loc[condition, 'Square'] \\\n",
    "                                            - train_df.loc[condition, 'KitchenSquare'] - 3"
   ]
  },
  {
   "cell_type": "code",
   "execution_count": 61,
   "metadata": {},
   "outputs": [
    {
     "data": {
      "text/html": [
       "<div>\n",
       "<style scoped>\n",
       "    .dataframe tbody tr th:only-of-type {\n",
       "        vertical-align: middle;\n",
       "    }\n",
       "\n",
       "    .dataframe tbody tr th {\n",
       "        vertical-align: top;\n",
       "    }\n",
       "\n",
       "    .dataframe thead th {\n",
       "        text-align: right;\n",
       "    }\n",
       "</style>\n",
       "<table border=\"1\" class=\"dataframe\">\n",
       "  <thead>\n",
       "    <tr style=\"text-align: right;\">\n",
       "      <th></th>\n",
       "      <th>Square</th>\n",
       "      <th>LifeSquare</th>\n",
       "      <th>KitchenSquare</th>\n",
       "    </tr>\n",
       "  </thead>\n",
       "  <tbody>\n",
       "    <tr>\n",
       "      <th>0</th>\n",
       "      <td>115.027311</td>\n",
       "      <td>102.027311</td>\n",
       "      <td>10.0</td>\n",
       "    </tr>\n",
       "    <tr>\n",
       "      <th>1</th>\n",
       "      <td>39.832524</td>\n",
       "      <td>23.169223</td>\n",
       "      <td>8.0</td>\n",
       "    </tr>\n",
       "    <tr>\n",
       "      <th>2</th>\n",
       "      <td>78.342215</td>\n",
       "      <td>47.671972</td>\n",
       "      <td>10.0</td>\n",
       "    </tr>\n",
       "    <tr>\n",
       "      <th>3</th>\n",
       "      <td>40.409907</td>\n",
       "      <td>34.409907</td>\n",
       "      <td>3.0</td>\n",
       "    </tr>\n",
       "    <tr>\n",
       "      <th>4</th>\n",
       "      <td>64.285067</td>\n",
       "      <td>38.562517</td>\n",
       "      <td>9.0</td>\n",
       "    </tr>\n",
       "    <tr>\n",
       "      <th>5</th>\n",
       "      <td>62.528465</td>\n",
       "      <td>47.103833</td>\n",
       "      <td>6.0</td>\n",
       "    </tr>\n",
       "    <tr>\n",
       "      <th>6</th>\n",
       "      <td>33.938750</td>\n",
       "      <td>21.772930</td>\n",
       "      <td>9.0</td>\n",
       "    </tr>\n",
       "    <tr>\n",
       "      <th>7</th>\n",
       "      <td>50.391814</td>\n",
       "      <td>32.893256</td>\n",
       "      <td>8.0</td>\n",
       "    </tr>\n",
       "    <tr>\n",
       "      <th>8</th>\n",
       "      <td>46.887892</td>\n",
       "      <td>44.628132</td>\n",
       "      <td>3.0</td>\n",
       "    </tr>\n",
       "    <tr>\n",
       "      <th>9</th>\n",
       "      <td>79.867477</td>\n",
       "      <td>75.085125</td>\n",
       "      <td>3.0</td>\n",
       "    </tr>\n",
       "  </tbody>\n",
       "</table>\n",
       "</div>"
      ],
      "text/plain": [
       "       Square  LifeSquare  KitchenSquare\n",
       "0  115.027311  102.027311           10.0\n",
       "1   39.832524   23.169223            8.0\n",
       "2   78.342215   47.671972           10.0\n",
       "3   40.409907   34.409907            3.0\n",
       "4   64.285067   38.562517            9.0\n",
       "5   62.528465   47.103833            6.0\n",
       "6   33.938750   21.772930            9.0\n",
       "7   50.391814   32.893256            8.0\n",
       "8   46.887892   44.628132            3.0\n",
       "9   79.867477   75.085125            3.0"
      ]
     },
     "execution_count": 61,
     "metadata": {},
     "output_type": "execute_result"
    }
   ],
   "source": [
    "train_df[['Square', 'LifeSquare', 'KitchenSquare']].head(10)"
   ]
  },
  {
   "cell_type": "markdown",
   "metadata": {},
   "source": [
    "**Healthcare_1**"
   ]
  },
  {
   "cell_type": "code",
   "execution_count": null,
   "metadata": {},
   "outputs": [],
   "source": [
    "train_df.drop('Healthcare_1', axis=1, inplace=True)"
   ]
  },
  {
   "cell_type": "code",
   "execution_count": 66,
   "metadata": {},
   "outputs": [
    {
     "data": {
      "text/html": [
       "<div>\n",
       "<style scoped>\n",
       "    .dataframe tbody tr th:only-of-type {\n",
       "        vertical-align: middle;\n",
       "    }\n",
       "\n",
       "    .dataframe tbody tr th {\n",
       "        vertical-align: top;\n",
       "    }\n",
       "\n",
       "    .dataframe thead th {\n",
       "        text-align: right;\n",
       "    }\n",
       "</style>\n",
       "<table border=\"1\" class=\"dataframe\">\n",
       "  <thead>\n",
       "    <tr style=\"text-align: right;\">\n",
       "      <th></th>\n",
       "      <th>Id</th>\n",
       "      <th>DistrictId</th>\n",
       "      <th>Rooms</th>\n",
       "      <th>Square</th>\n",
       "      <th>LifeSquare</th>\n",
       "      <th>KitchenSquare</th>\n",
       "      <th>Floor</th>\n",
       "      <th>HouseFloor</th>\n",
       "      <th>HouseYear</th>\n",
       "      <th>Ecology_1</th>\n",
       "      <th>Ecology_2</th>\n",
       "      <th>Ecology_3</th>\n",
       "      <th>Social_1</th>\n",
       "      <th>Social_2</th>\n",
       "      <th>Social_3</th>\n",
       "      <th>Helthcare_2</th>\n",
       "      <th>Shops_1</th>\n",
       "      <th>Shops_2</th>\n",
       "      <th>Price</th>\n",
       "    </tr>\n",
       "  </thead>\n",
       "  <tbody>\n",
       "    <tr>\n",
       "      <th>0</th>\n",
       "      <td>11809</td>\n",
       "      <td>27</td>\n",
       "      <td>3.0</td>\n",
       "      <td>115.027311</td>\n",
       "      <td>102.027311</td>\n",
       "      <td>10.0</td>\n",
       "      <td>4</td>\n",
       "      <td>10.0</td>\n",
       "      <td>2014</td>\n",
       "      <td>0.075424</td>\n",
       "      <td>B</td>\n",
       "      <td>B</td>\n",
       "      <td>11</td>\n",
       "      <td>3097</td>\n",
       "      <td>0</td>\n",
       "      <td>0</td>\n",
       "      <td>0</td>\n",
       "      <td>B</td>\n",
       "      <td>305018.871089</td>\n",
       "    </tr>\n",
       "    <tr>\n",
       "      <th>1</th>\n",
       "      <td>3013</td>\n",
       "      <td>22</td>\n",
       "      <td>1.0</td>\n",
       "      <td>39.832524</td>\n",
       "      <td>23.169223</td>\n",
       "      <td>8.0</td>\n",
       "      <td>7</td>\n",
       "      <td>8.0</td>\n",
       "      <td>1966</td>\n",
       "      <td>0.118537</td>\n",
       "      <td>B</td>\n",
       "      <td>B</td>\n",
       "      <td>30</td>\n",
       "      <td>6207</td>\n",
       "      <td>1</td>\n",
       "      <td>1</td>\n",
       "      <td>0</td>\n",
       "      <td>B</td>\n",
       "      <td>177734.553407</td>\n",
       "    </tr>\n",
       "    <tr>\n",
       "      <th>2</th>\n",
       "      <td>8215</td>\n",
       "      <td>1</td>\n",
       "      <td>3.0</td>\n",
       "      <td>78.342215</td>\n",
       "      <td>47.671972</td>\n",
       "      <td>10.0</td>\n",
       "      <td>2</td>\n",
       "      <td>17.0</td>\n",
       "      <td>1988</td>\n",
       "      <td>0.025609</td>\n",
       "      <td>B</td>\n",
       "      <td>B</td>\n",
       "      <td>33</td>\n",
       "      <td>5261</td>\n",
       "      <td>0</td>\n",
       "      <td>3</td>\n",
       "      <td>1</td>\n",
       "      <td>B</td>\n",
       "      <td>282078.720850</td>\n",
       "    </tr>\n",
       "    <tr>\n",
       "      <th>3</th>\n",
       "      <td>2352</td>\n",
       "      <td>1</td>\n",
       "      <td>1.0</td>\n",
       "      <td>40.409907</td>\n",
       "      <td>34.409907</td>\n",
       "      <td>3.0</td>\n",
       "      <td>10</td>\n",
       "      <td>22.0</td>\n",
       "      <td>1977</td>\n",
       "      <td>0.007122</td>\n",
       "      <td>B</td>\n",
       "      <td>B</td>\n",
       "      <td>1</td>\n",
       "      <td>264</td>\n",
       "      <td>0</td>\n",
       "      <td>0</td>\n",
       "      <td>1</td>\n",
       "      <td>B</td>\n",
       "      <td>168106.007630</td>\n",
       "    </tr>\n",
       "    <tr>\n",
       "      <th>4</th>\n",
       "      <td>13866</td>\n",
       "      <td>94</td>\n",
       "      <td>2.0</td>\n",
       "      <td>64.285067</td>\n",
       "      <td>38.562517</td>\n",
       "      <td>9.0</td>\n",
       "      <td>16</td>\n",
       "      <td>16.0</td>\n",
       "      <td>1972</td>\n",
       "      <td>0.282798</td>\n",
       "      <td>B</td>\n",
       "      <td>B</td>\n",
       "      <td>33</td>\n",
       "      <td>8667</td>\n",
       "      <td>2</td>\n",
       "      <td>0</td>\n",
       "      <td>6</td>\n",
       "      <td>B</td>\n",
       "      <td>343995.102962</td>\n",
       "    </tr>\n",
       "  </tbody>\n",
       "</table>\n",
       "</div>"
      ],
      "text/plain": [
       "      Id DistrictId  Rooms      Square  LifeSquare  KitchenSquare  Floor  \\\n",
       "0  11809         27    3.0  115.027311  102.027311           10.0      4   \n",
       "1   3013         22    1.0   39.832524   23.169223            8.0      7   \n",
       "2   8215          1    3.0   78.342215   47.671972           10.0      2   \n",
       "3   2352          1    1.0   40.409907   34.409907            3.0     10   \n",
       "4  13866         94    2.0   64.285067   38.562517            9.0     16   \n",
       "\n",
       "   HouseFloor  HouseYear  Ecology_1 Ecology_2 Ecology_3  Social_1  Social_2  \\\n",
       "0        10.0       2014   0.075424         B         B        11      3097   \n",
       "1         8.0       1966   0.118537         B         B        30      6207   \n",
       "2        17.0       1988   0.025609         B         B        33      5261   \n",
       "3        22.0       1977   0.007122         B         B         1       264   \n",
       "4        16.0       1972   0.282798         B         B        33      8667   \n",
       "\n",
       "   Social_3  Helthcare_2  Shops_1 Shops_2          Price  \n",
       "0         0            0        0       B  305018.871089  \n",
       "1         1            1        0       B  177734.553407  \n",
       "2         0            3        1       B  282078.720850  \n",
       "3         0            0        1       B  168106.007630  \n",
       "4         2            0        6       B  343995.102962  "
      ]
     },
     "execution_count": 66,
     "metadata": {},
     "output_type": "execute_result"
    }
   ],
   "source": [
    "train_df.head()"
   ]
  },
  {
   "cell_type": "code",
   "execution_count": 89,
   "metadata": {
    "execution": {
     "iopub.execute_input": "2021-11-02T18:55:58.49842Z",
     "iopub.status.busy": "2021-11-02T18:55:58.497914Z",
     "iopub.status.idle": "2021-11-02T18:55:58.520118Z",
     "shell.execute_reply": "2021-11-02T18:55:58.518722Z",
     "shell.execute_reply.started": "2021-11-02T18:55:58.498385Z"
    }
   },
   "outputs": [],
   "source": [
    "class DataPreprocessing:\n",
    "    \"\"\"Подготовка исходных данных\"\"\"\n",
    "\n",
    "    def __init__(self):\n",
    "        \"\"\"Параметры класса\"\"\"\n",
    "        self.medians = None\n",
    "        self.kitchen_square_quantile = None\n",
    "        \n",
    "    def fit(self, X):\n",
    "        \"\"\"Сохранение статистик\"\"\"       \n",
    "        # Расчет медиан\n",
    "        self.medians = X.median()\n",
    "        self.kitchen_square_quantile = X['KitchenSquare'].quantile(.975)\n",
    "    \n",
    "    def transform(self, X):\n",
    "        \"\"\"Трансформация данных\"\"\"\n",
    "\n",
    "        # Rooms\n",
    "        X['Rooms_outlier'] = 0\n",
    "        X.loc[(X['Rooms'] == 0) | (X['Rooms'] >= 6), 'Rooms_outlier'] = 1\n",
    "        \n",
    "        X.loc[X['Rooms'] == 0, 'Rooms'] = 1\n",
    "        X.loc[X['Rooms'] >= 6, 'Rooms'] = self.medians['Rooms']\n",
    "        \n",
    "        # KitchenSquare\n",
    "        condition = (X['KitchenSquare'].isna()) \\\n",
    "                    | (X['KitchenSquare'] > self.kitchen_square_quantile)\n",
    "        \n",
    "        X.loc[condition, 'KitchenSquare'] = self.medians['KitchenSquare']\n",
    "\n",
    "        X.loc[X['KitchenSquare'] < 3, 'KitchenSquare'] = 3\n",
    "        \n",
    "        # HouseFloor, Floor\n",
    "        X['HouseFloor_outlier'] = 0\n",
    "        X.loc[X['HouseFloor'] == 0, 'HouseFloor_outlier'] = 1\n",
    "        X.loc[X['Floor'] > X['HouseFloor'], 'HouseFloor_outlier'] = 1\n",
    "        \n",
    "        X.loc[X['HouseFloor'] == 0, 'HouseFloor'] = self.medians['HouseFloor']\n",
    "        \n",
    "        floor_outliers = X.loc[X['Floor'] > X['HouseFloor']].index\n",
    "        X.loc[floor_outliers, 'Floor'] = X.loc[floor_outliers, 'HouseFloor']\\\n",
    "                                            .apply(lambda x: random.randint(1, x))\n",
    "        \n",
    "        # HouseYear\n",
    "        current_year = datetime.now().year\n",
    "        \n",
    "        X['HouseYear_outlier'] = 0\n",
    "        X.loc[X['HouseYear'] > current_year, 'HouseYear_outlier'] = 1\n",
    "        \n",
    "        X.loc[X['HouseYear'] > current_year, 'HouseYear'] = current_year\n",
    "        \n",
    "        # Healthcare_1\n",
    "        if 'Healthcare_1' in X.columns:\n",
    "            X.drop('Healthcare_1', axis=1, inplace=True)\n",
    "            \n",
    "        # LifeSquare\n",
    "        X['LifeSquare_nan'] = X['LifeSquare'].isna() * 1\n",
    "        condition = (X['LifeSquare'].isna()) & \\\n",
    "                      (~X['Square'].isna()) & \\\n",
    "                      (~X['KitchenSquare'].isna())\n",
    "        \n",
    "        X.loc[condition, 'LifeSquare'] = X.loc[condition, 'Square'] - X.loc[condition, 'KitchenSquare'] - 3\n",
    "        \n",
    "        \n",
    "        X.fillna(self.medians, inplace=True)\n",
    "        \n",
    "        return X"
   ]
  },
  {
   "cell_type": "markdown",
   "metadata": {},
   "source": [
    "### 4. Построение новых признаков  <a class='anchor' id='feature'>"
   ]
  },
  {
   "cell_type": "markdown",
   "metadata": {},
   "source": [
    "**Dummies**"
   ]
  },
  {
   "cell_type": "code",
   "execution_count": 67,
   "metadata": {
    "execution": {
     "iopub.execute_input": "2021-11-02T18:55:58.522424Z",
     "iopub.status.busy": "2021-11-02T18:55:58.521744Z",
     "iopub.status.idle": "2021-11-02T18:55:58.55529Z",
     "shell.execute_reply": "2021-11-02T18:55:58.55443Z",
     "shell.execute_reply.started": "2021-11-02T18:55:58.522376Z"
    }
   },
   "outputs": [],
   "source": [
    "binary_to_numbers = {'A': 0, 'B': 1}\n",
    "\n",
    "train_df['Ecology_2'] = train_df['Ecology_2'].replace(binary_to_numbers)\n",
    "train_df['Ecology_3'] = train_df['Ecology_3'].replace(binary_to_numbers)\n",
    "train_df['Shops_2'] = train_df['Shops_2'].replace(binary_to_numbers)"
   ]
  },
  {
   "cell_type": "code",
   "execution_count": 68,
   "metadata": {},
   "outputs": [
    {
     "data": {
      "text/html": [
       "<div>\n",
       "<style scoped>\n",
       "    .dataframe tbody tr th:only-of-type {\n",
       "        vertical-align: middle;\n",
       "    }\n",
       "\n",
       "    .dataframe tbody tr th {\n",
       "        vertical-align: top;\n",
       "    }\n",
       "\n",
       "    .dataframe thead th {\n",
       "        text-align: right;\n",
       "    }\n",
       "</style>\n",
       "<table border=\"1\" class=\"dataframe\">\n",
       "  <thead>\n",
       "    <tr style=\"text-align: right;\">\n",
       "      <th></th>\n",
       "      <th>Id</th>\n",
       "      <th>DistrictId</th>\n",
       "      <th>Rooms</th>\n",
       "      <th>Square</th>\n",
       "      <th>LifeSquare</th>\n",
       "      <th>KitchenSquare</th>\n",
       "      <th>Floor</th>\n",
       "      <th>HouseFloor</th>\n",
       "      <th>HouseYear</th>\n",
       "      <th>Ecology_1</th>\n",
       "      <th>Ecology_2</th>\n",
       "      <th>Ecology_3</th>\n",
       "      <th>Social_1</th>\n",
       "      <th>Social_2</th>\n",
       "      <th>Social_3</th>\n",
       "      <th>Helthcare_2</th>\n",
       "      <th>Shops_1</th>\n",
       "      <th>Shops_2</th>\n",
       "      <th>Price</th>\n",
       "    </tr>\n",
       "  </thead>\n",
       "  <tbody>\n",
       "    <tr>\n",
       "      <th>0</th>\n",
       "      <td>11809</td>\n",
       "      <td>27</td>\n",
       "      <td>3.0</td>\n",
       "      <td>115.027311</td>\n",
       "      <td>102.027311</td>\n",
       "      <td>10.0</td>\n",
       "      <td>4</td>\n",
       "      <td>10.0</td>\n",
       "      <td>2014</td>\n",
       "      <td>0.075424</td>\n",
       "      <td>1</td>\n",
       "      <td>1</td>\n",
       "      <td>11</td>\n",
       "      <td>3097</td>\n",
       "      <td>0</td>\n",
       "      <td>0</td>\n",
       "      <td>0</td>\n",
       "      <td>1</td>\n",
       "      <td>305018.871089</td>\n",
       "    </tr>\n",
       "    <tr>\n",
       "      <th>1</th>\n",
       "      <td>3013</td>\n",
       "      <td>22</td>\n",
       "      <td>1.0</td>\n",
       "      <td>39.832524</td>\n",
       "      <td>23.169223</td>\n",
       "      <td>8.0</td>\n",
       "      <td>7</td>\n",
       "      <td>8.0</td>\n",
       "      <td>1966</td>\n",
       "      <td>0.118537</td>\n",
       "      <td>1</td>\n",
       "      <td>1</td>\n",
       "      <td>30</td>\n",
       "      <td>6207</td>\n",
       "      <td>1</td>\n",
       "      <td>1</td>\n",
       "      <td>0</td>\n",
       "      <td>1</td>\n",
       "      <td>177734.553407</td>\n",
       "    </tr>\n",
       "    <tr>\n",
       "      <th>2</th>\n",
       "      <td>8215</td>\n",
       "      <td>1</td>\n",
       "      <td>3.0</td>\n",
       "      <td>78.342215</td>\n",
       "      <td>47.671972</td>\n",
       "      <td>10.0</td>\n",
       "      <td>2</td>\n",
       "      <td>17.0</td>\n",
       "      <td>1988</td>\n",
       "      <td>0.025609</td>\n",
       "      <td>1</td>\n",
       "      <td>1</td>\n",
       "      <td>33</td>\n",
       "      <td>5261</td>\n",
       "      <td>0</td>\n",
       "      <td>3</td>\n",
       "      <td>1</td>\n",
       "      <td>1</td>\n",
       "      <td>282078.720850</td>\n",
       "    </tr>\n",
       "    <tr>\n",
       "      <th>3</th>\n",
       "      <td>2352</td>\n",
       "      <td>1</td>\n",
       "      <td>1.0</td>\n",
       "      <td>40.409907</td>\n",
       "      <td>34.409907</td>\n",
       "      <td>3.0</td>\n",
       "      <td>10</td>\n",
       "      <td>22.0</td>\n",
       "      <td>1977</td>\n",
       "      <td>0.007122</td>\n",
       "      <td>1</td>\n",
       "      <td>1</td>\n",
       "      <td>1</td>\n",
       "      <td>264</td>\n",
       "      <td>0</td>\n",
       "      <td>0</td>\n",
       "      <td>1</td>\n",
       "      <td>1</td>\n",
       "      <td>168106.007630</td>\n",
       "    </tr>\n",
       "    <tr>\n",
       "      <th>4</th>\n",
       "      <td>13866</td>\n",
       "      <td>94</td>\n",
       "      <td>2.0</td>\n",
       "      <td>64.285067</td>\n",
       "      <td>38.562517</td>\n",
       "      <td>9.0</td>\n",
       "      <td>16</td>\n",
       "      <td>16.0</td>\n",
       "      <td>1972</td>\n",
       "      <td>0.282798</td>\n",
       "      <td>1</td>\n",
       "      <td>1</td>\n",
       "      <td>33</td>\n",
       "      <td>8667</td>\n",
       "      <td>2</td>\n",
       "      <td>0</td>\n",
       "      <td>6</td>\n",
       "      <td>1</td>\n",
       "      <td>343995.102962</td>\n",
       "    </tr>\n",
       "  </tbody>\n",
       "</table>\n",
       "</div>"
      ],
      "text/plain": [
       "      Id DistrictId  Rooms      Square  LifeSquare  KitchenSquare  Floor  \\\n",
       "0  11809         27    3.0  115.027311  102.027311           10.0      4   \n",
       "1   3013         22    1.0   39.832524   23.169223            8.0      7   \n",
       "2   8215          1    3.0   78.342215   47.671972           10.0      2   \n",
       "3   2352          1    1.0   40.409907   34.409907            3.0     10   \n",
       "4  13866         94    2.0   64.285067   38.562517            9.0     16   \n",
       "\n",
       "   HouseFloor  HouseYear  Ecology_1  Ecology_2  Ecology_3  Social_1  Social_2  \\\n",
       "0        10.0       2014   0.075424          1          1        11      3097   \n",
       "1         8.0       1966   0.118537          1          1        30      6207   \n",
       "2        17.0       1988   0.025609          1          1        33      5261   \n",
       "3        22.0       1977   0.007122          1          1         1       264   \n",
       "4        16.0       1972   0.282798          1          1        33      8667   \n",
       "\n",
       "   Social_3  Helthcare_2  Shops_1  Shops_2          Price  \n",
       "0         0            0        0        1  305018.871089  \n",
       "1         1            1        0        1  177734.553407  \n",
       "2         0            3        1        1  282078.720850  \n",
       "3         0            0        1        1  168106.007630  \n",
       "4         2            0        6        1  343995.102962  "
      ]
     },
     "execution_count": 68,
     "metadata": {},
     "output_type": "execute_result"
    }
   ],
   "source": [
    "train_df.head()"
   ]
  },
  {
   "cell_type": "markdown",
   "metadata": {},
   "source": [
    "**DistrictSize, IsDistrictLarge**"
   ]
  },
  {
   "cell_type": "code",
   "execution_count": 69,
   "metadata": {
    "execution": {
     "iopub.execute_input": "2021-11-02T18:55:58.557101Z",
     "iopub.status.busy": "2021-11-02T18:55:58.55662Z",
     "iopub.status.idle": "2021-11-02T18:55:58.5753Z",
     "shell.execute_reply": "2021-11-02T18:55:58.574254Z",
     "shell.execute_reply.started": "2021-11-02T18:55:58.557067Z"
    }
   },
   "outputs": [
    {
     "data": {
      "text/html": [
       "<div>\n",
       "<style scoped>\n",
       "    .dataframe tbody tr th:only-of-type {\n",
       "        vertical-align: middle;\n",
       "    }\n",
       "\n",
       "    .dataframe tbody tr th {\n",
       "        vertical-align: top;\n",
       "    }\n",
       "\n",
       "    .dataframe thead th {\n",
       "        text-align: right;\n",
       "    }\n",
       "</style>\n",
       "<table border=\"1\" class=\"dataframe\">\n",
       "  <thead>\n",
       "    <tr style=\"text-align: right;\">\n",
       "      <th></th>\n",
       "      <th>DistrictId</th>\n",
       "      <th>DistrictSize</th>\n",
       "    </tr>\n",
       "  </thead>\n",
       "  <tbody>\n",
       "    <tr>\n",
       "      <th>0</th>\n",
       "      <td>27</td>\n",
       "      <td>851</td>\n",
       "    </tr>\n",
       "    <tr>\n",
       "      <th>1</th>\n",
       "      <td>1</td>\n",
       "      <td>652</td>\n",
       "    </tr>\n",
       "    <tr>\n",
       "      <th>2</th>\n",
       "      <td>23</td>\n",
       "      <td>565</td>\n",
       "    </tr>\n",
       "    <tr>\n",
       "      <th>3</th>\n",
       "      <td>6</td>\n",
       "      <td>511</td>\n",
       "    </tr>\n",
       "    <tr>\n",
       "      <th>4</th>\n",
       "      <td>9</td>\n",
       "      <td>294</td>\n",
       "    </tr>\n",
       "  </tbody>\n",
       "</table>\n",
       "</div>"
      ],
      "text/plain": [
       "  DistrictId  DistrictSize\n",
       "0         27           851\n",
       "1          1           652\n",
       "2         23           565\n",
       "3          6           511\n",
       "4          9           294"
      ]
     },
     "execution_count": 69,
     "metadata": {},
     "output_type": "execute_result"
    }
   ],
   "source": [
    "district_size = train_df['DistrictId'].value_counts().reset_index()\\\n",
    "                    .rename(columns={'index':'DistrictId', 'DistrictId':'DistrictSize'})\n",
    "\n",
    "district_size.head()"
   ]
  },
  {
   "cell_type": "code",
   "execution_count": 70,
   "metadata": {
    "execution": {
     "iopub.execute_input": "2021-11-02T18:55:58.577297Z",
     "iopub.status.busy": "2021-11-02T18:55:58.576884Z",
     "iopub.status.idle": "2021-11-02T18:55:58.616881Z",
     "shell.execute_reply": "2021-11-02T18:55:58.615681Z",
     "shell.execute_reply.started": "2021-11-02T18:55:58.577249Z"
    }
   },
   "outputs": [
    {
     "data": {
      "text/html": [
       "<div>\n",
       "<style scoped>\n",
       "    .dataframe tbody tr th:only-of-type {\n",
       "        vertical-align: middle;\n",
       "    }\n",
       "\n",
       "    .dataframe tbody tr th {\n",
       "        vertical-align: top;\n",
       "    }\n",
       "\n",
       "    .dataframe thead th {\n",
       "        text-align: right;\n",
       "    }\n",
       "</style>\n",
       "<table border=\"1\" class=\"dataframe\">\n",
       "  <thead>\n",
       "    <tr style=\"text-align: right;\">\n",
       "      <th></th>\n",
       "      <th>Id</th>\n",
       "      <th>DistrictId</th>\n",
       "      <th>Rooms</th>\n",
       "      <th>Square</th>\n",
       "      <th>LifeSquare</th>\n",
       "      <th>KitchenSquare</th>\n",
       "      <th>Floor</th>\n",
       "      <th>HouseFloor</th>\n",
       "      <th>HouseYear</th>\n",
       "      <th>Ecology_1</th>\n",
       "      <th>Ecology_2</th>\n",
       "      <th>Ecology_3</th>\n",
       "      <th>Social_1</th>\n",
       "      <th>Social_2</th>\n",
       "      <th>Social_3</th>\n",
       "      <th>Helthcare_2</th>\n",
       "      <th>Shops_1</th>\n",
       "      <th>Shops_2</th>\n",
       "      <th>Price</th>\n",
       "      <th>DistrictSize</th>\n",
       "    </tr>\n",
       "  </thead>\n",
       "  <tbody>\n",
       "    <tr>\n",
       "      <th>0</th>\n",
       "      <td>11809</td>\n",
       "      <td>27</td>\n",
       "      <td>3.0</td>\n",
       "      <td>115.027311</td>\n",
       "      <td>102.027311</td>\n",
       "      <td>10.0</td>\n",
       "      <td>4</td>\n",
       "      <td>10.0</td>\n",
       "      <td>2014</td>\n",
       "      <td>0.075424</td>\n",
       "      <td>1</td>\n",
       "      <td>1</td>\n",
       "      <td>11</td>\n",
       "      <td>3097</td>\n",
       "      <td>0</td>\n",
       "      <td>0</td>\n",
       "      <td>0</td>\n",
       "      <td>1</td>\n",
       "      <td>305018.871089</td>\n",
       "      <td>851</td>\n",
       "    </tr>\n",
       "    <tr>\n",
       "      <th>1</th>\n",
       "      <td>3013</td>\n",
       "      <td>22</td>\n",
       "      <td>1.0</td>\n",
       "      <td>39.832524</td>\n",
       "      <td>23.169223</td>\n",
       "      <td>8.0</td>\n",
       "      <td>7</td>\n",
       "      <td>8.0</td>\n",
       "      <td>1966</td>\n",
       "      <td>0.118537</td>\n",
       "      <td>1</td>\n",
       "      <td>1</td>\n",
       "      <td>30</td>\n",
       "      <td>6207</td>\n",
       "      <td>1</td>\n",
       "      <td>1</td>\n",
       "      <td>0</td>\n",
       "      <td>1</td>\n",
       "      <td>177734.553407</td>\n",
       "      <td>78</td>\n",
       "    </tr>\n",
       "    <tr>\n",
       "      <th>2</th>\n",
       "      <td>8215</td>\n",
       "      <td>1</td>\n",
       "      <td>3.0</td>\n",
       "      <td>78.342215</td>\n",
       "      <td>47.671972</td>\n",
       "      <td>10.0</td>\n",
       "      <td>2</td>\n",
       "      <td>17.0</td>\n",
       "      <td>1988</td>\n",
       "      <td>0.025609</td>\n",
       "      <td>1</td>\n",
       "      <td>1</td>\n",
       "      <td>33</td>\n",
       "      <td>5261</td>\n",
       "      <td>0</td>\n",
       "      <td>3</td>\n",
       "      <td>1</td>\n",
       "      <td>1</td>\n",
       "      <td>282078.720850</td>\n",
       "      <td>652</td>\n",
       "    </tr>\n",
       "    <tr>\n",
       "      <th>3</th>\n",
       "      <td>2352</td>\n",
       "      <td>1</td>\n",
       "      <td>1.0</td>\n",
       "      <td>40.409907</td>\n",
       "      <td>34.409907</td>\n",
       "      <td>3.0</td>\n",
       "      <td>10</td>\n",
       "      <td>22.0</td>\n",
       "      <td>1977</td>\n",
       "      <td>0.007122</td>\n",
       "      <td>1</td>\n",
       "      <td>1</td>\n",
       "      <td>1</td>\n",
       "      <td>264</td>\n",
       "      <td>0</td>\n",
       "      <td>0</td>\n",
       "      <td>1</td>\n",
       "      <td>1</td>\n",
       "      <td>168106.007630</td>\n",
       "      <td>652</td>\n",
       "    </tr>\n",
       "    <tr>\n",
       "      <th>4</th>\n",
       "      <td>13866</td>\n",
       "      <td>94</td>\n",
       "      <td>2.0</td>\n",
       "      <td>64.285067</td>\n",
       "      <td>38.562517</td>\n",
       "      <td>9.0</td>\n",
       "      <td>16</td>\n",
       "      <td>16.0</td>\n",
       "      <td>1972</td>\n",
       "      <td>0.282798</td>\n",
       "      <td>1</td>\n",
       "      <td>1</td>\n",
       "      <td>33</td>\n",
       "      <td>8667</td>\n",
       "      <td>2</td>\n",
       "      <td>0</td>\n",
       "      <td>6</td>\n",
       "      <td>1</td>\n",
       "      <td>343995.102962</td>\n",
       "      <td>89</td>\n",
       "    </tr>\n",
       "  </tbody>\n",
       "</table>\n",
       "</div>"
      ],
      "text/plain": [
       "      Id DistrictId  Rooms      Square  LifeSquare  KitchenSquare  Floor  \\\n",
       "0  11809         27    3.0  115.027311  102.027311           10.0      4   \n",
       "1   3013         22    1.0   39.832524   23.169223            8.0      7   \n",
       "2   8215          1    3.0   78.342215   47.671972           10.0      2   \n",
       "3   2352          1    1.0   40.409907   34.409907            3.0     10   \n",
       "4  13866         94    2.0   64.285067   38.562517            9.0     16   \n",
       "\n",
       "   HouseFloor  HouseYear  Ecology_1  Ecology_2  Ecology_3  Social_1  Social_2  \\\n",
       "0        10.0       2014   0.075424          1          1        11      3097   \n",
       "1         8.0       1966   0.118537          1          1        30      6207   \n",
       "2        17.0       1988   0.025609          1          1        33      5261   \n",
       "3        22.0       1977   0.007122          1          1         1       264   \n",
       "4        16.0       1972   0.282798          1          1        33      8667   \n",
       "\n",
       "   Social_3  Helthcare_2  Shops_1  Shops_2          Price  DistrictSize  \n",
       "0         0            0        0        1  305018.871089           851  \n",
       "1         1            1        0        1  177734.553407            78  \n",
       "2         0            3        1        1  282078.720850           652  \n",
       "3         0            0        1        1  168106.007630           652  \n",
       "4         2            0        6        1  343995.102962            89  "
      ]
     },
     "execution_count": 70,
     "metadata": {},
     "output_type": "execute_result"
    }
   ],
   "source": [
    "train_df = train_df.merge(district_size, on='DistrictId', how='left')\n",
    "train_df.head()"
   ]
  },
  {
   "cell_type": "code",
   "execution_count": 71,
   "metadata": {
    "execution": {
     "iopub.execute_input": "2021-11-02T18:55:58.6211Z",
     "iopub.status.busy": "2021-11-02T18:55:58.620443Z",
     "iopub.status.idle": "2021-11-02T18:55:58.630669Z",
     "shell.execute_reply": "2021-11-02T18:55:58.629541Z",
     "shell.execute_reply.started": "2021-11-02T18:55:58.62105Z"
    }
   },
   "outputs": [
    {
     "data": {
      "text/plain": [
       "True     5069\n",
       "False    4931\n",
       "Name: DistrictSize, dtype: int64"
      ]
     },
     "execution_count": 71,
     "metadata": {},
     "output_type": "execute_result"
    }
   ],
   "source": [
    "(train_df['DistrictSize'] > 100).value_counts()"
   ]
  },
  {
   "cell_type": "code",
   "execution_count": 72,
   "metadata": {
    "execution": {
     "iopub.execute_input": "2021-11-02T18:55:58.632624Z",
     "iopub.status.busy": "2021-11-02T18:55:58.632214Z",
     "iopub.status.idle": "2021-11-02T18:55:58.639821Z",
     "shell.execute_reply": "2021-11-02T18:55:58.638892Z",
     "shell.execute_reply.started": "2021-11-02T18:55:58.632565Z"
    }
   },
   "outputs": [],
   "source": [
    "train_df['IsDistrictLarge'] = (train_df['DistrictSize'] > 100).astype(int)"
   ]
  },
  {
   "cell_type": "code",
   "execution_count": 73,
   "metadata": {},
   "outputs": [
    {
     "data": {
      "text/html": [
       "<div>\n",
       "<style scoped>\n",
       "    .dataframe tbody tr th:only-of-type {\n",
       "        vertical-align: middle;\n",
       "    }\n",
       "\n",
       "    .dataframe tbody tr th {\n",
       "        vertical-align: top;\n",
       "    }\n",
       "\n",
       "    .dataframe thead th {\n",
       "        text-align: right;\n",
       "    }\n",
       "</style>\n",
       "<table border=\"1\" class=\"dataframe\">\n",
       "  <thead>\n",
       "    <tr style=\"text-align: right;\">\n",
       "      <th></th>\n",
       "      <th>Id</th>\n",
       "      <th>DistrictId</th>\n",
       "      <th>Rooms</th>\n",
       "      <th>Square</th>\n",
       "      <th>LifeSquare</th>\n",
       "      <th>KitchenSquare</th>\n",
       "      <th>Floor</th>\n",
       "      <th>HouseFloor</th>\n",
       "      <th>HouseYear</th>\n",
       "      <th>Ecology_1</th>\n",
       "      <th>...</th>\n",
       "      <th>Ecology_3</th>\n",
       "      <th>Social_1</th>\n",
       "      <th>Social_2</th>\n",
       "      <th>Social_3</th>\n",
       "      <th>Helthcare_2</th>\n",
       "      <th>Shops_1</th>\n",
       "      <th>Shops_2</th>\n",
       "      <th>Price</th>\n",
       "      <th>DistrictSize</th>\n",
       "      <th>IsDistrictLarge</th>\n",
       "    </tr>\n",
       "  </thead>\n",
       "  <tbody>\n",
       "    <tr>\n",
       "      <th>0</th>\n",
       "      <td>11809</td>\n",
       "      <td>27</td>\n",
       "      <td>3.0</td>\n",
       "      <td>115.027311</td>\n",
       "      <td>102.027311</td>\n",
       "      <td>10.0</td>\n",
       "      <td>4</td>\n",
       "      <td>10.0</td>\n",
       "      <td>2014</td>\n",
       "      <td>0.075424</td>\n",
       "      <td>...</td>\n",
       "      <td>1</td>\n",
       "      <td>11</td>\n",
       "      <td>3097</td>\n",
       "      <td>0</td>\n",
       "      <td>0</td>\n",
       "      <td>0</td>\n",
       "      <td>1</td>\n",
       "      <td>305018.871089</td>\n",
       "      <td>851</td>\n",
       "      <td>1</td>\n",
       "    </tr>\n",
       "    <tr>\n",
       "      <th>1</th>\n",
       "      <td>3013</td>\n",
       "      <td>22</td>\n",
       "      <td>1.0</td>\n",
       "      <td>39.832524</td>\n",
       "      <td>23.169223</td>\n",
       "      <td>8.0</td>\n",
       "      <td>7</td>\n",
       "      <td>8.0</td>\n",
       "      <td>1966</td>\n",
       "      <td>0.118537</td>\n",
       "      <td>...</td>\n",
       "      <td>1</td>\n",
       "      <td>30</td>\n",
       "      <td>6207</td>\n",
       "      <td>1</td>\n",
       "      <td>1</td>\n",
       "      <td>0</td>\n",
       "      <td>1</td>\n",
       "      <td>177734.553407</td>\n",
       "      <td>78</td>\n",
       "      <td>0</td>\n",
       "    </tr>\n",
       "    <tr>\n",
       "      <th>2</th>\n",
       "      <td>8215</td>\n",
       "      <td>1</td>\n",
       "      <td>3.0</td>\n",
       "      <td>78.342215</td>\n",
       "      <td>47.671972</td>\n",
       "      <td>10.0</td>\n",
       "      <td>2</td>\n",
       "      <td>17.0</td>\n",
       "      <td>1988</td>\n",
       "      <td>0.025609</td>\n",
       "      <td>...</td>\n",
       "      <td>1</td>\n",
       "      <td>33</td>\n",
       "      <td>5261</td>\n",
       "      <td>0</td>\n",
       "      <td>3</td>\n",
       "      <td>1</td>\n",
       "      <td>1</td>\n",
       "      <td>282078.720850</td>\n",
       "      <td>652</td>\n",
       "      <td>1</td>\n",
       "    </tr>\n",
       "    <tr>\n",
       "      <th>3</th>\n",
       "      <td>2352</td>\n",
       "      <td>1</td>\n",
       "      <td>1.0</td>\n",
       "      <td>40.409907</td>\n",
       "      <td>34.409907</td>\n",
       "      <td>3.0</td>\n",
       "      <td>10</td>\n",
       "      <td>22.0</td>\n",
       "      <td>1977</td>\n",
       "      <td>0.007122</td>\n",
       "      <td>...</td>\n",
       "      <td>1</td>\n",
       "      <td>1</td>\n",
       "      <td>264</td>\n",
       "      <td>0</td>\n",
       "      <td>0</td>\n",
       "      <td>1</td>\n",
       "      <td>1</td>\n",
       "      <td>168106.007630</td>\n",
       "      <td>652</td>\n",
       "      <td>1</td>\n",
       "    </tr>\n",
       "    <tr>\n",
       "      <th>4</th>\n",
       "      <td>13866</td>\n",
       "      <td>94</td>\n",
       "      <td>2.0</td>\n",
       "      <td>64.285067</td>\n",
       "      <td>38.562517</td>\n",
       "      <td>9.0</td>\n",
       "      <td>16</td>\n",
       "      <td>16.0</td>\n",
       "      <td>1972</td>\n",
       "      <td>0.282798</td>\n",
       "      <td>...</td>\n",
       "      <td>1</td>\n",
       "      <td>33</td>\n",
       "      <td>8667</td>\n",
       "      <td>2</td>\n",
       "      <td>0</td>\n",
       "      <td>6</td>\n",
       "      <td>1</td>\n",
       "      <td>343995.102962</td>\n",
       "      <td>89</td>\n",
       "      <td>0</td>\n",
       "    </tr>\n",
       "  </tbody>\n",
       "</table>\n",
       "<p>5 rows × 21 columns</p>\n",
       "</div>"
      ],
      "text/plain": [
       "      Id DistrictId  Rooms      Square  LifeSquare  KitchenSquare  Floor  \\\n",
       "0  11809         27    3.0  115.027311  102.027311           10.0      4   \n",
       "1   3013         22    1.0   39.832524   23.169223            8.0      7   \n",
       "2   8215          1    3.0   78.342215   47.671972           10.0      2   \n",
       "3   2352          1    1.0   40.409907   34.409907            3.0     10   \n",
       "4  13866         94    2.0   64.285067   38.562517            9.0     16   \n",
       "\n",
       "   HouseFloor  HouseYear  Ecology_1  ...  Ecology_3  Social_1  Social_2  \\\n",
       "0        10.0       2014   0.075424  ...          1        11      3097   \n",
       "1         8.0       1966   0.118537  ...          1        30      6207   \n",
       "2        17.0       1988   0.025609  ...          1        33      5261   \n",
       "3        22.0       1977   0.007122  ...          1         1       264   \n",
       "4        16.0       1972   0.282798  ...          1        33      8667   \n",
       "\n",
       "   Social_3  Helthcare_2  Shops_1  Shops_2          Price  DistrictSize  \\\n",
       "0         0            0        0        1  305018.871089           851   \n",
       "1         1            1        0        1  177734.553407            78   \n",
       "2         0            3        1        1  282078.720850           652   \n",
       "3         0            0        1        1  168106.007630           652   \n",
       "4         2            0        6        1  343995.102962            89   \n",
       "\n",
       "   IsDistrictLarge  \n",
       "0                1  \n",
       "1                0  \n",
       "2                1  \n",
       "3                1  \n",
       "4                0  \n",
       "\n",
       "[5 rows x 21 columns]"
      ]
     },
     "execution_count": 73,
     "metadata": {},
     "output_type": "execute_result"
    }
   ],
   "source": [
    "train_df.head()"
   ]
  },
  {
   "cell_type": "markdown",
   "metadata": {},
   "source": [
    "**MedPriceByDistrict**"
   ]
  },
  {
   "cell_type": "code",
   "execution_count": 74,
   "metadata": {
    "execution": {
     "iopub.execute_input": "2021-11-02T18:55:58.641574Z",
     "iopub.status.busy": "2021-11-02T18:55:58.64116Z",
     "iopub.status.idle": "2021-11-02T18:55:58.665903Z",
     "shell.execute_reply": "2021-11-02T18:55:58.664877Z",
     "shell.execute_reply.started": "2021-11-02T18:55:58.641535Z"
    }
   },
   "outputs": [
    {
     "data": {
      "text/html": [
       "<div>\n",
       "<style scoped>\n",
       "    .dataframe tbody tr th:only-of-type {\n",
       "        vertical-align: middle;\n",
       "    }\n",
       "\n",
       "    .dataframe tbody tr th {\n",
       "        vertical-align: top;\n",
       "    }\n",
       "\n",
       "    .dataframe thead th {\n",
       "        text-align: right;\n",
       "    }\n",
       "</style>\n",
       "<table border=\"1\" class=\"dataframe\">\n",
       "  <thead>\n",
       "    <tr style=\"text-align: right;\">\n",
       "      <th></th>\n",
       "      <th>DistrictId</th>\n",
       "      <th>Rooms</th>\n",
       "      <th>MedPriceByDistrict</th>\n",
       "    </tr>\n",
       "  </thead>\n",
       "  <tbody>\n",
       "    <tr>\n",
       "      <th>0</th>\n",
       "      <td>0</td>\n",
       "      <td>1.0</td>\n",
       "      <td>142799.434052</td>\n",
       "    </tr>\n",
       "    <tr>\n",
       "      <th>1</th>\n",
       "      <td>0</td>\n",
       "      <td>2.0</td>\n",
       "      <td>176210.812334</td>\n",
       "    </tr>\n",
       "    <tr>\n",
       "      <th>2</th>\n",
       "      <td>0</td>\n",
       "      <td>3.0</td>\n",
       "      <td>300610.359425</td>\n",
       "    </tr>\n",
       "    <tr>\n",
       "      <th>3</th>\n",
       "      <td>1</td>\n",
       "      <td>1.0</td>\n",
       "      <td>146735.671740</td>\n",
       "    </tr>\n",
       "    <tr>\n",
       "      <th>4</th>\n",
       "      <td>1</td>\n",
       "      <td>2.0</td>\n",
       "      <td>202666.310126</td>\n",
       "    </tr>\n",
       "  </tbody>\n",
       "</table>\n",
       "</div>"
      ],
      "text/plain": [
       "  DistrictId  Rooms  MedPriceByDistrict\n",
       "0          0    1.0       142799.434052\n",
       "1          0    2.0       176210.812334\n",
       "2          0    3.0       300610.359425\n",
       "3          1    1.0       146735.671740\n",
       "4          1    2.0       202666.310126"
      ]
     },
     "execution_count": 74,
     "metadata": {},
     "output_type": "execute_result"
    }
   ],
   "source": [
    "med_price_by_district = train_df.groupby(['DistrictId', 'Rooms'], as_index=False).agg({'Price':'median'})\\\n",
    "                            .rename(columns={'Price':'MedPriceByDistrict'})\n",
    "\n",
    "med_price_by_district.head()"
   ]
  },
  {
   "cell_type": "code",
   "execution_count": 75,
   "metadata": {
    "execution": {
     "iopub.execute_input": "2021-11-02T18:55:58.668988Z",
     "iopub.status.busy": "2021-11-02T18:55:58.66827Z",
     "iopub.status.idle": "2021-11-02T18:55:58.675552Z",
     "shell.execute_reply": "2021-11-02T18:55:58.674552Z",
     "shell.execute_reply.started": "2021-11-02T18:55:58.668939Z"
    }
   },
   "outputs": [
    {
     "data": {
      "text/plain": [
       "(667, 3)"
      ]
     },
     "execution_count": 75,
     "metadata": {},
     "output_type": "execute_result"
    }
   ],
   "source": [
    "med_price_by_district.shape"
   ]
  },
  {
   "cell_type": "code",
   "execution_count": 76,
   "metadata": {
    "execution": {
     "iopub.execute_input": "2021-11-02T18:55:58.677221Z",
     "iopub.status.busy": "2021-11-02T18:55:58.676797Z",
     "iopub.status.idle": "2021-11-02T18:55:58.718914Z",
     "shell.execute_reply": "2021-11-02T18:55:58.718059Z",
     "shell.execute_reply.started": "2021-11-02T18:55:58.677189Z"
    }
   },
   "outputs": [
    {
     "data": {
      "text/html": [
       "<div>\n",
       "<style scoped>\n",
       "    .dataframe tbody tr th:only-of-type {\n",
       "        vertical-align: middle;\n",
       "    }\n",
       "\n",
       "    .dataframe tbody tr th {\n",
       "        vertical-align: top;\n",
       "    }\n",
       "\n",
       "    .dataframe thead th {\n",
       "        text-align: right;\n",
       "    }\n",
       "</style>\n",
       "<table border=\"1\" class=\"dataframe\">\n",
       "  <thead>\n",
       "    <tr style=\"text-align: right;\">\n",
       "      <th></th>\n",
       "      <th>Id</th>\n",
       "      <th>DistrictId</th>\n",
       "      <th>Rooms</th>\n",
       "      <th>Square</th>\n",
       "      <th>LifeSquare</th>\n",
       "      <th>KitchenSquare</th>\n",
       "      <th>Floor</th>\n",
       "      <th>HouseFloor</th>\n",
       "      <th>HouseYear</th>\n",
       "      <th>Ecology_1</th>\n",
       "      <th>...</th>\n",
       "      <th>Social_1</th>\n",
       "      <th>Social_2</th>\n",
       "      <th>Social_3</th>\n",
       "      <th>Helthcare_2</th>\n",
       "      <th>Shops_1</th>\n",
       "      <th>Shops_2</th>\n",
       "      <th>Price</th>\n",
       "      <th>DistrictSize</th>\n",
       "      <th>IsDistrictLarge</th>\n",
       "      <th>MedPriceByDistrict</th>\n",
       "    </tr>\n",
       "  </thead>\n",
       "  <tbody>\n",
       "    <tr>\n",
       "      <th>0</th>\n",
       "      <td>11809</td>\n",
       "      <td>27</td>\n",
       "      <td>3.0</td>\n",
       "      <td>115.027311</td>\n",
       "      <td>102.027311</td>\n",
       "      <td>10.0</td>\n",
       "      <td>4</td>\n",
       "      <td>10.0</td>\n",
       "      <td>2014</td>\n",
       "      <td>0.075424</td>\n",
       "      <td>...</td>\n",
       "      <td>11</td>\n",
       "      <td>3097</td>\n",
       "      <td>0</td>\n",
       "      <td>0</td>\n",
       "      <td>0</td>\n",
       "      <td>1</td>\n",
       "      <td>305018.871089</td>\n",
       "      <td>851</td>\n",
       "      <td>1</td>\n",
       "      <td>213530.788443</td>\n",
       "    </tr>\n",
       "    <tr>\n",
       "      <th>1</th>\n",
       "      <td>3013</td>\n",
       "      <td>22</td>\n",
       "      <td>1.0</td>\n",
       "      <td>39.832524</td>\n",
       "      <td>23.169223</td>\n",
       "      <td>8.0</td>\n",
       "      <td>7</td>\n",
       "      <td>8.0</td>\n",
       "      <td>1966</td>\n",
       "      <td>0.118537</td>\n",
       "      <td>...</td>\n",
       "      <td>30</td>\n",
       "      <td>6207</td>\n",
       "      <td>1</td>\n",
       "      <td>1</td>\n",
       "      <td>0</td>\n",
       "      <td>1</td>\n",
       "      <td>177734.553407</td>\n",
       "      <td>78</td>\n",
       "      <td>0</td>\n",
       "      <td>146032.829834</td>\n",
       "    </tr>\n",
       "    <tr>\n",
       "      <th>2</th>\n",
       "      <td>8215</td>\n",
       "      <td>1</td>\n",
       "      <td>3.0</td>\n",
       "      <td>78.342215</td>\n",
       "      <td>47.671972</td>\n",
       "      <td>10.0</td>\n",
       "      <td>2</td>\n",
       "      <td>17.0</td>\n",
       "      <td>1988</td>\n",
       "      <td>0.025609</td>\n",
       "      <td>...</td>\n",
       "      <td>33</td>\n",
       "      <td>5261</td>\n",
       "      <td>0</td>\n",
       "      <td>3</td>\n",
       "      <td>1</td>\n",
       "      <td>1</td>\n",
       "      <td>282078.720850</td>\n",
       "      <td>652</td>\n",
       "      <td>1</td>\n",
       "      <td>244005.272380</td>\n",
       "    </tr>\n",
       "    <tr>\n",
       "      <th>3</th>\n",
       "      <td>2352</td>\n",
       "      <td>1</td>\n",
       "      <td>1.0</td>\n",
       "      <td>40.409907</td>\n",
       "      <td>34.409907</td>\n",
       "      <td>3.0</td>\n",
       "      <td>10</td>\n",
       "      <td>22.0</td>\n",
       "      <td>1977</td>\n",
       "      <td>0.007122</td>\n",
       "      <td>...</td>\n",
       "      <td>1</td>\n",
       "      <td>264</td>\n",
       "      <td>0</td>\n",
       "      <td>0</td>\n",
       "      <td>1</td>\n",
       "      <td>1</td>\n",
       "      <td>168106.007630</td>\n",
       "      <td>652</td>\n",
       "      <td>1</td>\n",
       "      <td>146735.671740</td>\n",
       "    </tr>\n",
       "    <tr>\n",
       "      <th>4</th>\n",
       "      <td>13866</td>\n",
       "      <td>94</td>\n",
       "      <td>2.0</td>\n",
       "      <td>64.285067</td>\n",
       "      <td>38.562517</td>\n",
       "      <td>9.0</td>\n",
       "      <td>16</td>\n",
       "      <td>16.0</td>\n",
       "      <td>1972</td>\n",
       "      <td>0.282798</td>\n",
       "      <td>...</td>\n",
       "      <td>33</td>\n",
       "      <td>8667</td>\n",
       "      <td>2</td>\n",
       "      <td>0</td>\n",
       "      <td>6</td>\n",
       "      <td>1</td>\n",
       "      <td>343995.102962</td>\n",
       "      <td>89</td>\n",
       "      <td>0</td>\n",
       "      <td>201584.441255</td>\n",
       "    </tr>\n",
       "  </tbody>\n",
       "</table>\n",
       "<p>5 rows × 22 columns</p>\n",
       "</div>"
      ],
      "text/plain": [
       "      Id DistrictId  Rooms      Square  LifeSquare  KitchenSquare  Floor  \\\n",
       "0  11809         27    3.0  115.027311  102.027311           10.0      4   \n",
       "1   3013         22    1.0   39.832524   23.169223            8.0      7   \n",
       "2   8215          1    3.0   78.342215   47.671972           10.0      2   \n",
       "3   2352          1    1.0   40.409907   34.409907            3.0     10   \n",
       "4  13866         94    2.0   64.285067   38.562517            9.0     16   \n",
       "\n",
       "   HouseFloor  HouseYear  Ecology_1  ...  Social_1  Social_2  Social_3  \\\n",
       "0        10.0       2014   0.075424  ...        11      3097         0   \n",
       "1         8.0       1966   0.118537  ...        30      6207         1   \n",
       "2        17.0       1988   0.025609  ...        33      5261         0   \n",
       "3        22.0       1977   0.007122  ...         1       264         0   \n",
       "4        16.0       1972   0.282798  ...        33      8667         2   \n",
       "\n",
       "   Helthcare_2  Shops_1  Shops_2          Price  DistrictSize  \\\n",
       "0            0        0        1  305018.871089           851   \n",
       "1            1        0        1  177734.553407            78   \n",
       "2            3        1        1  282078.720850           652   \n",
       "3            0        1        1  168106.007630           652   \n",
       "4            0        6        1  343995.102962            89   \n",
       "\n",
       "   IsDistrictLarge  MedPriceByDistrict  \n",
       "0                1       213530.788443  \n",
       "1                0       146032.829834  \n",
       "2                1       244005.272380  \n",
       "3                1       146735.671740  \n",
       "4                0       201584.441255  \n",
       "\n",
       "[5 rows x 22 columns]"
      ]
     },
     "execution_count": 76,
     "metadata": {},
     "output_type": "execute_result"
    }
   ],
   "source": [
    "train_df = train_df.merge(med_price_by_district, on=['DistrictId', 'Rooms'], how='left')\n",
    "train_df.head()"
   ]
  },
  {
   "cell_type": "markdown",
   "metadata": {},
   "source": [
    "**MedPriceByFloorYear**"
   ]
  },
  {
   "cell_type": "code",
   "execution_count": 77,
   "metadata": {
    "execution": {
     "iopub.execute_input": "2021-11-02T18:55:58.720373Z",
     "iopub.status.busy": "2021-11-02T18:55:58.719973Z",
     "iopub.status.idle": "2021-11-02T18:55:58.734596Z",
     "shell.execute_reply": "2021-11-02T18:55:58.733633Z",
     "shell.execute_reply.started": "2021-11-02T18:55:58.720341Z"
    }
   },
   "outputs": [],
   "source": [
    "def floor_to_cat(X):\n",
    "\n",
    "    X['floor_cat'] = 0\n",
    "\n",
    "    X.loc[X['Floor'] <= 3, 'floor_cat'] = 1  \n",
    "    X.loc[(X['Floor'] > 3) & (X['Floor'] <= 5), 'floor_cat'] = 2\n",
    "    X.loc[(X['Floor'] > 5) & (X['Floor'] <= 9), 'floor_cat'] = 3\n",
    "    X.loc[(X['Floor'] > 9) & (X['Floor'] <= 15), 'floor_cat'] = 4\n",
    "    X.loc[X['Floor'] > 15, 'floor_cat'] = 5\n",
    "\n",
    "    return X\n",
    "\n",
    "\n",
    "def floor_to_cat_pandas(X):\n",
    "    bins = [X['Floor'].min(), 3, 5, 9, 15, X['Floor'].max()]\n",
    "    X['floor_cat'] = pd.cut(X['Floor'], bins=bins, labels=False)\n",
    "    \n",
    "    X['floor_cat'].fillna(-1, inplace=True)\n",
    "    return X\n",
    "\n",
    "\n",
    "def year_to_cat(X):\n",
    "\n",
    "    X['year_cat'] = 0\n",
    "\n",
    "    X.loc[X['HouseYear'] <= 1941, 'year_cat'] = 1\n",
    "    X.loc[(X['HouseYear'] > 1941) & (X['HouseYear'] <= 1945), 'year_cat'] = 2\n",
    "    X.loc[(X['HouseYear'] > 1945) & (X['HouseYear'] <= 1980), 'year_cat'] = 3\n",
    "    X.loc[(X['HouseYear'] > 1980) & (X['HouseYear'] <= 2000), 'year_cat'] = 4\n",
    "    X.loc[(X['HouseYear'] > 2000) & (X['HouseYear'] <= 2010), 'year_cat'] = 5\n",
    "    X.loc[(X['HouseYear'] > 2010), 'year_cat'] = 6\n",
    "\n",
    "    return X\n",
    "\n",
    "\n",
    "def year_to_cat_pandas(X):\n",
    "    bins = [X['HouseYear'].min(), 1941, 1945, 1980, 2000, 2010, X['HouseYear'].max()]\n",
    "    X['year_cat'] = pd.cut(X['HouseYear'], bins=bins, labels=False)\n",
    "    \n",
    "    X['year_cat'].fillna(-1, inplace=True)\n",
    "    return X"
   ]
  },
  {
   "cell_type": "code",
   "execution_count": 78,
   "metadata": {
    "execution": {
     "iopub.execute_input": "2021-11-02T18:56:26.825892Z",
     "iopub.status.busy": "2021-11-02T18:56:26.825278Z",
     "iopub.status.idle": "2021-11-02T18:56:26.83604Z",
     "shell.execute_reply": "2021-11-02T18:56:26.835194Z",
     "shell.execute_reply.started": "2021-11-02T18:56:26.825853Z"
    }
   },
   "outputs": [
    {
     "data": {
      "text/plain": [
       "0       1.0\n",
       "1       2.0\n",
       "2       0.0\n",
       "3       3.0\n",
       "4       4.0\n",
       "       ... \n",
       "9995    0.0\n",
       "9996    3.0\n",
       "9997    0.0\n",
       "9998    0.0\n",
       "9999    2.0\n",
       "Name: Floor, Length: 10000, dtype: float64"
      ]
     },
     "execution_count": 78,
     "metadata": {},
     "output_type": "execute_result"
    }
   ],
   "source": [
    "bins = [train_df['Floor'].min(), 3, 5, 9, 15, train_df['Floor'].max()]\n",
    "pd.cut(train_df['Floor'], bins=bins, labels=False)"
   ]
  },
  {
   "cell_type": "code",
   "execution_count": 79,
   "metadata": {
    "execution": {
     "iopub.execute_input": "2021-11-02T18:56:30.607046Z",
     "iopub.status.busy": "2021-11-02T18:56:30.606485Z",
     "iopub.status.idle": "2021-11-02T18:56:30.622517Z",
     "shell.execute_reply": "2021-11-02T18:56:30.621557Z",
     "shell.execute_reply.started": "2021-11-02T18:56:30.606994Z"
    }
   },
   "outputs": [
    {
     "data": {
      "text/plain": [
       "0         (3, 5]\n",
       "1         (5, 9]\n",
       "2         (1, 3]\n",
       "3        (9, 15]\n",
       "4       (15, 42]\n",
       "          ...   \n",
       "9995      (1, 3]\n",
       "9996     (9, 15]\n",
       "9997      (1, 3]\n",
       "9998      (1, 3]\n",
       "9999      (5, 9]\n",
       "Name: Floor, Length: 10000, dtype: category\n",
       "Categories (5, interval[int64, right]): [(1, 3] < (3, 5] < (5, 9] < (9, 15] < (15, 42]]"
      ]
     },
     "execution_count": 79,
     "metadata": {},
     "output_type": "execute_result"
    }
   ],
   "source": [
    "bins = [train_df['Floor'].min(), 3, 5, 9, 15, train_df['Floor'].max()]\n",
    "pd.cut(train_df['Floor'], bins=bins)"
   ]
  },
  {
   "cell_type": "code",
   "execution_count": 80,
   "metadata": {
    "execution": {
     "iopub.execute_input": "2021-11-02T18:56:31.18436Z",
     "iopub.status.busy": "2021-11-02T18:56:31.183979Z",
     "iopub.status.idle": "2021-11-02T18:56:31.228338Z",
     "shell.execute_reply": "2021-11-02T18:56:31.227234Z",
     "shell.execute_reply.started": "2021-11-02T18:56:31.184326Z"
    }
   },
   "outputs": [
    {
     "data": {
      "text/html": [
       "<div>\n",
       "<style scoped>\n",
       "    .dataframe tbody tr th:only-of-type {\n",
       "        vertical-align: middle;\n",
       "    }\n",
       "\n",
       "    .dataframe tbody tr th {\n",
       "        vertical-align: top;\n",
       "    }\n",
       "\n",
       "    .dataframe thead th {\n",
       "        text-align: right;\n",
       "    }\n",
       "</style>\n",
       "<table border=\"1\" class=\"dataframe\">\n",
       "  <thead>\n",
       "    <tr style=\"text-align: right;\">\n",
       "      <th></th>\n",
       "      <th>Id</th>\n",
       "      <th>DistrictId</th>\n",
       "      <th>Rooms</th>\n",
       "      <th>Square</th>\n",
       "      <th>LifeSquare</th>\n",
       "      <th>KitchenSquare</th>\n",
       "      <th>Floor</th>\n",
       "      <th>HouseFloor</th>\n",
       "      <th>HouseYear</th>\n",
       "      <th>Ecology_1</th>\n",
       "      <th>...</th>\n",
       "      <th>Social_3</th>\n",
       "      <th>Helthcare_2</th>\n",
       "      <th>Shops_1</th>\n",
       "      <th>Shops_2</th>\n",
       "      <th>Price</th>\n",
       "      <th>DistrictSize</th>\n",
       "      <th>IsDistrictLarge</th>\n",
       "      <th>MedPriceByDistrict</th>\n",
       "      <th>year_cat</th>\n",
       "      <th>floor_cat</th>\n",
       "    </tr>\n",
       "  </thead>\n",
       "  <tbody>\n",
       "    <tr>\n",
       "      <th>0</th>\n",
       "      <td>11809</td>\n",
       "      <td>27</td>\n",
       "      <td>3.0</td>\n",
       "      <td>115.027311</td>\n",
       "      <td>102.027311</td>\n",
       "      <td>10.0</td>\n",
       "      <td>4</td>\n",
       "      <td>10.0</td>\n",
       "      <td>2014</td>\n",
       "      <td>0.075424</td>\n",
       "      <td>...</td>\n",
       "      <td>0</td>\n",
       "      <td>0</td>\n",
       "      <td>0</td>\n",
       "      <td>1</td>\n",
       "      <td>305018.871089</td>\n",
       "      <td>851</td>\n",
       "      <td>1</td>\n",
       "      <td>213530.788443</td>\n",
       "      <td>6</td>\n",
       "      <td>2</td>\n",
       "    </tr>\n",
       "    <tr>\n",
       "      <th>1</th>\n",
       "      <td>3013</td>\n",
       "      <td>22</td>\n",
       "      <td>1.0</td>\n",
       "      <td>39.832524</td>\n",
       "      <td>23.169223</td>\n",
       "      <td>8.0</td>\n",
       "      <td>7</td>\n",
       "      <td>8.0</td>\n",
       "      <td>1966</td>\n",
       "      <td>0.118537</td>\n",
       "      <td>...</td>\n",
       "      <td>1</td>\n",
       "      <td>1</td>\n",
       "      <td>0</td>\n",
       "      <td>1</td>\n",
       "      <td>177734.553407</td>\n",
       "      <td>78</td>\n",
       "      <td>0</td>\n",
       "      <td>146032.829834</td>\n",
       "      <td>3</td>\n",
       "      <td>3</td>\n",
       "    </tr>\n",
       "    <tr>\n",
       "      <th>2</th>\n",
       "      <td>8215</td>\n",
       "      <td>1</td>\n",
       "      <td>3.0</td>\n",
       "      <td>78.342215</td>\n",
       "      <td>47.671972</td>\n",
       "      <td>10.0</td>\n",
       "      <td>2</td>\n",
       "      <td>17.0</td>\n",
       "      <td>1988</td>\n",
       "      <td>0.025609</td>\n",
       "      <td>...</td>\n",
       "      <td>0</td>\n",
       "      <td>3</td>\n",
       "      <td>1</td>\n",
       "      <td>1</td>\n",
       "      <td>282078.720850</td>\n",
       "      <td>652</td>\n",
       "      <td>1</td>\n",
       "      <td>244005.272380</td>\n",
       "      <td>4</td>\n",
       "      <td>1</td>\n",
       "    </tr>\n",
       "    <tr>\n",
       "      <th>3</th>\n",
       "      <td>2352</td>\n",
       "      <td>1</td>\n",
       "      <td>1.0</td>\n",
       "      <td>40.409907</td>\n",
       "      <td>34.409907</td>\n",
       "      <td>3.0</td>\n",
       "      <td>10</td>\n",
       "      <td>22.0</td>\n",
       "      <td>1977</td>\n",
       "      <td>0.007122</td>\n",
       "      <td>...</td>\n",
       "      <td>0</td>\n",
       "      <td>0</td>\n",
       "      <td>1</td>\n",
       "      <td>1</td>\n",
       "      <td>168106.007630</td>\n",
       "      <td>652</td>\n",
       "      <td>1</td>\n",
       "      <td>146735.671740</td>\n",
       "      <td>3</td>\n",
       "      <td>4</td>\n",
       "    </tr>\n",
       "    <tr>\n",
       "      <th>4</th>\n",
       "      <td>13866</td>\n",
       "      <td>94</td>\n",
       "      <td>2.0</td>\n",
       "      <td>64.285067</td>\n",
       "      <td>38.562517</td>\n",
       "      <td>9.0</td>\n",
       "      <td>16</td>\n",
       "      <td>16.0</td>\n",
       "      <td>1972</td>\n",
       "      <td>0.282798</td>\n",
       "      <td>...</td>\n",
       "      <td>2</td>\n",
       "      <td>0</td>\n",
       "      <td>6</td>\n",
       "      <td>1</td>\n",
       "      <td>343995.102962</td>\n",
       "      <td>89</td>\n",
       "      <td>0</td>\n",
       "      <td>201584.441255</td>\n",
       "      <td>3</td>\n",
       "      <td>5</td>\n",
       "    </tr>\n",
       "  </tbody>\n",
       "</table>\n",
       "<p>5 rows × 24 columns</p>\n",
       "</div>"
      ],
      "text/plain": [
       "      Id DistrictId  Rooms      Square  LifeSquare  KitchenSquare  Floor  \\\n",
       "0  11809         27    3.0  115.027311  102.027311           10.0      4   \n",
       "1   3013         22    1.0   39.832524   23.169223            8.0      7   \n",
       "2   8215          1    3.0   78.342215   47.671972           10.0      2   \n",
       "3   2352          1    1.0   40.409907   34.409907            3.0     10   \n",
       "4  13866         94    2.0   64.285067   38.562517            9.0     16   \n",
       "\n",
       "   HouseFloor  HouseYear  Ecology_1  ...  Social_3  Helthcare_2  Shops_1  \\\n",
       "0        10.0       2014   0.075424  ...         0            0        0   \n",
       "1         8.0       1966   0.118537  ...         1            1        0   \n",
       "2        17.0       1988   0.025609  ...         0            3        1   \n",
       "3        22.0       1977   0.007122  ...         0            0        1   \n",
       "4        16.0       1972   0.282798  ...         2            0        6   \n",
       "\n",
       "   Shops_2          Price  DistrictSize  IsDistrictLarge  MedPriceByDistrict  \\\n",
       "0        1  305018.871089           851                1       213530.788443   \n",
       "1        1  177734.553407            78                0       146032.829834   \n",
       "2        1  282078.720850           652                1       244005.272380   \n",
       "3        1  168106.007630           652                1       146735.671740   \n",
       "4        1  343995.102962            89                0       201584.441255   \n",
       "\n",
       "   year_cat  floor_cat  \n",
       "0         6          2  \n",
       "1         3          3  \n",
       "2         4          1  \n",
       "3         3          4  \n",
       "4         3          5  \n",
       "\n",
       "[5 rows x 24 columns]"
      ]
     },
     "execution_count": 80,
     "metadata": {},
     "output_type": "execute_result"
    }
   ],
   "source": [
    "train_df = year_to_cat(train_df)\n",
    "train_df = floor_to_cat(train_df)\n",
    "train_df.head()"
   ]
  },
  {
   "cell_type": "code",
   "execution_count": 81,
   "metadata": {
    "execution": {
     "iopub.execute_input": "2021-11-02T18:56:31.620607Z",
     "iopub.status.busy": "2021-11-02T18:56:31.62022Z",
     "iopub.status.idle": "2021-11-02T18:56:31.636135Z",
     "shell.execute_reply": "2021-11-02T18:56:31.635229Z",
     "shell.execute_reply.started": "2021-11-02T18:56:31.620571Z"
    }
   },
   "outputs": [
    {
     "data": {
      "text/html": [
       "<div>\n",
       "<style scoped>\n",
       "    .dataframe tbody tr th:only-of-type {\n",
       "        vertical-align: middle;\n",
       "    }\n",
       "\n",
       "    .dataframe tbody tr th {\n",
       "        vertical-align: top;\n",
       "    }\n",
       "\n",
       "    .dataframe thead th {\n",
       "        text-align: right;\n",
       "    }\n",
       "</style>\n",
       "<table border=\"1\" class=\"dataframe\">\n",
       "  <thead>\n",
       "    <tr style=\"text-align: right;\">\n",
       "      <th></th>\n",
       "      <th>year_cat</th>\n",
       "      <th>floor_cat</th>\n",
       "      <th>MedPriceByFloorYear</th>\n",
       "    </tr>\n",
       "  </thead>\n",
       "  <tbody>\n",
       "    <tr>\n",
       "      <th>0</th>\n",
       "      <td>1</td>\n",
       "      <td>1</td>\n",
       "      <td>377289.553272</td>\n",
       "    </tr>\n",
       "    <tr>\n",
       "      <th>1</th>\n",
       "      <td>1</td>\n",
       "      <td>2</td>\n",
       "      <td>324303.812481</td>\n",
       "    </tr>\n",
       "    <tr>\n",
       "      <th>2</th>\n",
       "      <td>1</td>\n",
       "      <td>3</td>\n",
       "      <td>429825.896082</td>\n",
       "    </tr>\n",
       "    <tr>\n",
       "      <th>3</th>\n",
       "      <td>1</td>\n",
       "      <td>4</td>\n",
       "      <td>274992.472366</td>\n",
       "    </tr>\n",
       "    <tr>\n",
       "      <th>4</th>\n",
       "      <td>2</td>\n",
       "      <td>1</td>\n",
       "      <td>467230.539057</td>\n",
       "    </tr>\n",
       "  </tbody>\n",
       "</table>\n",
       "</div>"
      ],
      "text/plain": [
       "   year_cat  floor_cat  MedPriceByFloorYear\n",
       "0         1          1        377289.553272\n",
       "1         1          2        324303.812481\n",
       "2         1          3        429825.896082\n",
       "3         1          4        274992.472366\n",
       "4         2          1        467230.539057"
      ]
     },
     "execution_count": 81,
     "metadata": {},
     "output_type": "execute_result"
    }
   ],
   "source": [
    "med_price_by_floor_year = train_df.groupby(['year_cat', 'floor_cat'], as_index=False).agg({'Price':'median'}).\\\n",
    "                                            rename(columns={'Price':'MedPriceByFloorYear'})\n",
    "med_price_by_floor_year.head()"
   ]
  },
  {
   "cell_type": "code",
   "execution_count": 82,
   "metadata": {
    "execution": {
     "iopub.execute_input": "2021-11-02T18:56:31.86353Z",
     "iopub.status.busy": "2021-11-02T18:56:31.863136Z",
     "iopub.status.idle": "2021-11-02T18:56:31.899975Z",
     "shell.execute_reply": "2021-11-02T18:56:31.898807Z",
     "shell.execute_reply.started": "2021-11-02T18:56:31.863498Z"
    }
   },
   "outputs": [
    {
     "data": {
      "text/html": [
       "<div>\n",
       "<style scoped>\n",
       "    .dataframe tbody tr th:only-of-type {\n",
       "        vertical-align: middle;\n",
       "    }\n",
       "\n",
       "    .dataframe tbody tr th {\n",
       "        vertical-align: top;\n",
       "    }\n",
       "\n",
       "    .dataframe thead th {\n",
       "        text-align: right;\n",
       "    }\n",
       "</style>\n",
       "<table border=\"1\" class=\"dataframe\">\n",
       "  <thead>\n",
       "    <tr style=\"text-align: right;\">\n",
       "      <th></th>\n",
       "      <th>Id</th>\n",
       "      <th>DistrictId</th>\n",
       "      <th>Rooms</th>\n",
       "      <th>Square</th>\n",
       "      <th>LifeSquare</th>\n",
       "      <th>KitchenSquare</th>\n",
       "      <th>Floor</th>\n",
       "      <th>HouseFloor</th>\n",
       "      <th>HouseYear</th>\n",
       "      <th>Ecology_1</th>\n",
       "      <th>...</th>\n",
       "      <th>Helthcare_2</th>\n",
       "      <th>Shops_1</th>\n",
       "      <th>Shops_2</th>\n",
       "      <th>Price</th>\n",
       "      <th>DistrictSize</th>\n",
       "      <th>IsDistrictLarge</th>\n",
       "      <th>MedPriceByDistrict</th>\n",
       "      <th>year_cat</th>\n",
       "      <th>floor_cat</th>\n",
       "      <th>MedPriceByFloorYear</th>\n",
       "    </tr>\n",
       "  </thead>\n",
       "  <tbody>\n",
       "    <tr>\n",
       "      <th>0</th>\n",
       "      <td>11809</td>\n",
       "      <td>27</td>\n",
       "      <td>3.0</td>\n",
       "      <td>115.027311</td>\n",
       "      <td>102.027311</td>\n",
       "      <td>10.0</td>\n",
       "      <td>4</td>\n",
       "      <td>10.0</td>\n",
       "      <td>2014</td>\n",
       "      <td>0.075424</td>\n",
       "      <td>...</td>\n",
       "      <td>0</td>\n",
       "      <td>0</td>\n",
       "      <td>1</td>\n",
       "      <td>305018.871089</td>\n",
       "      <td>851</td>\n",
       "      <td>1</td>\n",
       "      <td>213530.788443</td>\n",
       "      <td>6</td>\n",
       "      <td>2</td>\n",
       "      <td>167559.261834</td>\n",
       "    </tr>\n",
       "    <tr>\n",
       "      <th>1</th>\n",
       "      <td>3013</td>\n",
       "      <td>22</td>\n",
       "      <td>1.0</td>\n",
       "      <td>39.832524</td>\n",
       "      <td>23.169223</td>\n",
       "      <td>8.0</td>\n",
       "      <td>7</td>\n",
       "      <td>8.0</td>\n",
       "      <td>1966</td>\n",
       "      <td>0.118537</td>\n",
       "      <td>...</td>\n",
       "      <td>1</td>\n",
       "      <td>0</td>\n",
       "      <td>1</td>\n",
       "      <td>177734.553407</td>\n",
       "      <td>78</td>\n",
       "      <td>0</td>\n",
       "      <td>146032.829834</td>\n",
       "      <td>3</td>\n",
       "      <td>3</td>\n",
       "      <td>192448.500518</td>\n",
       "    </tr>\n",
       "    <tr>\n",
       "      <th>2</th>\n",
       "      <td>8215</td>\n",
       "      <td>1</td>\n",
       "      <td>3.0</td>\n",
       "      <td>78.342215</td>\n",
       "      <td>47.671972</td>\n",
       "      <td>10.0</td>\n",
       "      <td>2</td>\n",
       "      <td>17.0</td>\n",
       "      <td>1988</td>\n",
       "      <td>0.025609</td>\n",
       "      <td>...</td>\n",
       "      <td>3</td>\n",
       "      <td>1</td>\n",
       "      <td>1</td>\n",
       "      <td>282078.720850</td>\n",
       "      <td>652</td>\n",
       "      <td>1</td>\n",
       "      <td>244005.272380</td>\n",
       "      <td>4</td>\n",
       "      <td>1</td>\n",
       "      <td>205708.069184</td>\n",
       "    </tr>\n",
       "    <tr>\n",
       "      <th>3</th>\n",
       "      <td>2352</td>\n",
       "      <td>1</td>\n",
       "      <td>1.0</td>\n",
       "      <td>40.409907</td>\n",
       "      <td>34.409907</td>\n",
       "      <td>3.0</td>\n",
       "      <td>10</td>\n",
       "      <td>22.0</td>\n",
       "      <td>1977</td>\n",
       "      <td>0.007122</td>\n",
       "      <td>...</td>\n",
       "      <td>0</td>\n",
       "      <td>1</td>\n",
       "      <td>1</td>\n",
       "      <td>168106.007630</td>\n",
       "      <td>652</td>\n",
       "      <td>1</td>\n",
       "      <td>146735.671740</td>\n",
       "      <td>3</td>\n",
       "      <td>4</td>\n",
       "      <td>184106.236509</td>\n",
       "    </tr>\n",
       "    <tr>\n",
       "      <th>4</th>\n",
       "      <td>13866</td>\n",
       "      <td>94</td>\n",
       "      <td>2.0</td>\n",
       "      <td>64.285067</td>\n",
       "      <td>38.562517</td>\n",
       "      <td>9.0</td>\n",
       "      <td>16</td>\n",
       "      <td>16.0</td>\n",
       "      <td>1972</td>\n",
       "      <td>0.282798</td>\n",
       "      <td>...</td>\n",
       "      <td>0</td>\n",
       "      <td>6</td>\n",
       "      <td>1</td>\n",
       "      <td>343995.102962</td>\n",
       "      <td>89</td>\n",
       "      <td>0</td>\n",
       "      <td>201584.441255</td>\n",
       "      <td>3</td>\n",
       "      <td>5</td>\n",
       "      <td>172123.099004</td>\n",
       "    </tr>\n",
       "  </tbody>\n",
       "</table>\n",
       "<p>5 rows × 25 columns</p>\n",
       "</div>"
      ],
      "text/plain": [
       "      Id DistrictId  Rooms      Square  LifeSquare  KitchenSquare  Floor  \\\n",
       "0  11809         27    3.0  115.027311  102.027311           10.0      4   \n",
       "1   3013         22    1.0   39.832524   23.169223            8.0      7   \n",
       "2   8215          1    3.0   78.342215   47.671972           10.0      2   \n",
       "3   2352          1    1.0   40.409907   34.409907            3.0     10   \n",
       "4  13866         94    2.0   64.285067   38.562517            9.0     16   \n",
       "\n",
       "   HouseFloor  HouseYear  Ecology_1  ...  Helthcare_2  Shops_1  Shops_2  \\\n",
       "0        10.0       2014   0.075424  ...            0        0        1   \n",
       "1         8.0       1966   0.118537  ...            1        0        1   \n",
       "2        17.0       1988   0.025609  ...            3        1        1   \n",
       "3        22.0       1977   0.007122  ...            0        1        1   \n",
       "4        16.0       1972   0.282798  ...            0        6        1   \n",
       "\n",
       "           Price  DistrictSize  IsDistrictLarge  MedPriceByDistrict  year_cat  \\\n",
       "0  305018.871089           851                1       213530.788443         6   \n",
       "1  177734.553407            78                0       146032.829834         3   \n",
       "2  282078.720850           652                1       244005.272380         4   \n",
       "3  168106.007630           652                1       146735.671740         3   \n",
       "4  343995.102962            89                0       201584.441255         3   \n",
       "\n",
       "   floor_cat  MedPriceByFloorYear  \n",
       "0          2        167559.261834  \n",
       "1          3        192448.500518  \n",
       "2          1        205708.069184  \n",
       "3          4        184106.236509  \n",
       "4          5        172123.099004  \n",
       "\n",
       "[5 rows x 25 columns]"
      ]
     },
     "execution_count": 82,
     "metadata": {},
     "output_type": "execute_result"
    }
   ],
   "source": [
    "train_df = train_df.merge(med_price_by_floor_year, on=['year_cat', 'floor_cat'], how='left')\n",
    "train_df.head()"
   ]
  },
  {
   "cell_type": "code",
   "execution_count": 87,
   "metadata": {
    "execution": {
     "iopub.execute_input": "2021-11-02T18:56:32.247604Z",
     "iopub.status.busy": "2021-11-02T18:56:32.247185Z",
     "iopub.status.idle": "2021-11-02T18:56:32.271061Z",
     "shell.execute_reply": "2021-11-02T18:56:32.269827Z",
     "shell.execute_reply.started": "2021-11-02T18:56:32.247567Z"
    }
   },
   "outputs": [],
   "source": [
    "class FeatureGenetator():\n",
    "    \"\"\"Генерация новых фич\"\"\"\n",
    "    \n",
    "    def __init__(self):\n",
    "        self.DistrictId_counts = None\n",
    "        self.binary_to_numbers = None\n",
    "        self.med_price_by_district = None\n",
    "        self.med_price_by_floor_year = None\n",
    "        self.house_year_max = None\n",
    "        self.floor_max = None\n",
    "        self.house_year_min = None\n",
    "        self.floor_min = None\n",
    "        self.district_size = None\n",
    "        \n",
    "    def fit(self, X, y=None):\n",
    "        \n",
    "        X = X.copy()\n",
    "        \n",
    "        # Binary features\n",
    "        self.binary_to_numbers = {'A': 0, 'B': 1}\n",
    "        \n",
    "        # DistrictID\n",
    "        self.district_size = X['DistrictId'].value_counts().reset_index() \\\n",
    "                               .rename(columns={'index':'DistrictId', 'DistrictId':'DistrictSize'})\n",
    "                \n",
    "        # Target encoding\n",
    "        ## District, Rooms\n",
    "        df = X.copy()\n",
    "        \n",
    "        if y is not None:\n",
    "            df['Price'] = y.values\n",
    "            \n",
    "            self.med_price_by_district = df.groupby(['DistrictId', 'Rooms'], as_index=False).agg({'Price':'median'})\\\n",
    "                                            .rename(columns={'Price':'MedPriceByDistrict'})\n",
    "            \n",
    "            self.med_price_by_district_median = self.med_price_by_district['MedPriceByDistrict'].median()\n",
    "            \n",
    "        ## floor, year\n",
    "        if y is not None:\n",
    "            self.floor_max = df['Floor'].max()\n",
    "            self.floor_min = df['Floor'].min()\n",
    "            self.house_year_max = df['HouseYear'].max()\n",
    "            self.house_year_min = df['HouseYear'].min()\n",
    "            df['Price'] = y.values\n",
    "            df = self.floor_to_cat(df)\n",
    "            df = self.year_to_cat(df)\n",
    "            self.med_price_by_floor_year = df.groupby(['year_cat', 'floor_cat'], as_index=False).agg({'Price':'median'}).\\\n",
    "                                            rename(columns={'Price':'MedPriceByFloorYear'})\n",
    "            self.med_price_by_floor_year_median = self.med_price_by_floor_year['MedPriceByFloorYear'].median()\n",
    "        \n",
    "\n",
    "        \n",
    "    def transform(self, X):\n",
    "        \n",
    "        # Binary features\n",
    "        X['Ecology_2'] = X['Ecology_2'].map(self.binary_to_numbers)  # self.binary_to_numbers = {'A': 0, 'B': 1}\n",
    "        X['Ecology_3'] = X['Ecology_3'].map(self.binary_to_numbers)\n",
    "        X['Shops_2'] = X['Shops_2'].map(self.binary_to_numbers)\n",
    "        \n",
    "        # DistrictId, IsDistrictLarge\n",
    "        X = X.merge(self.district_size, on='DistrictId', how='left')\n",
    "        \n",
    "        X['new_district'] = 0\n",
    "        X.loc[X['DistrictSize'].isna(), 'new_district'] = 1\n",
    "        \n",
    "        X['DistrictSize'].fillna(5, inplace=True)\n",
    "        \n",
    "        X['IsDistrictLarge'] = (X['DistrictSize'] > 100).astype(int)\n",
    "        \n",
    "        # More categorical features\n",
    "        X = self.floor_to_cat(X)  # + столбец floor_cat\n",
    "        X = self.year_to_cat(X)   # + столбец year_cat\n",
    "        \n",
    "        # Target encoding\n",
    "        if self.med_price_by_district is not None:\n",
    "            X = X.merge(self.med_price_by_district, on=['DistrictId', 'Rooms'], how='left')\n",
    "            X['MedPriceByDistrict'].fillna(self.med_price_by_district_median, inplace=True)\n",
    "            \n",
    "        if self.med_price_by_floor_year is not None:\n",
    "            X = X.merge(self.med_price_by_floor_year, on=['year_cat', 'floor_cat'], how='left')\n",
    "            X['MedPriceByFloorYear'].fillna(self.med_price_by_floor_year_median, inplace=True)\n",
    "        \n",
    "        return X\n",
    "    \n",
    "    def floor_to_cat(self, X):\n",
    "        bins = [self.floor_min, 3, 5, 9, 15, self.floor_max]\n",
    "        X['floor_cat'] = pd.cut(X['Floor'], bins=bins, labels=False)\n",
    "\n",
    "        X['floor_cat'].fillna(-1, inplace=True)\n",
    "        return X\n",
    "     \n",
    "    def year_to_cat(self, X):\n",
    "        bins = [self.house_year_min, 1941, 1945, 1980, 2000, 2010, self.house_year_max]\n",
    "        X['year_cat'] = pd.cut(X['HouseYear'], bins=bins, labels=False)\n",
    "\n",
    "        X['year_cat'].fillna(-1, inplace=True)\n",
    "        return X"
   ]
  },
  {
   "cell_type": "markdown",
   "metadata": {},
   "source": [
    "### 5. Отбор признаков  <a class='anchor' id='feature_selection'>"
   ]
  },
  {
   "cell_type": "code",
   "execution_count": 83,
   "metadata": {
    "execution": {
     "iopub.execute_input": "2021-11-02T18:56:32.600732Z",
     "iopub.status.busy": "2021-11-02T18:56:32.600396Z",
     "iopub.status.idle": "2021-11-02T18:56:32.606786Z",
     "shell.execute_reply": "2021-11-02T18:56:32.605929Z",
     "shell.execute_reply.started": "2021-11-02T18:56:32.600703Z"
    }
   },
   "outputs": [
    {
     "data": {
      "text/plain": [
       "['Id',\n",
       " 'DistrictId',\n",
       " 'Rooms',\n",
       " 'Square',\n",
       " 'LifeSquare',\n",
       " 'KitchenSquare',\n",
       " 'Floor',\n",
       " 'HouseFloor',\n",
       " 'HouseYear',\n",
       " 'Ecology_1',\n",
       " 'Ecology_2',\n",
       " 'Ecology_3',\n",
       " 'Social_1',\n",
       " 'Social_2',\n",
       " 'Social_3',\n",
       " 'Helthcare_2',\n",
       " 'Shops_1',\n",
       " 'Shops_2',\n",
       " 'Price',\n",
       " 'DistrictSize',\n",
       " 'IsDistrictLarge',\n",
       " 'MedPriceByDistrict',\n",
       " 'year_cat',\n",
       " 'floor_cat',\n",
       " 'MedPriceByFloorYear']"
      ]
     },
     "execution_count": 83,
     "metadata": {},
     "output_type": "execute_result"
    }
   ],
   "source": [
    "train_df.columns.tolist()"
   ]
  },
  {
   "cell_type": "code",
   "execution_count": 84,
   "metadata": {
    "execution": {
     "iopub.execute_input": "2021-11-02T18:56:33.165751Z",
     "iopub.status.busy": "2021-11-02T18:56:33.165387Z",
     "iopub.status.idle": "2021-11-02T18:56:33.171421Z",
     "shell.execute_reply": "2021-11-02T18:56:33.170281Z",
     "shell.execute_reply.started": "2021-11-02T18:56:33.165715Z"
    }
   },
   "outputs": [],
   "source": [
    "feature_names = ['Rooms', 'Square', 'LifeSquare', 'KitchenSquare', 'Floor', 'HouseFloor', 'HouseYear',\n",
    "                 'Ecology_1', 'Ecology_2', 'Ecology_3', 'Social_1', 'Social_2', 'Social_3',\n",
    "                 'Helthcare_2', 'Shops_1', 'Shops_2']\n",
    "\n",
    "new_feature_names = ['Rooms_outlier', 'HouseFloor_outlier', 'HouseYear_outlier', 'LifeSquare_nan', 'DistrictSize',\n",
    "                     'new_district', 'IsDistrictLarge',  'MedPriceByDistrict', 'MedPriceByFloorYear']\n",
    "\n",
    "target_name = 'Price'"
   ]
  },
  {
   "cell_type": "markdown",
   "metadata": {},
   "source": [
    "### 6. Разбиение на train и test  <a class='anchor' id='split'>"
   ]
  },
  {
   "cell_type": "code",
   "execution_count": 85,
   "metadata": {
    "execution": {
     "iopub.execute_input": "2021-11-02T18:56:33.585565Z",
     "iopub.status.busy": "2021-11-02T18:56:33.585211Z",
     "iopub.status.idle": "2021-11-02T18:56:33.634832Z",
     "shell.execute_reply": "2021-11-02T18:56:33.6338Z",
     "shell.execute_reply.started": "2021-11-02T18:56:33.585536Z"
    }
   },
   "outputs": [],
   "source": [
    "train_df = pd.read_csv(TRAIN_DATASET_PATH)\n",
    "test_df = pd.read_csv(TEST_DATASET_PATH)\n",
    "\n",
    "X = train_df.drop(columns=target_name)\n",
    "y = train_df[target_name]"
   ]
  },
  {
   "cell_type": "code",
   "execution_count": 86,
   "metadata": {
    "execution": {
     "iopub.execute_input": "2021-11-02T18:56:33.637149Z",
     "iopub.status.busy": "2021-11-02T18:56:33.636756Z",
     "iopub.status.idle": "2021-11-02T18:56:33.648431Z",
     "shell.execute_reply": "2021-11-02T18:56:33.647625Z",
     "shell.execute_reply.started": "2021-11-02T18:56:33.637105Z"
    }
   },
   "outputs": [],
   "source": [
    "X_train, X_valid, y_train, y_valid = train_test_split(X, y, test_size=0.33, shuffle=True, random_state=21)"
   ]
  },
  {
   "cell_type": "code",
   "execution_count": 90,
   "metadata": {
    "execution": {
     "iopub.execute_input": "2021-11-02T18:56:33.910623Z",
     "iopub.status.busy": "2021-11-02T18:56:33.910238Z",
     "iopub.status.idle": "2021-11-02T18:56:33.99399Z",
     "shell.execute_reply": "2021-11-02T18:56:33.993128Z",
     "shell.execute_reply.started": "2021-11-02T18:56:33.910585Z"
    }
   },
   "outputs": [
    {
     "data": {
      "text/plain": [
       "((6700, 22), (3300, 22), (5000, 22))"
      ]
     },
     "execution_count": 90,
     "metadata": {},
     "output_type": "execute_result"
    }
   ],
   "source": [
    "preprocessor = DataPreprocessing()\n",
    "preprocessor.fit(X_train)\n",
    "\n",
    "X_train = preprocessor.transform(X_train)\n",
    "X_valid = preprocessor.transform(X_valid)\n",
    "test_df = preprocessor.transform(test_df)\n",
    "\n",
    "X_train.shape, X_valid.shape, test_df.shape"
   ]
  },
  {
   "cell_type": "code",
   "execution_count": 91,
   "metadata": {
    "execution": {
     "iopub.execute_input": "2021-11-02T18:56:34.216119Z",
     "iopub.status.busy": "2021-11-02T18:56:34.215539Z",
     "iopub.status.idle": "2021-11-02T18:56:34.326138Z",
     "shell.execute_reply": "2021-11-02T18:56:34.324989Z",
     "shell.execute_reply.started": "2021-11-02T18:56:34.216069Z"
    }
   },
   "outputs": [
    {
     "data": {
      "text/plain": [
       "((6700, 29), (3300, 29), (5000, 29))"
      ]
     },
     "execution_count": 91,
     "metadata": {},
     "output_type": "execute_result"
    }
   ],
   "source": [
    "features_gen = FeatureGenetator()\n",
    "features_gen.fit(X_train, y_train)\n",
    "\n",
    "X_train = features_gen.transform(X_train)\n",
    "X_valid = features_gen.transform(X_valid)\n",
    "test_df = features_gen.transform(test_df)\n",
    "\n",
    "X_train.shape, X_valid.shape, test_df.shape"
   ]
  },
  {
   "cell_type": "code",
   "execution_count": 92,
   "metadata": {
    "execution": {
     "iopub.execute_input": "2021-11-02T18:56:34.358981Z",
     "iopub.status.busy": "2021-11-02T18:56:34.358631Z",
     "iopub.status.idle": "2021-11-02T18:56:34.372788Z",
     "shell.execute_reply": "2021-11-02T18:56:34.371901Z",
     "shell.execute_reply.started": "2021-11-02T18:56:34.358951Z"
    }
   },
   "outputs": [],
   "source": [
    "X_train = X_train[feature_names + new_feature_names]\n",
    "X_valid = X_valid[feature_names + new_feature_names]\n",
    "test_df = test_df[feature_names + new_feature_names]"
   ]
  },
  {
   "cell_type": "code",
   "execution_count": 93,
   "metadata": {
    "execution": {
     "iopub.execute_input": "2021-11-02T18:56:34.608645Z",
     "iopub.status.busy": "2021-11-02T18:56:34.608266Z",
     "iopub.status.idle": "2021-11-02T18:56:34.620272Z",
     "shell.execute_reply": "2021-11-02T18:56:34.619552Z",
     "shell.execute_reply.started": "2021-11-02T18:56:34.608613Z"
    }
   },
   "outputs": [
    {
     "data": {
      "text/plain": [
       "(0, 0, 0)"
      ]
     },
     "execution_count": 93,
     "metadata": {},
     "output_type": "execute_result"
    }
   ],
   "source": [
    "X_train.isna().sum().sum(), X_valid.isna().sum().sum(), test_df.isna().sum().sum()"
   ]
  },
  {
   "cell_type": "markdown",
   "metadata": {},
   "source": [
    "### 7. Построение модели  <a class='anchor' id='modeling'>"
   ]
  },
  {
   "cell_type": "markdown",
   "metadata": {},
   "source": [
    "**Обучение**"
   ]
  },
  {
   "cell_type": "code",
   "execution_count": 94,
   "metadata": {
    "execution": {
     "iopub.execute_input": "2021-11-02T18:56:35.455968Z",
     "iopub.status.busy": "2021-11-02T18:56:35.455478Z",
     "iopub.status.idle": "2021-11-02T18:56:41.159135Z",
     "shell.execute_reply": "2021-11-02T18:56:41.158394Z",
     "shell.execute_reply.started": "2021-11-02T18:56:35.455936Z"
    }
   },
   "outputs": [
    {
     "data": {
      "text/plain": [
       "RandomForestRegressor(criterion='mse', random_state=21)"
      ]
     },
     "execution_count": 94,
     "metadata": {},
     "output_type": "execute_result"
    }
   ],
   "source": [
    "rf_model = RandomForestRegressor(random_state=21, criterion='mse')\n",
    "rf_model.fit(X_train, y_train)"
   ]
  },
  {
   "cell_type": "markdown",
   "metadata": {},
   "source": [
    "**Оценка модели**"
   ]
  },
  {
   "cell_type": "code",
   "execution_count": 95,
   "metadata": {
    "execution": {
     "iopub.execute_input": "2021-11-02T18:56:41.161196Z",
     "iopub.status.busy": "2021-11-02T18:56:41.160929Z",
     "iopub.status.idle": "2021-11-02T18:56:41.772188Z",
     "shell.execute_reply": "2021-11-02T18:56:41.771398Z",
     "shell.execute_reply.started": "2021-11-02T18:56:41.16117Z"
    }
   },
   "outputs": [
    {
     "name": "stdout",
     "output_type": "stream",
     "text": [
      "Train R2:\t0.966\n",
      "Test R2:\t0.706\n"
     ]
    },
    {
     "data": {
      "image/png": "[encoded data removed]",
      "text/plain": [
       "<Figure size 1800x1000 with 2 Axes>"
      ]
     },
     "metadata": {},
     "output_type": "display_data"
    }
   ],
   "source": [
    "y_train_preds = rf_model.predict(X_train)\n",
    "y_test_preds = rf_model.predict(X_valid)\n",
    "\n",
    "evaluate_preds(y_train, y_train_preds, y_valid, y_test_preds)"
   ]
  },
  {
   "cell_type": "markdown",
   "metadata": {},
   "source": [
    "**Кросс-валидация**"
   ]
  },
  {
   "cell_type": "code",
   "execution_count": 96,
   "metadata": {
    "execution": {
     "iopub.execute_input": "2021-11-02T18:56:41.7738Z",
     "iopub.status.busy": "2021-11-02T18:56:41.773389Z",
     "iopub.status.idle": "2021-11-02T18:56:53.342138Z",
     "shell.execute_reply": "2021-11-02T18:56:53.341008Z",
     "shell.execute_reply.started": "2021-11-02T18:56:41.773768Z"
    }
   },
   "outputs": [
    {
     "data": {
      "text/plain": [
       "array([0.77202109, 0.72850752, 0.75521522])"
      ]
     },
     "execution_count": 96,
     "metadata": {},
     "output_type": "execute_result"
    }
   ],
   "source": [
    "cv_score = cross_val_score(rf_model, X_train, y_train, scoring='r2', cv=KFold(n_splits=3, shuffle=True, random_state=21))\n",
    "cv_score"
   ]
  },
  {
   "cell_type": "code",
   "execution_count": 97,
   "metadata": {
    "execution": {
     "iopub.execute_input": "2021-11-02T18:56:53.343716Z",
     "iopub.status.busy": "2021-11-02T18:56:53.343445Z",
     "iopub.status.idle": "2021-11-02T18:56:53.349758Z",
     "shell.execute_reply": "2021-11-02T18:56:53.348872Z",
     "shell.execute_reply.started": "2021-11-02T18:56:53.343689Z"
    }
   },
   "outputs": [
    {
     "data": {
      "text/plain": [
       "0.7519146113917922"
      ]
     },
     "execution_count": 97,
     "metadata": {},
     "output_type": "execute_result"
    }
   ],
   "source": [
    "cv_score.mean()"
   ]
  },
  {
   "cell_type": "markdown",
   "metadata": {},
   "source": [
    "**Важность признаков**"
   ]
  },
  {
   "cell_type": "code",
   "execution_count": 98,
   "metadata": {
    "execution": {
     "iopub.execute_input": "2021-11-02T18:56:53.353001Z",
     "iopub.status.busy": "2021-11-02T18:56:53.352733Z",
     "iopub.status.idle": "2021-11-02T18:56:53.39303Z",
     "shell.execute_reply": "2021-11-02T18:56:53.392122Z",
     "shell.execute_reply.started": "2021-11-02T18:56:53.352974Z"
    }
   },
   "outputs": [
    {
     "data": {
      "text/html": [
       "<div>\n",
       "<style scoped>\n",
       "    .dataframe tbody tr th:only-of-type {\n",
       "        vertical-align: middle;\n",
       "    }\n",
       "\n",
       "    .dataframe tbody tr th {\n",
       "        vertical-align: top;\n",
       "    }\n",
       "\n",
       "    .dataframe thead th {\n",
       "        text-align: right;\n",
       "    }\n",
       "</style>\n",
       "<table border=\"1\" class=\"dataframe\">\n",
       "  <thead>\n",
       "    <tr style=\"text-align: right;\">\n",
       "      <th></th>\n",
       "      <th>feature_name</th>\n",
       "      <th>importance</th>\n",
       "    </tr>\n",
       "  </thead>\n",
       "  <tbody>\n",
       "    <tr>\n",
       "      <th>23</th>\n",
       "      <td>MedPriceByDistrict</td>\n",
       "      <td>6.495873e-01</td>\n",
       "    </tr>\n",
       "    <tr>\n",
       "      <th>1</th>\n",
       "      <td>Square</td>\n",
       "      <td>1.094844e-01</td>\n",
       "    </tr>\n",
       "    <tr>\n",
       "      <th>2</th>\n",
       "      <td>LifeSquare</td>\n",
       "      <td>3.395818e-02</td>\n",
       "    </tr>\n",
       "    <tr>\n",
       "      <th>6</th>\n",
       "      <td>HouseYear</td>\n",
       "      <td>2.279489e-02</td>\n",
       "    </tr>\n",
       "    <tr>\n",
       "      <th>24</th>\n",
       "      <td>MedPriceByFloorYear</td>\n",
       "      <td>2.201435e-02</td>\n",
       "    </tr>\n",
       "    <tr>\n",
       "      <th>5</th>\n",
       "      <td>HouseFloor</td>\n",
       "      <td>2.132463e-02</td>\n",
       "    </tr>\n",
       "    <tr>\n",
       "      <th>20</th>\n",
       "      <td>DistrictSize</td>\n",
       "      <td>2.030031e-02</td>\n",
       "    </tr>\n",
       "    <tr>\n",
       "      <th>12</th>\n",
       "      <td>Social_3</td>\n",
       "      <td>2.012370e-02</td>\n",
       "    </tr>\n",
       "    <tr>\n",
       "      <th>4</th>\n",
       "      <td>Floor</td>\n",
       "      <td>1.568589e-02</td>\n",
       "    </tr>\n",
       "    <tr>\n",
       "      <th>3</th>\n",
       "      <td>KitchenSquare</td>\n",
       "      <td>1.558498e-02</td>\n",
       "    </tr>\n",
       "    <tr>\n",
       "      <th>7</th>\n",
       "      <td>Ecology_1</td>\n",
       "      <td>1.524781e-02</td>\n",
       "    </tr>\n",
       "    <tr>\n",
       "      <th>11</th>\n",
       "      <td>Social_2</td>\n",
       "      <td>1.448162e-02</td>\n",
       "    </tr>\n",
       "    <tr>\n",
       "      <th>10</th>\n",
       "      <td>Social_1</td>\n",
       "      <td>1.399335e-02</td>\n",
       "    </tr>\n",
       "    <tr>\n",
       "      <th>14</th>\n",
       "      <td>Shops_1</td>\n",
       "      <td>8.342945e-03</td>\n",
       "    </tr>\n",
       "    <tr>\n",
       "      <th>13</th>\n",
       "      <td>Helthcare_2</td>\n",
       "      <td>5.660315e-03</td>\n",
       "    </tr>\n",
       "    <tr>\n",
       "      <th>0</th>\n",
       "      <td>Rooms</td>\n",
       "      <td>5.378953e-03</td>\n",
       "    </tr>\n",
       "    <tr>\n",
       "      <th>17</th>\n",
       "      <td>HouseFloor_outlier</td>\n",
       "      <td>1.937546e-03</td>\n",
       "    </tr>\n",
       "    <tr>\n",
       "      <th>19</th>\n",
       "      <td>LifeSquare_nan</td>\n",
       "      <td>1.037710e-03</td>\n",
       "    </tr>\n",
       "    <tr>\n",
       "      <th>9</th>\n",
       "      <td>Ecology_3</td>\n",
       "      <td>9.605446e-04</td>\n",
       "    </tr>\n",
       "    <tr>\n",
       "      <th>15</th>\n",
       "      <td>Shops_2</td>\n",
       "      <td>9.256076e-04</td>\n",
       "    </tr>\n",
       "    <tr>\n",
       "      <th>22</th>\n",
       "      <td>IsDistrictLarge</td>\n",
       "      <td>8.445775e-04</td>\n",
       "    </tr>\n",
       "    <tr>\n",
       "      <th>8</th>\n",
       "      <td>Ecology_2</td>\n",
       "      <td>2.749133e-04</td>\n",
       "    </tr>\n",
       "    <tr>\n",
       "      <th>16</th>\n",
       "      <td>Rooms_outlier</td>\n",
       "      <td>5.502382e-05</td>\n",
       "    </tr>\n",
       "    <tr>\n",
       "      <th>18</th>\n",
       "      <td>HouseYear_outlier</td>\n",
       "      <td>4.442325e-07</td>\n",
       "    </tr>\n",
       "    <tr>\n",
       "      <th>21</th>\n",
       "      <td>new_district</td>\n",
       "      <td>0.000000e+00</td>\n",
       "    </tr>\n",
       "  </tbody>\n",
       "</table>\n",
       "</div>"
      ],
      "text/plain": [
       "           feature_name    importance\n",
       "23   MedPriceByDistrict  6.495873e-01\n",
       "1                Square  1.094844e-01\n",
       "2            LifeSquare  3.395818e-02\n",
       "6             HouseYear  2.279489e-02\n",
       "24  MedPriceByFloorYear  2.201435e-02\n",
       "5            HouseFloor  2.132463e-02\n",
       "20         DistrictSize  2.030031e-02\n",
       "12             Social_3  2.012370e-02\n",
       "4                 Floor  1.568589e-02\n",
       "3         KitchenSquare  1.558498e-02\n",
       "7             Ecology_1  1.524781e-02\n",
       "11             Social_2  1.448162e-02\n",
       "10             Social_1  1.399335e-02\n",
       "14              Shops_1  8.342945e-03\n",
       "13          Helthcare_2  5.660315e-03\n",
       "0                 Rooms  5.378953e-03\n",
       "17   HouseFloor_outlier  1.937546e-03\n",
       "19       LifeSquare_nan  1.037710e-03\n",
       "9             Ecology_3  9.605446e-04\n",
       "15              Shops_2  9.256076e-04\n",
       "22      IsDistrictLarge  8.445775e-04\n",
       "8             Ecology_2  2.749133e-04\n",
       "16        Rooms_outlier  5.502382e-05\n",
       "18    HouseYear_outlier  4.442325e-07\n",
       "21         new_district  0.000000e+00"
      ]
     },
     "execution_count": 98,
     "metadata": {},
     "output_type": "execute_result"
    }
   ],
   "source": [
    "feature_importances = pd.DataFrame(zip(X_train.columns, rf_model.feature_importances_), \n",
    "                                   columns=['feature_name', 'importance'])\n",
    "\n",
    "feature_importances.sort_values(by='importance', ascending=False)"
   ]
  },
  {
   "cell_type": "markdown",
   "metadata": {},
   "source": [
    "### 8. Прогнозирование на тестовом датасете  <a class='anchor' id='prediction'>\n",
    "\n"
   ]
  }
 ],
 "metadata": {
  "kernelspec": {
   "display_name": "Python 3 (ipykernel)",
   "language": "python",
   "name": "python3"
  },
  "language_info": {
   "codemirror_mode": {
    "name": "ipython",
    "version": 3
   },
   "file_extension": ".py",
   "mimetype": "text/x-python",
   "name": "python",
   "nbconvert_exporter": "python",
   "pygments_lexer": "ipython3",
   "version": "3.9.13"
  }
 },
 "nbformat": 4,
 "nbformat_minor": 4
}