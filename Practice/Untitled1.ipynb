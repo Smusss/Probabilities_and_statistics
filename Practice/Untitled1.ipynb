{
 "cells": [
  {
   "cell_type": "code",
   "execution_count": null,
   "id": "83ec6405",
   "metadata": {},
   "outputs": [],
   "source": [
    "Провести двусторонний тест и ответить на вопрос, есть ли статистически значимые \n",
    "различия между средними 2х нормально распределенных генеральных совокупностей, \n",
    "представленных следующими независимыми выборками:\n",
    "\n",
    "Уровень статистической значимости принять за 5%\n",
    "1.Используйте функцию в Python.\n",
    "2.Имея p-value из функции рассчитать наблюдаемое значение критерия."
   ]
  },
  {
   "cell_type": "code",
   "execution_count": null,
   "id": "3daff122",
   "metadata": {},
   "outputs": [],
   "source": [
    "Нормально распределение - параметрический тест\n",
    "Сигма ГС не известна = > Стьюдент\n",
    "Двухвыборочный критерий\n",
    "Независимые выборки\n",
    "ИТОГО: Ttest ind "
   ]
  },
  {
   "cell_type": "code",
   "execution_count": 4,
   "id": "c6e31523",
   "metadata": {},
   "outputs": [],
   "source": [
    "import numpy as np\n",
    "import matplotlib.pyplot as plt\n",
    "import scipy.stats as stats"
   ]
  },
  {
   "cell_type": "code",
   "execution_count": 5,
   "id": "888c45fa",
   "metadata": {},
   "outputs": [],
   "source": [
    "a = np.array([12, 10, 11, 19, 13, 11, 17, 15, 19, 14, 21, 18, 21, 11, 17, 14, 15, 17, 20, 19])\n",
    "b = np.array([11, 13, 18, 15, 17, 18, 10, 21, 26, 15, 11, 12, 15, 17, 10, 18, 18, 12,21, 20])\n",
    "alpha = 0.05"
   ]
  },
  {
   "cell_type": "code",
   "execution_count": 12,
   "id": "8eb1bf74",
   "metadata": {},
   "outputs": [
    {
     "data": {
      "text/plain": [
       "Ttest_indResult(statistic=-0.1599663264228627, pvalue=0.8737549039369696)"
      ]
     },
     "execution_count": 12,
     "metadata": {},
     "output_type": "execute_result"
    }
   ],
   "source": [
    "pValue = stats.ttest_ind(a, b)[1]\n",
    "stats.ttest_ind(a, b)"
   ]
  },
  {
   "cell_type": "code",
   "execution_count": 9,
   "id": "1887e828",
   "metadata": {
    "scrolled": true
   },
   "outputs": [
    {
     "data": {
      "image/png": "[encoded data removed]",
      "text/plain": [
       "<Figure size 640x480 with 1 Axes>"
      ]
     },
     "metadata": {},
     "output_type": "display_data"
    }
   ],
   "source": [
    "plt.scatter(a, b)\n",
    "plt.show()"
   ]
  },
  {
   "cell_type": "code",
   "execution_count": null,
   "id": "98895ad6",
   "metadata": {},
   "outputs": [],
   "source": [
    "pValue > alpha значит нулевая гипотеза подтверждается (средние равны, различий нет)"
   ]
  },
  {
   "cell_type": "code",
   "execution_count": 13,
   "id": "4b23b672",
   "metadata": {},
   "outputs": [
    {
     "data": {
      "text/plain": [
       "-0.15996632632476554"
      ]
     },
     "execution_count": 13,
     "metadata": {},
     "output_type": "execute_result"
    }
   ],
   "source": [
    "stats.t.ppf(pValue / 2, 2*(len(a) - 1))"
   ]
  },
  {
   "cell_type": "code",
   "execution_count": null,
   "id": "daee5309",
   "metadata": {},
   "outputs": [],
   "source": [
    "Используя функцию stats.ttest_ind, проведите односторонний тест. Проверить ,что мю 1 > мю 2"
   ]
  },
  {
   "cell_type": "code",
   "execution_count": 15,
   "id": "78cba75a",
   "metadata": {},
   "outputs": [
    {
     "data": {
      "text/plain": [
       "Ttest_indResult(statistic=-0.1599663264228627, pvalue=0.5631225480315152)"
      ]
     },
     "execution_count": 15,
     "metadata": {},
     "output_type": "execute_result"
    }
   ],
   "source": [
    "stats.ttest_ind(a, b,alternative='greater', equal_var = True) # правосторонее"
   ]
  },
  {
   "cell_type": "code",
   "execution_count": 16,
   "id": "90e2976e",
   "metadata": {},
   "outputs": [
    {
     "data": {
      "text/plain": [
       "Ttest_indResult(statistic=-0.1599663264228627, pvalue=0.4368774519684848)"
      ]
     },
     "execution_count": 16,
     "metadata": {},
     "output_type": "execute_result"
    }
   ],
   "source": [
    "stats.ttest_ind(a, b,alternative='less', equal_var = True) # левосторонняя"
   ]
  },
  {
   "cell_type": "code",
   "execution_count": null,
   "id": "4584ed0a",
   "metadata": {},
   "outputs": [],
   "source": []
  }
 ],
 "metadata": {
  "kernelspec": {
   "display_name": "Python 3 (ipykernel)",
   "language": "python",
   "name": "python3"
  },
  "language_info": {
   "codemirror_mode": {
    "name": "ipython",
    "version": 3
   },
   "file_extension": ".py",
   "mimetype": "text/x-python",
   "name": "python",
   "nbconvert_exporter": "python",
   "pygments_lexer": "ipython3",
   "version": "3.11.2"
  }
 },
 "nbformat": 4,
 "nbformat_minor": 5
}
