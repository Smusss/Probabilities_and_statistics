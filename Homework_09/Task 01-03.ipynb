{
 "cells": [
  {
   "cell_type": "code",
   "execution_count": 14,
   "id": "b43ef7cb",
   "metadata": {
    "collapsed": true
   },
   "outputs": [
    {
     "ename": "SyntaxError",
     "evalue": "invalid syntax (767551936.py, line 1)",
     "output_type": "error",
     "traceback": [
      "\u001b[1;36m  Cell \u001b[1;32mIn[14], line 1\u001b[1;36m\u001b[0m\n\u001b[1;33m    Задача 1 Даны значения величины заработной платы заемщиков банка (zp) и значения их\u001b[0m\n\u001b[1;37m           ^\u001b[0m\n\u001b[1;31mSyntaxError\u001b[0m\u001b[1;31m:\u001b[0m invalid syntax\n"
     ]
    }
   ],
   "source": [
    "Задача 1 Даны значения величины заработной платы заемщиков банка (zp) и значения их\n",
    "поведенческого кредитного скоринга (ks): zp = [35, 45, 190, 200, 40, 70, 54, 150, 120, 110], ks = [401, 574, 874, 919, 459, 739, 653, 902, 746, 832]. Используя математические\n",
    "операции, посчитать коэффициенты линейной регрессии, приняв за X заработную плату (то есть, zp - признак), \n",
    "а за y - значения скорингового балла (то есть, ks - целевая переменная). \n",
    "Произвести расчет как с использованием intercept, так и без."
   ]
  },
  {
   "cell_type": "code",
   "execution_count": 4,
   "id": "65376e7c",
   "metadata": {},
   "outputs": [],
   "source": [
    "import numpy as np\n",
    "import matplotlib.pyplot as plt\n",
    "import scipy.stats as stats\n",
    "from sklearn.linear_model import LinearRegression"
   ]
  },
  {
   "cell_type": "code",
   "execution_count": 5,
   "id": "95cf8258",
   "metadata": {},
   "outputs": [],
   "source": [
    "zp = np.array([35, 45, 190, 200, 40, 70, 54, 150, 120, 110])\n",
    "ks = np.array([401, 574, 874, 919, 459, 739, 653, 902, 746, 832])"
   ]
  },
  {
   "cell_type": "code",
   "execution_count": 6,
   "id": "cdd97c16",
   "metadata": {},
   "outputs": [],
   "source": [
    "# ручной расчет\n",
    "n = len(zp)\n",
    "b1 = (n* np.sum(zp*ks) - np.sum(zp)*np.sum(ks)) / (n * np.sum(zp**2) - np.sum(zp)**2)\n",
    "b0 = np.mean(ks) - b1 * np.mean(zp)\n",
    "ks_pred = b0 + b1 * zp\n",
    "mse = np.sum((ks - ks_pred)**2) / n"
   ]
  },
  {
   "cell_type": "code",
   "execution_count": 7,
   "id": "87c59804",
   "metadata": {},
   "outputs": [
    {
     "name": "stdout",
     "output_type": "stream",
     "text": [
      "444.17735732435955 2.6205388824027653 6470.414201176658\n",
      "[535.89621821 562.10160703 942.07974498 968.2851338  548.99891262\n",
      " 627.61507909 585.68645697 837.25818968 758.64202321 732.43663439]\n"
     ]
    }
   ],
   "source": [
    "print(b0, b1, mse)\n",
    "print(ks_pred)"
   ]
  },
  {
   "cell_type": "code",
   "execution_count": 9,
   "id": "5bf7ea26",
   "metadata": {},
   "outputs": [
    {
     "name": "stdout",
     "output_type": "stream",
     "text": [
      "444.17735732435943\n",
      "[2.62053888]\n"
     ]
    }
   ],
   "source": [
    "# проверка\n",
    "model = LinearRegression()\n",
    "zp_resh = zp.reshape(-1,1)\n",
    "regres = model.fit(zp_resh, ks)\n",
    "print(regres.intercept_)\n",
    "print(regres.coef_)"
   ]
  },
  {
   "cell_type": "code",
   "execution_count": null,
   "id": "d0c8d926",
   "metadata": {},
   "outputs": [],
   "source": [
    "Задача 2 Посчитать коэффициент линейной регрессии при заработной плате (zp), используя градиентный спуск (без intercept)."
   ]
  },
  {
   "cell_type": "code",
   "execution_count": 61,
   "id": "4a0402fa",
   "metadata": {},
   "outputs": [
    {
     "name": "stdout",
     "output_type": "stream",
     "text": [
      "1e-06\n"
     ]
    }
   ],
   "source": [
    "alpha = 0.000001\n",
    "print(alpha)\n",
    "b1 = 5.889820420122303\n",
    "k = 300"
   ]
  },
  {
   "cell_type": "code",
   "execution_count": 62,
   "id": "05c4b20e",
   "metadata": {},
   "outputs": [
    {
     "name": "stdout",
     "output_type": "stream",
     "text": [
      "Iteration 0: b1 = 5.8898204201225886, mse = 56516.8584157194\n",
      "Iteration 10: b1 = 5.889820420125051, mse = 56516.85841571941\n",
      "Iteration 20: b1 = 5.889820420126912, mse = 56516.8584157194\n",
      "Iteration 30: b1 = 5.889820420128319, mse = 56516.8584157194\n",
      "Iteration 40: b1 = 5.889820420129384, mse = 56516.85841571941\n",
      "Iteration 50: b1 = 5.8898204201301905, mse = 56516.8584157194\n",
      "Iteration 60: b1 = 5.889820420130798, mse = 56516.85841571941\n",
      "Iteration 70: b1 = 5.889820420131259, mse = 56516.8584157194\n",
      "Iteration 80: b1 = 5.889820420131607, mse = 56516.85841571941\n",
      "Iteration 90: b1 = 5.889820420131872, mse = 56516.8584157194\n",
      "Iteration 100: b1 = 5.889820420132071, mse = 56516.8584157194\n",
      "Iteration 110: b1 = 5.889820420132222, mse = 56516.85841571941\n",
      "Iteration 120: b1 = 5.889820420132335, mse = 56516.85841571943\n",
      "Iteration 130: b1 = 5.8898204201324225, mse = 56516.8584157194\n",
      "Iteration 140: b1 = 5.889820420132487, mse = 56516.8584157194\n",
      "Iteration 150: b1 = 5.889820420132536, mse = 56516.85841571941\n",
      "Iteration 160: b1 = 5.8898204201325735, mse = 56516.85841571941\n",
      "Iteration 170: b1 = 5.889820420132601, mse = 56516.85841571939\n",
      "Iteration 180: b1 = 5.889820420132621, mse = 56516.85841571941\n",
      "Iteration 190: b1 = 5.889820420132639, mse = 56516.8584157194\n",
      "Iteration 200: b1 = 5.889820420132649, mse = 56516.85841571941\n",
      "Iteration 210: b1 = 5.889820420132658, mse = 56516.85841571941\n",
      "Iteration 220: b1 = 5.889820420132667, mse = 56516.8584157194\n",
      "Iteration 230: b1 = 5.889820420132673, mse = 56516.85841571943\n",
      "Iteration 240: b1 = 5.889820420132673, mse = 56516.85841571943\n",
      "Iteration 250: b1 = 5.889820420132673, mse = 56516.85841571943\n",
      "Iteration 260: b1 = 5.889820420132673, mse = 56516.85841571943\n",
      "Iteration 270: b1 = 5.889820420132673, mse = 56516.85841571943\n",
      "Iteration 280: b1 = 5.889820420132673, mse = 56516.85841571943\n",
      "Iteration 290: b1 = 5.889820420132673, mse = 56516.85841571943\n"
     ]
    }
   ],
   "source": [
    "for i in range(k):\n",
    "    b1 -= alpha * (2/n) * np.sum((b1 * zp - ks) * zp)\n",
    "    mse = np.sum((b1 * zp - ks)**2) / n\n",
    "    if i % 10 == 0:\n",
    "        print (f'Iteration {i}: b1 = {b1}, mse = {mse}')"
   ]
  },
  {
   "cell_type": "code",
   "execution_count": 63,
   "id": "193fe1d0",
   "metadata": {},
   "outputs": [
    {
     "name": "stdout",
     "output_type": "stream",
     "text": [
      "5.889820420132673\n"
     ]
    }
   ],
   "source": [
    "print(b1)"
   ]
  },
  {
   "cell_type": "code",
   "execution_count": null,
   "id": "e605cb8c",
   "metadata": {},
   "outputs": [],
   "source": [
    "Задача 3 (Дополнительно) Произвести вычисления как в пункте 2, но с вычислением intercept. Учесть, что\n",
    "изменение коэффициентов должно производиться\n",
    "на каждом шаге одновременно (то есть изменение одного коэффициента не должно\n",
    "влиять на изменение другого во время одной итерации)."
   ]
  },
  {
   "cell_type": "code",
   "execution_count": null,
   "id": "8bdceccd",
   "metadata": {},
   "outputs": [],
   "source": []
  },
  {
   "cell_type": "code",
   "execution_count": null,
   "id": "1d8dbf83",
   "metadata": {},
   "outputs": [],
   "source": []
  },
  {
   "cell_type": "code",
   "execution_count": null,
   "id": "e1a132c2",
   "metadata": {},
   "outputs": [],
   "source": []
  }
 ],
 "metadata": {
  "kernelspec": {
   "display_name": "Python 3 (ipykernel)",
   "language": "python",
   "name": "python3"
  },
  "language_info": {
   "codemirror_mode": {
    "name": "ipython",
    "version": 3
   },
   "file_extension": ".py",
   "mimetype": "text/x-python",
   "name": "python",
   "nbconvert_exporter": "python",
   "pygments_lexer": "ipython3",
   "version": "3.11.2"
  }
 },
 "nbformat": 4,
 "nbformat_minor": 5
}
