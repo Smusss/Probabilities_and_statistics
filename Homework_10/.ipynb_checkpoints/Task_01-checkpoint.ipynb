{
 "cells": [
  {
   "cell_type": "code",
   "execution_count": null,
   "id": "53f514f3",
   "metadata": {},
   "outputs": [],
   "source": [
    "Провести дисперсионный анализ для определения того, \n",
    "есть ли различия среднего роста среди взрослых футболистов, хоккеистов и штангистов.\n",
    "Даны значения роста в трех группах случайно выбранных спортсменов:\n",
    "Футболисты: 173, 175, 180, 178, 177, 185, 183, 182.\n",
    "Хоккеисты: 177, 179, 180, 188, 177, 172, 171, 184, 180.\n",
    "Штангисты: 172, 173, 169, 177, 166, 180, 178, 177, 172, 166, 170."
   ]
  },
  {
   "cell_type": "code",
   "execution_count": 26,
   "id": "b37ff588",
   "metadata": {},
   "outputs": [],
   "source": [
    "import numpy as np\n",
    "import pandas as pd\n",
    "import scipy.stats as stats"
   ]
  },
  {
   "cell_type": "code",
   "execution_count": 27,
   "id": "3aac5c69",
   "metadata": {},
   "outputs": [],
   "source": [
    "football = np.array([173, 175, 180, 178, 177, 185, 183, 182])\n",
    "hokkey =  np.array([177, 179, 180, 188, 177, 172, 171, 184, 180])\n",
    "heavy =  np.array([172, 173, 169, 177, 166, 180, 178, 177, 172, 166, 170])\n",
    "k = 3\n",
    "total = np.concatenate((football, hokkey, heavy), axis=0)"
   ]
  },
  {
   "cell_type": "code",
   "execution_count": 33,
   "id": "1bbf8be5",
   "metadata": {},
   "outputs": [
    {
     "name": "stdout",
     "output_type": "stream",
     "text": [
      "5.500053450812599\n",
      "степени свободы числителя и знаменателя для поиска табличного значения: 2, 25\n"
     ]
    }
   ],
   "source": [
    "#РАСЧЕТ ПО ФОРМУЛАМ\n",
    "# находим средние по факторам и общее\n",
    "foot_m = np.mean(football)\n",
    "hokk_m = np.mean(hokkey)\n",
    "heav_m = np.mean(heavy)\n",
    "total_m = np.mean(total)\n",
    "\n",
    "# находим сумму квадратов отклонений всех наблюдений от общего среднего - общая дисперсия\n",
    "St = 0\n",
    "for i in total:\n",
    "    St += (i - total_m)**2\n",
    "\n",
    "# находим сумму квадратов отклонений групповых значений от общего среднего\n",
    "Sf = (foot_m - total_m)**2 * len(football) + (hokk_m - total_m)**2 * len(hokkey) + (heav_m - total_m)**2 * len(heavy)\n",
    "\n",
    "# находим сумму квадратов отклонений внутри групп - остаточная дисперсия\n",
    "Sfoot, Shokk, Sheav = 0, 0, 0\n",
    "for i in football: Sfoot += (i - foot_m)**2\n",
    "for i in hokkey: Shokk += (i - hokk_m)**2\n",
    "for i in heavy: Sheav += (i - heav_m)**2\n",
    "Sost = Sfoot + Shokk + Sheav\n",
    "\n",
    "sigma_f = Sf / (k - 1)\n",
    "sigma_ost = Sost / (len(total) - k)\n",
    "\n",
    "Fn = sigma_f / sigma_ost\n",
    "\n",
    "print(Fn)\n",
    "print(f'степени свободы числителя и знаменателя для поиска табличного значения: {k-1}, {len(total) - k}')"
   ]
  },
  {
   "cell_type": "code",
   "execution_count": 29,
   "id": "aeeb5e92",
   "metadata": {},
   "outputs": [
    {
     "name": "stdout",
     "output_type": "stream",
     "text": [
      "F_onewayResult(statistic=5.500053450812596, pvalue=0.010482206918698693)\n"
     ]
    }
   ],
   "source": [
    "#РАСЧЕТ С ПОМОЩЬЮ ФУНКЦИИ\n",
    "f = stats.f_oneway(football, hokkey, heavy)\n",
    "print(f)"
   ]
  },
  {
   "cell_type": "code",
   "execution_count": 30,
   "id": "9413355b",
   "metadata": {
    "collapsed": true
   },
   "outputs": [
    {
     "name": "stdout",
     "output_type": "stream",
     "text": [
      "0.015077919449504096 0.012480604466032386 -0.02117716325366603 176.46428571428572\n"
     ]
    }
   ],
   "source": [
    "# Учитывая полученное значение pvalue=0.010482206918698693 делаем вывод о том, \n",
    "# что значимых статистических различий нет при условии уровня статистической значимости не менее 0,011(1,1%)"
   ]
  }
 ],
 "metadata": {
  "kernelspec": {
   "display_name": "Python 3 (ipykernel)",
   "language": "python",
   "name": "python3"
  },
  "language_info": {
   "codemirror_mode": {
    "name": "ipython",
    "version": 3
   },
   "file_extension": ".py",
   "mimetype": "text/x-python",
   "name": "python",
   "nbconvert_exporter": "python",
   "pygments_lexer": "ipython3",
   "version": "3.11.2"
  }
 },
 "nbformat": 4,
 "nbformat_minor": 5
}
